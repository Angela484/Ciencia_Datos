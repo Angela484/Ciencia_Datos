{
 "cells": [
  {
   "cell_type": "markdown",
   "id": "31322a01-9fce-4b9c-b632-3b3b97088f51",
   "metadata": {},
   "source": [
    "# <p><center> **GUIA 1**</center></p>"
   ]
  },
  {
   "cell_type": "markdown",
   "id": "195b0fdc-a369-4e9c-9d11-1be2c94410d9",
   "metadata": {},
   "source": [
    "## <p><center> **ACTIVIDAD 1**</center></p>  \n",
    "### Reconocer los tipos de datos de las variables con las que se cuenta y aplicar las funciones correspondientes a ellas."
   ]
  },
  {
   "cell_type": "markdown",
   "id": "3309c016-5a80-43fc-94e8-f8c4a363ba6d",
   "metadata": {},
   "source": [
    "##### cargue y lectura del df"
   ]
  },
  {
   "cell_type": "code",
   "execution_count": 29,
   "id": "58462514-084d-47ee-b546-261a9fa88997",
   "metadata": {},
   "outputs": [],
   "source": [
    "#Importación de la librería pandas\n",
    "import pandas as pd"
   ]
  },
  {
   "cell_type": "code",
   "execution_count": 17,
   "id": "17ba100a-471e-4135-b037-85b2a6c1c4e8",
   "metadata": {},
   "outputs": [],
   "source": [
    "#lectura de la base de datos\n",
    "df = pd.read_csv(\"census_income.csv\")"
   ]
  },
  {
   "cell_type": "markdown",
   "id": "47b1718c-5c1c-43e7-b310-3662766091c3",
   "metadata": {},
   "source": [
    "##### Caracterización inicial del df.  \n",
    "Se realizan una caracterización inicial en la que se identifica cantidad de filas, columnas, tipos de variables (enteros, flotantes, string y valoes no nulos) y sus respectivos nombres. tambien, en las variables numericas usando el método describe se identifican descriptores como conte, media, entre otros."
   ]
  },
  {
   "cell_type": "code",
   "execution_count": 53,
   "id": "1a246e74-3816-4e3c-b76f-27ecb445e3c9",
   "metadata": {},
   "outputs": [
    {
     "data": {
      "text/plain": [
       "(48842, 16)"
      ]
     },
     "execution_count": 53,
     "metadata": {},
     "output_type": "execute_result"
    }
   ],
   "source": [
    "#conteo de las filas y columnas dentro de la variable\n",
    "df.shape"
   ]
  },
  {
   "cell_type": "code",
   "execution_count": 9,
   "id": "3b5ded04-f8ae-43ec-8e68-8c514cfd0a5a",
   "metadata": {},
   "outputs": [
    {
     "data": {
      "text/plain": [
       "16"
      ]
     },
     "execution_count": 9,
     "metadata": {},
     "output_type": "execute_result"
    }
   ],
   "source": [
    "#cantidad de columnas\n",
    "df.shape[1]"
   ]
  },
  {
   "cell_type": "code",
   "execution_count": 11,
   "id": "e3d36f5f-7936-438e-9002-c771757a5c31",
   "metadata": {},
   "outputs": [
    {
     "data": {
      "text/plain": [
       "48842"
      ]
     },
     "execution_count": 11,
     "metadata": {},
     "output_type": "execute_result"
    }
   ],
   "source": [
    "# Cantidad de filas\n",
    "len(df)"
   ]
  },
  {
   "cell_type": "code",
   "execution_count": 13,
   "id": "c495bc7e-c5b8-4f5c-8bdb-ccd9cf26b0d8",
   "metadata": {},
   "outputs": [
    {
     "data": {
      "text/plain": [
       "Index(['Unnamed: 0', 'age', 'workclass', 'fnlwgt', 'education',\n",
       "       'education-num', 'marital-status', 'occupation', 'relationship', 'race',\n",
       "       'sex', 'capital-gain', 'capital-loss', 'hours-per-week',\n",
       "       'native-country', 'income'],\n",
       "      dtype='object')"
      ]
     },
     "execution_count": 13,
     "metadata": {},
     "output_type": "execute_result"
    }
   ],
   "source": [
    "#Verificación de las columnas con el nombre de la variable\n",
    "df.columns"
   ]
  },
  {
   "cell_type": "code",
   "execution_count": 276,
   "id": "e7859d00-ac2a-468b-90d1-322a285ffe9e",
   "metadata": {},
   "outputs": [
    {
     "data": {
      "text/html": [
       "<div>\n",
       "<style scoped>\n",
       "    .dataframe tbody tr th:only-of-type {\n",
       "        vertical-align: middle;\n",
       "    }\n",
       "\n",
       "    .dataframe tbody tr th {\n",
       "        vertical-align: top;\n",
       "    }\n",
       "\n",
       "    .dataframe thead th {\n",
       "        text-align: right;\n",
       "    }\n",
       "</style>\n",
       "<table border=\"1\" class=\"dataframe\">\n",
       "  <thead>\n",
       "    <tr style=\"text-align: right;\">\n",
       "      <th></th>\n",
       "      <th>Unnamed: 0</th>\n",
       "      <th>age</th>\n",
       "      <th>workclass</th>\n",
       "      <th>fnlwgt</th>\n",
       "      <th>education</th>\n",
       "      <th>education-num</th>\n",
       "      <th>marital-status</th>\n",
       "      <th>occupation</th>\n",
       "      <th>relationship</th>\n",
       "      <th>race</th>\n",
       "      <th>sex</th>\n",
       "      <th>capital-gain</th>\n",
       "      <th>capital-loss</th>\n",
       "      <th>hours-per-week</th>\n",
       "      <th>native-country</th>\n",
       "      <th>income</th>\n",
       "    </tr>\n",
       "  </thead>\n",
       "  <tbody>\n",
       "    <tr>\n",
       "      <th>0</th>\n",
       "      <td>0</td>\n",
       "      <td>39</td>\n",
       "      <td>State-gov</td>\n",
       "      <td>77516</td>\n",
       "      <td>Bachelors</td>\n",
       "      <td>13</td>\n",
       "      <td>Never-married</td>\n",
       "      <td>Adm-clerical</td>\n",
       "      <td>Not-in-family</td>\n",
       "      <td>White</td>\n",
       "      <td>Male</td>\n",
       "      <td>2174</td>\n",
       "      <td>0</td>\n",
       "      <td>40</td>\n",
       "      <td>United-States</td>\n",
       "      <td>&lt;=50K</td>\n",
       "    </tr>\n",
       "    <tr>\n",
       "      <th>1</th>\n",
       "      <td>1</td>\n",
       "      <td>50</td>\n",
       "      <td>Self-emp-not-inc</td>\n",
       "      <td>83311</td>\n",
       "      <td>Bachelors</td>\n",
       "      <td>13</td>\n",
       "      <td>Married-civ-spouse</td>\n",
       "      <td>Exec-managerial</td>\n",
       "      <td>Husband</td>\n",
       "      <td>White</td>\n",
       "      <td>Male</td>\n",
       "      <td>0</td>\n",
       "      <td>0</td>\n",
       "      <td>13</td>\n",
       "      <td>United-States</td>\n",
       "      <td>&lt;=50K</td>\n",
       "    </tr>\n",
       "    <tr>\n",
       "      <th>2</th>\n",
       "      <td>2</td>\n",
       "      <td>38</td>\n",
       "      <td>Private</td>\n",
       "      <td>215646</td>\n",
       "      <td>HS-grad</td>\n",
       "      <td>9</td>\n",
       "      <td>Divorced</td>\n",
       "      <td>Handlers-cleaners</td>\n",
       "      <td>Not-in-family</td>\n",
       "      <td>White</td>\n",
       "      <td>Male</td>\n",
       "      <td>0</td>\n",
       "      <td>0</td>\n",
       "      <td>40</td>\n",
       "      <td>United-States</td>\n",
       "      <td>&lt;=50K</td>\n",
       "    </tr>\n",
       "    <tr>\n",
       "      <th>3</th>\n",
       "      <td>3</td>\n",
       "      <td>53</td>\n",
       "      <td>Private</td>\n",
       "      <td>234721</td>\n",
       "      <td>11th</td>\n",
       "      <td>7</td>\n",
       "      <td>Married-civ-spouse</td>\n",
       "      <td>Handlers-cleaners</td>\n",
       "      <td>Husband</td>\n",
       "      <td>Black</td>\n",
       "      <td>Male</td>\n",
       "      <td>0</td>\n",
       "      <td>0</td>\n",
       "      <td>40</td>\n",
       "      <td>United-States</td>\n",
       "      <td>&lt;=50K</td>\n",
       "    </tr>\n",
       "    <tr>\n",
       "      <th>4</th>\n",
       "      <td>4</td>\n",
       "      <td>28</td>\n",
       "      <td>Private</td>\n",
       "      <td>338409</td>\n",
       "      <td>Bachelors</td>\n",
       "      <td>13</td>\n",
       "      <td>Married-civ-spouse</td>\n",
       "      <td>Prof-specialty</td>\n",
       "      <td>Wife</td>\n",
       "      <td>Black</td>\n",
       "      <td>Female</td>\n",
       "      <td>0</td>\n",
       "      <td>0</td>\n",
       "      <td>40</td>\n",
       "      <td>Cuba</td>\n",
       "      <td>&lt;=50K</td>\n",
       "    </tr>\n",
       "  </tbody>\n",
       "</table>\n",
       "</div>"
      ],
      "text/plain": [
       "   Unnamed: 0  age         workclass  fnlwgt  education  education-num  \\\n",
       "0           0   39         State-gov   77516  Bachelors             13   \n",
       "1           1   50  Self-emp-not-inc   83311  Bachelors             13   \n",
       "2           2   38           Private  215646    HS-grad              9   \n",
       "3           3   53           Private  234721       11th              7   \n",
       "4           4   28           Private  338409  Bachelors             13   \n",
       "\n",
       "       marital-status         occupation   relationship   race     sex  \\\n",
       "0       Never-married       Adm-clerical  Not-in-family  White    Male   \n",
       "1  Married-civ-spouse    Exec-managerial        Husband  White    Male   \n",
       "2            Divorced  Handlers-cleaners  Not-in-family  White    Male   \n",
       "3  Married-civ-spouse  Handlers-cleaners        Husband  Black    Male   \n",
       "4  Married-civ-spouse     Prof-specialty           Wife  Black  Female   \n",
       "\n",
       "   capital-gain  capital-loss  hours-per-week native-country income  \n",
       "0          2174             0              40  United-States  <=50K  \n",
       "1             0             0              13  United-States  <=50K  \n",
       "2             0             0              40  United-States  <=50K  \n",
       "3             0             0              40  United-States  <=50K  \n",
       "4             0             0              40           Cuba  <=50K  "
      ]
     },
     "execution_count": 276,
     "metadata": {},
     "output_type": "execute_result"
    }
   ],
   "source": [
    "# Verificación inicial del contenido de la base de datos, con este metodo traigo las primeras cinco filas de la base de datos.\n",
    "df.head(5)"
   ]
  },
  {
   "cell_type": "code",
   "execution_count": 19,
   "id": "69885834-7e74-4b56-a501-71b5a3fa5c23",
   "metadata": {},
   "outputs": [
    {
     "name": "stdout",
     "output_type": "stream",
     "text": [
      "<class 'pandas.core.frame.DataFrame'>\n",
      "RangeIndex: 48842 entries, 0 to 48841\n",
      "Data columns (total 16 columns):\n",
      " #   Column          Non-Null Count  Dtype \n",
      "---  ------          --------------  ----- \n",
      " 0   Unnamed: 0      48842 non-null  int64 \n",
      " 1   age             48842 non-null  int64 \n",
      " 2   workclass       47879 non-null  object\n",
      " 3   fnlwgt          48842 non-null  int64 \n",
      " 4   education       48842 non-null  object\n",
      " 5   education-num   48842 non-null  int64 \n",
      " 6   marital-status  48842 non-null  object\n",
      " 7   occupation      47876 non-null  object\n",
      " 8   relationship    48842 non-null  object\n",
      " 9   race            48842 non-null  object\n",
      " 10  sex             48842 non-null  object\n",
      " 11  capital-gain    48842 non-null  int64 \n",
      " 12  capital-loss    48842 non-null  int64 \n",
      " 13  hours-per-week  48842 non-null  int64 \n",
      " 14  native-country  48568 non-null  object\n",
      " 15  income          48842 non-null  object\n",
      "dtypes: int64(7), object(9)\n",
      "memory usage: 6.0+ MB\n"
     ]
    }
   ],
   "source": [
    "#información de cada una de las variables en cuanto a la cantidad de datos y tipo de datos en cada una de ellas\n",
    "df.info()"
   ]
  },
  {
   "cell_type": "code",
   "execution_count": 109,
   "id": "c1e49ff9-a0c9-4b6d-9893-5acc29551d84",
   "metadata": {},
   "outputs": [
    {
     "data": {
      "text/html": [
       "<div>\n",
       "<style scoped>\n",
       "    .dataframe tbody tr th:only-of-type {\n",
       "        vertical-align: middle;\n",
       "    }\n",
       "\n",
       "    .dataframe tbody tr th {\n",
       "        vertical-align: top;\n",
       "    }\n",
       "\n",
       "    .dataframe thead th {\n",
       "        text-align: right;\n",
       "    }\n",
       "</style>\n",
       "<table border=\"1\" class=\"dataframe\">\n",
       "  <thead>\n",
       "    <tr style=\"text-align: right;\">\n",
       "      <th></th>\n",
       "      <th>Unnamed: 0</th>\n",
       "      <th>age</th>\n",
       "      <th>fnlwgt</th>\n",
       "      <th>education-num</th>\n",
       "      <th>capital-gain</th>\n",
       "      <th>capital-loss</th>\n",
       "      <th>hours-per-week</th>\n",
       "    </tr>\n",
       "  </thead>\n",
       "  <tbody>\n",
       "    <tr>\n",
       "      <th>count</th>\n",
       "      <td>48842.000000</td>\n",
       "      <td>48842.000000</td>\n",
       "      <td>4.884200e+04</td>\n",
       "      <td>48842.000000</td>\n",
       "      <td>48842.000000</td>\n",
       "      <td>48842.000000</td>\n",
       "      <td>48842.000000</td>\n",
       "    </tr>\n",
       "    <tr>\n",
       "      <th>mean</th>\n",
       "      <td>24420.500000</td>\n",
       "      <td>38.643585</td>\n",
       "      <td>1.896641e+05</td>\n",
       "      <td>10.078089</td>\n",
       "      <td>1079.067626</td>\n",
       "      <td>87.502314</td>\n",
       "      <td>40.422382</td>\n",
       "    </tr>\n",
       "    <tr>\n",
       "      <th>std</th>\n",
       "      <td>14099.615261</td>\n",
       "      <td>13.710510</td>\n",
       "      <td>1.056040e+05</td>\n",
       "      <td>2.570973</td>\n",
       "      <td>7452.019058</td>\n",
       "      <td>403.004552</td>\n",
       "      <td>12.391444</td>\n",
       "    </tr>\n",
       "    <tr>\n",
       "      <th>min</th>\n",
       "      <td>0.000000</td>\n",
       "      <td>17.000000</td>\n",
       "      <td>1.228500e+04</td>\n",
       "      <td>1.000000</td>\n",
       "      <td>0.000000</td>\n",
       "      <td>0.000000</td>\n",
       "      <td>1.000000</td>\n",
       "    </tr>\n",
       "    <tr>\n",
       "      <th>25%</th>\n",
       "      <td>12210.250000</td>\n",
       "      <td>28.000000</td>\n",
       "      <td>1.175505e+05</td>\n",
       "      <td>9.000000</td>\n",
       "      <td>0.000000</td>\n",
       "      <td>0.000000</td>\n",
       "      <td>40.000000</td>\n",
       "    </tr>\n",
       "    <tr>\n",
       "      <th>50%</th>\n",
       "      <td>24420.500000</td>\n",
       "      <td>37.000000</td>\n",
       "      <td>1.781445e+05</td>\n",
       "      <td>10.000000</td>\n",
       "      <td>0.000000</td>\n",
       "      <td>0.000000</td>\n",
       "      <td>40.000000</td>\n",
       "    </tr>\n",
       "    <tr>\n",
       "      <th>75%</th>\n",
       "      <td>36630.750000</td>\n",
       "      <td>48.000000</td>\n",
       "      <td>2.376420e+05</td>\n",
       "      <td>12.000000</td>\n",
       "      <td>0.000000</td>\n",
       "      <td>0.000000</td>\n",
       "      <td>45.000000</td>\n",
       "    </tr>\n",
       "    <tr>\n",
       "      <th>max</th>\n",
       "      <td>48841.000000</td>\n",
       "      <td>90.000000</td>\n",
       "      <td>1.490400e+06</td>\n",
       "      <td>16.000000</td>\n",
       "      <td>99999.000000</td>\n",
       "      <td>4356.000000</td>\n",
       "      <td>99.000000</td>\n",
       "    </tr>\n",
       "  </tbody>\n",
       "</table>\n",
       "</div>"
      ],
      "text/plain": [
       "         Unnamed: 0           age        fnlwgt  education-num  capital-gain  \\\n",
       "count  48842.000000  48842.000000  4.884200e+04   48842.000000  48842.000000   \n",
       "mean   24420.500000     38.643585  1.896641e+05      10.078089   1079.067626   \n",
       "std    14099.615261     13.710510  1.056040e+05       2.570973   7452.019058   \n",
       "min        0.000000     17.000000  1.228500e+04       1.000000      0.000000   \n",
       "25%    12210.250000     28.000000  1.175505e+05       9.000000      0.000000   \n",
       "50%    24420.500000     37.000000  1.781445e+05      10.000000      0.000000   \n",
       "75%    36630.750000     48.000000  2.376420e+05      12.000000      0.000000   \n",
       "max    48841.000000     90.000000  1.490400e+06      16.000000  99999.000000   \n",
       "\n",
       "       capital-loss  hours-per-week  \n",
       "count  48842.000000    48842.000000  \n",
       "mean      87.502314       40.422382  \n",
       "std      403.004552       12.391444  \n",
       "min        0.000000        1.000000  \n",
       "25%        0.000000       40.000000  \n",
       "50%        0.000000       40.000000  \n",
       "75%        0.000000       45.000000  \n",
       "max     4356.000000       99.000000  "
      ]
     },
     "execution_count": 109,
     "metadata": {},
     "output_type": "execute_result"
    }
   ],
   "source": [
    "#metodo en el cuál solamente se tienen en cuenta las variables cuantitativas \n",
    "#y se realizan diversos cálculos, como conteo, media, desviación, minimo, maximo, percentiles.\n",
    "df.describe()"
   ]
  },
  {
   "cell_type": "code",
   "execution_count": 280,
   "id": "f0375109-19bd-42dc-a7c3-0a42affa26e1",
   "metadata": {},
   "outputs": [
    {
     "data": {
      "text/html": [
       "<div>\n",
       "<style scoped>\n",
       "    .dataframe tbody tr th:only-of-type {\n",
       "        vertical-align: middle;\n",
       "    }\n",
       "\n",
       "    .dataframe tbody tr th {\n",
       "        vertical-align: top;\n",
       "    }\n",
       "\n",
       "    .dataframe thead th {\n",
       "        text-align: right;\n",
       "    }\n",
       "</style>\n",
       "<table border=\"1\" class=\"dataframe\">\n",
       "  <thead>\n",
       "    <tr style=\"text-align: right;\">\n",
       "      <th></th>\n",
       "      <th>Unnamed: 0</th>\n",
       "      <th>age</th>\n",
       "      <th>workclass</th>\n",
       "      <th>fnlwgt</th>\n",
       "      <th>education</th>\n",
       "      <th>education-num</th>\n",
       "      <th>marital-status</th>\n",
       "      <th>occupation</th>\n",
       "      <th>relationship</th>\n",
       "      <th>race</th>\n",
       "      <th>sex</th>\n",
       "      <th>capital-gain</th>\n",
       "      <th>capital-loss</th>\n",
       "      <th>hours-per-week</th>\n",
       "      <th>native-country</th>\n",
       "      <th>income</th>\n",
       "    </tr>\n",
       "  </thead>\n",
       "  <tbody>\n",
       "    <tr>\n",
       "      <th>23470</th>\n",
       "      <td>23470</td>\n",
       "      <td>27</td>\n",
       "      <td>Private</td>\n",
       "      <td>271603</td>\n",
       "      <td>7th-8th</td>\n",
       "      <td>4</td>\n",
       "      <td>Never-married</td>\n",
       "      <td>Other-service</td>\n",
       "      <td>Not-in-family</td>\n",
       "      <td>White</td>\n",
       "      <td>Male</td>\n",
       "      <td>0</td>\n",
       "      <td>0</td>\n",
       "      <td>24</td>\n",
       "      <td>?</td>\n",
       "      <td>&lt;=50K</td>\n",
       "    </tr>\n",
       "    <tr>\n",
       "      <th>40071</th>\n",
       "      <td>40071</td>\n",
       "      <td>33</td>\n",
       "      <td>Private</td>\n",
       "      <td>170651</td>\n",
       "      <td>Bachelors</td>\n",
       "      <td>13</td>\n",
       "      <td>Married-civ-spouse</td>\n",
       "      <td>Exec-managerial</td>\n",
       "      <td>Wife</td>\n",
       "      <td>White</td>\n",
       "      <td>Female</td>\n",
       "      <td>0</td>\n",
       "      <td>1977</td>\n",
       "      <td>38</td>\n",
       "      <td>United-States</td>\n",
       "      <td>&gt;50K.</td>\n",
       "    </tr>\n",
       "    <tr>\n",
       "      <th>39831</th>\n",
       "      <td>39831</td>\n",
       "      <td>36</td>\n",
       "      <td>NaN</td>\n",
       "      <td>92440</td>\n",
       "      <td>Some-college</td>\n",
       "      <td>10</td>\n",
       "      <td>Married-civ-spouse</td>\n",
       "      <td>NaN</td>\n",
       "      <td>Husband</td>\n",
       "      <td>White</td>\n",
       "      <td>Male</td>\n",
       "      <td>0</td>\n",
       "      <td>0</td>\n",
       "      <td>40</td>\n",
       "      <td>United-States</td>\n",
       "      <td>&lt;=50K.</td>\n",
       "    </tr>\n",
       "    <tr>\n",
       "      <th>22970</th>\n",
       "      <td>22970</td>\n",
       "      <td>51</td>\n",
       "      <td>Federal-gov</td>\n",
       "      <td>20795</td>\n",
       "      <td>HS-grad</td>\n",
       "      <td>9</td>\n",
       "      <td>Married-civ-spouse</td>\n",
       "      <td>Transport-moving</td>\n",
       "      <td>Husband</td>\n",
       "      <td>White</td>\n",
       "      <td>Male</td>\n",
       "      <td>7688</td>\n",
       "      <td>0</td>\n",
       "      <td>40</td>\n",
       "      <td>United-States</td>\n",
       "      <td>&gt;50K</td>\n",
       "    </tr>\n",
       "    <tr>\n",
       "      <th>3790</th>\n",
       "      <td>3790</td>\n",
       "      <td>47</td>\n",
       "      <td>Private</td>\n",
       "      <td>140664</td>\n",
       "      <td>Bachelors</td>\n",
       "      <td>13</td>\n",
       "      <td>Divorced</td>\n",
       "      <td>Sales</td>\n",
       "      <td>Not-in-family</td>\n",
       "      <td>White</td>\n",
       "      <td>Male</td>\n",
       "      <td>0</td>\n",
       "      <td>0</td>\n",
       "      <td>45</td>\n",
       "      <td>United-States</td>\n",
       "      <td>&lt;=50K</td>\n",
       "    </tr>\n",
       "    <tr>\n",
       "      <th>37899</th>\n",
       "      <td>37899</td>\n",
       "      <td>18</td>\n",
       "      <td>Private</td>\n",
       "      <td>106943</td>\n",
       "      <td>11th</td>\n",
       "      <td>7</td>\n",
       "      <td>Never-married</td>\n",
       "      <td>Sales</td>\n",
       "      <td>Own-child</td>\n",
       "      <td>White</td>\n",
       "      <td>Female</td>\n",
       "      <td>0</td>\n",
       "      <td>0</td>\n",
       "      <td>12</td>\n",
       "      <td>United-States</td>\n",
       "      <td>&lt;=50K.</td>\n",
       "    </tr>\n",
       "    <tr>\n",
       "      <th>20140</th>\n",
       "      <td>20140</td>\n",
       "      <td>47</td>\n",
       "      <td>Private</td>\n",
       "      <td>198769</td>\n",
       "      <td>Some-college</td>\n",
       "      <td>10</td>\n",
       "      <td>Never-married</td>\n",
       "      <td>Adm-clerical</td>\n",
       "      <td>Not-in-family</td>\n",
       "      <td>White</td>\n",
       "      <td>Female</td>\n",
       "      <td>0</td>\n",
       "      <td>0</td>\n",
       "      <td>40</td>\n",
       "      <td>United-States</td>\n",
       "      <td>&gt;50K</td>\n",
       "    </tr>\n",
       "    <tr>\n",
       "      <th>5578</th>\n",
       "      <td>5578</td>\n",
       "      <td>29</td>\n",
       "      <td>Private</td>\n",
       "      <td>290740</td>\n",
       "      <td>Assoc-acdm</td>\n",
       "      <td>12</td>\n",
       "      <td>Never-married</td>\n",
       "      <td>Priv-house-serv</td>\n",
       "      <td>Not-in-family</td>\n",
       "      <td>White</td>\n",
       "      <td>Female</td>\n",
       "      <td>0</td>\n",
       "      <td>0</td>\n",
       "      <td>50</td>\n",
       "      <td>United-States</td>\n",
       "      <td>&lt;=50K</td>\n",
       "    </tr>\n",
       "    <tr>\n",
       "      <th>14493</th>\n",
       "      <td>14493</td>\n",
       "      <td>34</td>\n",
       "      <td>Private</td>\n",
       "      <td>172579</td>\n",
       "      <td>Assoc-voc</td>\n",
       "      <td>11</td>\n",
       "      <td>Divorced</td>\n",
       "      <td>Tech-support</td>\n",
       "      <td>Unmarried</td>\n",
       "      <td>White</td>\n",
       "      <td>Female</td>\n",
       "      <td>0</td>\n",
       "      <td>0</td>\n",
       "      <td>40</td>\n",
       "      <td>United-States</td>\n",
       "      <td>&lt;=50K</td>\n",
       "    </tr>\n",
       "    <tr>\n",
       "      <th>28548</th>\n",
       "      <td>28548</td>\n",
       "      <td>68</td>\n",
       "      <td>?</td>\n",
       "      <td>186266</td>\n",
       "      <td>HS-grad</td>\n",
       "      <td>9</td>\n",
       "      <td>Married-civ-spouse</td>\n",
       "      <td>?</td>\n",
       "      <td>Wife</td>\n",
       "      <td>White</td>\n",
       "      <td>Female</td>\n",
       "      <td>0</td>\n",
       "      <td>0</td>\n",
       "      <td>8</td>\n",
       "      <td>United-States</td>\n",
       "      <td>&lt;=50K</td>\n",
       "    </tr>\n",
       "  </tbody>\n",
       "</table>\n",
       "</div>"
      ],
      "text/plain": [
       "       Unnamed: 0  age    workclass  fnlwgt     education  education-num  \\\n",
       "23470       23470   27      Private  271603       7th-8th              4   \n",
       "40071       40071   33      Private  170651     Bachelors             13   \n",
       "39831       39831   36          NaN   92440  Some-college             10   \n",
       "22970       22970   51  Federal-gov   20795       HS-grad              9   \n",
       "3790         3790   47      Private  140664     Bachelors             13   \n",
       "37899       37899   18      Private  106943          11th              7   \n",
       "20140       20140   47      Private  198769  Some-college             10   \n",
       "5578         5578   29      Private  290740    Assoc-acdm             12   \n",
       "14493       14493   34      Private  172579     Assoc-voc             11   \n",
       "28548       28548   68            ?  186266       HS-grad              9   \n",
       "\n",
       "           marital-status        occupation   relationship   race     sex  \\\n",
       "23470       Never-married     Other-service  Not-in-family  White    Male   \n",
       "40071  Married-civ-spouse   Exec-managerial           Wife  White  Female   \n",
       "39831  Married-civ-spouse               NaN        Husband  White    Male   \n",
       "22970  Married-civ-spouse  Transport-moving        Husband  White    Male   \n",
       "3790             Divorced             Sales  Not-in-family  White    Male   \n",
       "37899       Never-married             Sales      Own-child  White  Female   \n",
       "20140       Never-married      Adm-clerical  Not-in-family  White  Female   \n",
       "5578        Never-married   Priv-house-serv  Not-in-family  White  Female   \n",
       "14493            Divorced      Tech-support      Unmarried  White  Female   \n",
       "28548  Married-civ-spouse                 ?           Wife  White  Female   \n",
       "\n",
       "       capital-gain  capital-loss  hours-per-week native-country  income  \n",
       "23470             0             0              24              ?   <=50K  \n",
       "40071             0          1977              38  United-States   >50K.  \n",
       "39831             0             0              40  United-States  <=50K.  \n",
       "22970          7688             0              40  United-States    >50K  \n",
       "3790              0             0              45  United-States   <=50K  \n",
       "37899             0             0              12  United-States  <=50K.  \n",
       "20140             0             0              40  United-States    >50K  \n",
       "5578              0             0              50  United-States   <=50K  \n",
       "14493             0             0              40  United-States   <=50K  \n",
       "28548             0             0               8  United-States   <=50K  "
      ]
     },
     "execution_count": 280,
     "metadata": {},
     "output_type": "execute_result"
    }
   ],
   "source": [
    "# Traigo 10 filas al azar\n",
    "df.sample(10)"
   ]
  },
  {
   "cell_type": "markdown",
   "id": "2312f1e8-9ca6-414f-a05c-cd0dfa6d70f1",
   "metadata": {},
   "source": [
    "##### Unnamed  \n",
    "Corresponde a una variable que muestra un consecutivo, por lo que no le realizo ningún análisis"
   ]
  },
  {
   "cell_type": "markdown",
   "id": "eb32ad2f-9875-4329-b0f9-9efaa61a200a",
   "metadata": {},
   "source": [
    "##### Age  \n",
    "Corresponde a una variable cuantitativa, de tipo entero,se encuentran datos desde los 17 años como edad mínima, hasta los 90 como edad máxima, cuenta con 74 datos únicos, con una media de 38.6, siendo 36 años la edad que más se repite. La variable no cuenta con datos nulos. "
   ]
  },
  {
   "cell_type": "code",
   "execution_count": 105,
   "id": "8a792cf2-f08e-4592-a6fb-d164856d2279",
   "metadata": {},
   "outputs": [
    {
     "name": "stdout",
     "output_type": "stream",
     "text": [
      "<class 'pandas.core.series.Series'>\n",
      "RangeIndex: 48842 entries, 0 to 48841\n",
      "Series name: age\n",
      "Non-Null Count  Dtype\n",
      "--------------  -----\n",
      "48842 non-null  int64\n",
      "dtypes: int64(1)\n",
      "memory usage: 381.7 KB\n"
     ]
    }
   ],
   "source": [
    "#información de la variable en cuanto a la cantidad de datos y tipo de dato.\n",
    "df[\"age\"].info()"
   ]
  },
  {
   "cell_type": "code",
   "execution_count": 111,
   "id": "dbe0b2b4-c326-4a8c-ad58-e633ca516cf6",
   "metadata": {},
   "outputs": [
    {
     "data": {
      "text/plain": [
       "count    48842.000000\n",
       "mean        38.643585\n",
       "std         13.710510\n",
       "min         17.000000\n",
       "25%         28.000000\n",
       "50%         37.000000\n",
       "75%         48.000000\n",
       "max         90.000000\n",
       "Name: age, dtype: float64"
      ]
     },
     "execution_count": 111,
     "metadata": {},
     "output_type": "execute_result"
    }
   ],
   "source": [
    "#Metodo con el cual se realizan cálculos estadisticos, como conteo, media y otros. solamente aplica en variables cuantitativas.\n",
    "df[\"age\"].describe()"
   ]
  },
  {
   "cell_type": "code",
   "execution_count": 63,
   "id": "fd3405ce-e247-4e54-84a8-929d1f8534c2",
   "metadata": {},
   "outputs": [
    {
     "data": {
      "text/plain": [
       "48842"
      ]
     },
     "execution_count": 63,
     "metadata": {},
     "output_type": "execute_result"
    }
   ],
   "source": [
    "# Metodo para identificar el número de registros en la variable\n",
    "df[\"age\"].count()"
   ]
  },
  {
   "cell_type": "code",
   "execution_count": 282,
   "id": "d6d806c5-1606-4703-b2ce-420182c131c3",
   "metadata": {},
   "outputs": [
    {
     "data": {
      "text/plain": [
       "age\n",
       "36    1348\n",
       "35    1337\n",
       "33    1335\n",
       "23    1329\n",
       "31    1325\n",
       "      ... \n",
       "88       6\n",
       "85       5\n",
       "87       3\n",
       "89       2\n",
       "86       1\n",
       "Name: count, Length: 74, dtype: int64"
      ]
     },
     "execution_count": 282,
     "metadata": {},
     "output_type": "execute_result"
    }
   ],
   "source": [
    "#Método con el cual se realiza el conteo de cada uno de los valores dentro de la variable\n",
    "df[\"age\"].value_counts()"
   ]
  },
  {
   "cell_type": "code",
   "execution_count": 89,
   "id": "f1f71667-6f28-40b0-a38a-11de04991008",
   "metadata": {},
   "outputs": [
    {
     "data": {
      "text/plain": [
       "90"
      ]
     },
     "execution_count": 89,
     "metadata": {},
     "output_type": "execute_result"
    }
   ],
   "source": [
    "# Metodo para identificar el número más grande dentro de la variable\n",
    "df[\"age\"].max()"
   ]
  },
  {
   "cell_type": "code",
   "execution_count": 91,
   "id": "a1ee5361-dd36-486f-a63f-cd50d027ca7f",
   "metadata": {},
   "outputs": [
    {
     "data": {
      "text/plain": [
       "17"
      ]
     },
     "execution_count": 91,
     "metadata": {},
     "output_type": "execute_result"
    }
   ],
   "source": [
    "# Metodo para identificar el número más pequeño dentro de la variable\n",
    "df[\"age\"].min()"
   ]
  },
  {
   "cell_type": "code",
   "execution_count": 93,
   "id": "4853a3f3-45bd-453b-a720-0560754c5c15",
   "metadata": {},
   "outputs": [
    {
     "data": {
      "text/plain": [
       "0    36\n",
       "Name: age, dtype: int64"
      ]
     },
     "execution_count": 93,
     "metadata": {},
     "output_type": "execute_result"
    }
   ],
   "source": [
    "# Metodo para identificar el valor que aparece con mayor frecuencia dentro de la variable\n",
    "df[\"age\"].mode()"
   ]
  },
  {
   "cell_type": "code",
   "execution_count": 284,
   "id": "6ccc218b-d11b-4b11-9320-243fb54af008",
   "metadata": {},
   "outputs": [
    {
     "data": {
      "text/plain": [
       "38.64358543876172"
      ]
     },
     "execution_count": 284,
     "metadata": {},
     "output_type": "execute_result"
    }
   ],
   "source": [
    "# Metodo para identificar el promedio dentro de la variable\n",
    "df[\"age\"].mean()"
   ]
  },
  {
   "cell_type": "code",
   "execution_count": 95,
   "id": "f0888197-6eef-4068-bd3c-fd2188aaedb2",
   "metadata": {},
   "outputs": [
    {
     "data": {
      "text/plain": [
       "74"
      ]
     },
     "execution_count": 95,
     "metadata": {},
     "output_type": "execute_result"
    }
   ],
   "source": [
    "# Metodo para identificar el número de valores únicos dentro de una variable\n",
    "df[\"age\"].nunique()"
   ]
  },
  {
   "cell_type": "code",
   "execution_count": 113,
   "id": "db6c5d8b-7b92-422e-9d29-15efa8975fd0",
   "metadata": {},
   "outputs": [
    {
     "data": {
      "text/plain": [
       "0"
      ]
     },
     "execution_count": 113,
     "metadata": {},
     "output_type": "execute_result"
    }
   ],
   "source": [
    "# Metodo para contar los valores nulos\n",
    "df[\"age\"].isnull().sum()"
   ]
  },
  {
   "cell_type": "markdown",
   "id": "34274072-7f34-4ba1-9a23-0a8c8477a6ba",
   "metadata": {},
   "source": [
    "##### workclass  \n",
    "Es una variable cualitativa correspondiente a clase trabajadora, es de tipo string, cuenta con 9 categorias, de las cuales la que más se repite es _Private_, con 33906 registros y la que menos se repite es _Never- worked_ con 10. En cuanto a los valores nulos se encontraron 963 registros y 47879 no nulos. Adicionalmente, se resalta que existe una categoría con el simbolo \"?\", con 1836 registros, que tampoco nos brinda mayor información en comparación con los valores nulos."
   ]
  },
  {
   "cell_type": "code",
   "execution_count": 334,
   "id": "40f2a1e2-42b6-4f80-a47c-d301472d1c9f",
   "metadata": {},
   "outputs": [
    {
     "name": "stdout",
     "output_type": "stream",
     "text": [
      "<class 'pandas.core.series.Series'>\n",
      "RangeIndex: 48842 entries, 0 to 48841\n",
      "Series name: workclass\n",
      "Non-Null Count  Dtype \n",
      "--------------  ----- \n",
      "47879 non-null  object\n",
      "dtypes: object(1)\n",
      "memory usage: 381.7+ KB\n"
     ]
    }
   ],
   "source": [
    "#información de la variable en cuanto a la cantidad de datos y tipo de dato.\n",
    "df[\"workclass\"].info()"
   ]
  },
  {
   "cell_type": "code",
   "execution_count": 99,
   "id": "944c4a60-86b4-401d-bfbd-d8529397fdbf",
   "metadata": {},
   "outputs": [
    {
     "data": {
      "text/plain": [
       "count       47879\n",
       "unique          9\n",
       "top       Private\n",
       "freq        33906\n",
       "Name: workclass, dtype: object"
      ]
     },
     "execution_count": 99,
     "metadata": {},
     "output_type": "execute_result"
    }
   ],
   "source": [
    "df[\"workclass\"].describe()"
   ]
  },
  {
   "cell_type": "code",
   "execution_count": 336,
   "id": "3a3c92e2-e55e-40c4-bdd7-2590349a7d33",
   "metadata": {},
   "outputs": [
    {
     "data": {
      "text/plain": [
       "48842"
      ]
     },
     "execution_count": 336,
     "metadata": {},
     "output_type": "execute_result"
    }
   ],
   "source": [
    "# Metodo para identificar el número de registros en la variable\n",
    "df[\"age\"].count()"
   ]
  },
  {
   "cell_type": "code",
   "execution_count": 165,
   "id": "bb193ec4-4026-41fd-a0c0-80283b0f87a1",
   "metadata": {},
   "outputs": [
    {
     "name": "stdout",
     "output_type": "stream",
     "text": [
      "workclass\n",
      "Private             33906\n",
      "Self-emp-not-inc     3862\n",
      "Local-gov            3136\n",
      "State-gov            1981\n",
      "?                    1836\n",
      "Self-emp-inc         1695\n",
      "Federal-gov          1432\n",
      "Without-pay            21\n",
      "Never-worked           10\n",
      "Name: count, dtype: int64\n"
     ]
    },
    {
     "data": {
      "text/plain": [
       "47879"
      ]
     },
     "execution_count": 165,
     "metadata": {},
     "output_type": "execute_result"
    }
   ],
   "source": [
    "#Frecuencia de cada una de las opciones de la variable\n",
    "print(df[\"workclass\"].value_counts())\n",
    "df[\"workclass\"].value_counts().sum() ### Con este método me doy cuenta que no están todos los datos, de acuerdo con el número de filas. "
   ]
  },
  {
   "cell_type": "code",
   "execution_count": 109,
   "id": "81db9073-cef7-4f09-bd2d-fecdcc61fa5c",
   "metadata": {},
   "outputs": [
    {
     "data": {
      "text/plain": [
       "9"
      ]
     },
     "execution_count": 109,
     "metadata": {},
     "output_type": "execute_result"
    }
   ],
   "source": [
    "# Nombres de las categorías dentro de la variable\n",
    "df[\"workclass\"].nunique()"
   ]
  },
  {
   "cell_type": "code",
   "execution_count": 107,
   "id": "c2f00423-6033-4f4c-81e4-f5b4a19ed885",
   "metadata": {},
   "outputs": [
    {
     "data": {
      "text/plain": [
       "array(['State-gov', 'Self-emp-not-inc', 'Private', 'Federal-gov',\n",
       "       'Local-gov', '?', 'Self-emp-inc', 'Without-pay', 'Never-worked',\n",
       "       nan], dtype=object)"
      ]
     },
     "execution_count": 107,
     "metadata": {},
     "output_type": "execute_result"
    }
   ],
   "source": [
    "# Nombres de las categorías dentro de la variable\n",
    "pd.unique(df[\"workclass\"])"
   ]
  },
  {
   "cell_type": "code",
   "execution_count": 157,
   "id": "7fb5924c-499c-4ed5-b1e3-88ee6563503c",
   "metadata": {},
   "outputs": [
    {
     "data": {
      "text/plain": [
       "963"
      ]
     },
     "execution_count": 157,
     "metadata": {},
     "output_type": "execute_result"
    }
   ],
   "source": [
    "#conteo de los valores nulos dentro de la variable\n",
    "df[\"workclass\"].isnull().sum() "
   ]
  },
  {
   "cell_type": "markdown",
   "id": "45034860-233d-4213-91d9-e1650dd34c7f",
   "metadata": {},
   "source": [
    "##### fnlwgt\n",
    "Es una varibale de tipo entero, que cuenta con 48842 registros con 28523 datos únicos, de los cuales el valor máximo es de 1490400 y el mínimo 12285, el valor que más se repite es 203488 con 21 registros, el promedio es de 189664. No cuenta con valores nulos. "
   ]
  },
  {
   "cell_type": "code",
   "execution_count": 146,
   "id": "a4379cd1-ae98-4694-8555-c6b5f16c119d",
   "metadata": {},
   "outputs": [
    {
     "name": "stdout",
     "output_type": "stream",
     "text": [
      "<class 'pandas.core.series.Series'>\n",
      "RangeIndex: 48842 entries, 0 to 48841\n",
      "Series name: fnlwgt\n",
      "Non-Null Count  Dtype\n",
      "--------------  -----\n",
      "48842 non-null  int64\n",
      "dtypes: int64(1)\n",
      "memory usage: 381.7 KB\n"
     ]
    }
   ],
   "source": [
    "df[\"fnlwgt\"].info()"
   ]
  },
  {
   "cell_type": "code",
   "execution_count": 339,
   "id": "caddfc9b-e46d-4cbb-bad1-5e960bef9be6",
   "metadata": {},
   "outputs": [
    {
     "data": {
      "text/plain": [
       "count    4.884200e+04\n",
       "mean     1.896641e+05\n",
       "std      1.056040e+05\n",
       "min      1.228500e+04\n",
       "25%      1.175505e+05\n",
       "50%      1.781445e+05\n",
       "75%      2.376420e+05\n",
       "max      1.490400e+06\n",
       "Name: fnlwgt, dtype: float64"
      ]
     },
     "execution_count": 339,
     "metadata": {},
     "output_type": "execute_result"
    }
   ],
   "source": [
    "#Metodo con el cual se realizan cálculos estadisticos, como conteo, media y otros. solamente aplica en variables cuantitativas.\n",
    "df[\"fnlwgt\"].describe()"
   ]
  },
  {
   "cell_type": "code",
   "execution_count": 341,
   "id": "e2360b6a-4ad9-4750-94ee-33e40d59d7b1",
   "metadata": {},
   "outputs": [
    {
     "data": {
      "text/plain": [
       "48842"
      ]
     },
     "execution_count": 341,
     "metadata": {},
     "output_type": "execute_result"
    }
   ],
   "source": [
    "# Metodo para identificar el número de registros en la variable\n",
    "df[\"fnlwgt\"].count()"
   ]
  },
  {
   "cell_type": "code",
   "execution_count": 154,
   "id": "0f08aa14-fb34-4890-b72b-146e7455fcc8",
   "metadata": {},
   "outputs": [
    {
     "data": {
      "text/plain": [
       "fnlwgt\n",
       "203488    21\n",
       "120277    19\n",
       "190290    19\n",
       "125892    18\n",
       "126569    18\n",
       "          ..\n",
       "286983     1\n",
       "185942     1\n",
       "234220     1\n",
       "214706     1\n",
       "350977     1\n",
       "Name: count, Length: 28523, dtype: int64"
      ]
     },
     "execution_count": 154,
     "metadata": {},
     "output_type": "execute_result"
    }
   ],
   "source": [
    "#Frecuencia de cada una de las opciones de la variable\n",
    "df[\"fnlwgt\"].value_counts()"
   ]
  },
  {
   "cell_type": "code",
   "execution_count": 164,
   "id": "53452d05-bce0-47f3-8df8-59adad7a4f11",
   "metadata": {},
   "outputs": [
    {
     "data": {
      "text/plain": [
       "1490400"
      ]
     },
     "execution_count": 164,
     "metadata": {},
     "output_type": "execute_result"
    }
   ],
   "source": [
    "df[\"fnlwgt\"].max()"
   ]
  },
  {
   "cell_type": "code",
   "execution_count": 166,
   "id": "99b32fad-8537-42f3-9b60-f9c396f62a01",
   "metadata": {},
   "outputs": [
    {
     "data": {
      "text/html": [
       "<div>\n",
       "<style scoped>\n",
       "    .dataframe tbody tr th:only-of-type {\n",
       "        vertical-align: middle;\n",
       "    }\n",
       "\n",
       "    .dataframe tbody tr th {\n",
       "        vertical-align: top;\n",
       "    }\n",
       "\n",
       "    .dataframe thead th {\n",
       "        text-align: right;\n",
       "    }\n",
       "</style>\n",
       "<table border=\"1\" class=\"dataframe\">\n",
       "  <thead>\n",
       "    <tr style=\"text-align: right;\">\n",
       "      <th></th>\n",
       "      <th>Unnamed: 0</th>\n",
       "      <th>age</th>\n",
       "      <th>workclass</th>\n",
       "      <th>fnlwgt</th>\n",
       "      <th>education</th>\n",
       "      <th>education-num</th>\n",
       "      <th>marital-status</th>\n",
       "      <th>occupation</th>\n",
       "      <th>relationship</th>\n",
       "      <th>race</th>\n",
       "      <th>sex</th>\n",
       "      <th>capital-gain</th>\n",
       "      <th>capital-loss</th>\n",
       "      <th>hours-per-week</th>\n",
       "      <th>native-country</th>\n",
       "      <th>income</th>\n",
       "    </tr>\n",
       "  </thead>\n",
       "  <tbody>\n",
       "    <tr>\n",
       "      <th>40535</th>\n",
       "      <td>40535</td>\n",
       "      <td>27</td>\n",
       "      <td>Private</td>\n",
       "      <td>1490400</td>\n",
       "      <td>Some-college</td>\n",
       "      <td>10</td>\n",
       "      <td>Married-civ-spouse</td>\n",
       "      <td>Exec-managerial</td>\n",
       "      <td>Husband</td>\n",
       "      <td>White</td>\n",
       "      <td>Male</td>\n",
       "      <td>0</td>\n",
       "      <td>0</td>\n",
       "      <td>40</td>\n",
       "      <td>United-States</td>\n",
       "      <td>&lt;=50K.</td>\n",
       "    </tr>\n",
       "  </tbody>\n",
       "</table>\n",
       "</div>"
      ],
      "text/plain": [
       "       Unnamed: 0  age workclass   fnlwgt     education  education-num  \\\n",
       "40535       40535   27   Private  1490400  Some-college             10   \n",
       "\n",
       "           marital-status       occupation relationship   race   sex  \\\n",
       "40535  Married-civ-spouse  Exec-managerial      Husband  White  Male   \n",
       "\n",
       "       capital-gain  capital-loss  hours-per-week native-country  income  \n",
       "40535             0             0              40  United-States  <=50K.  "
      ]
     },
     "execution_count": 166,
     "metadata": {},
     "output_type": "execute_result"
    }
   ],
   "source": [
    "df[df.fnlwgt == 1490400]"
   ]
  },
  {
   "cell_type": "code",
   "execution_count": 162,
   "id": "f71875ba-a73c-4b3d-99fc-b1dc271c6f23",
   "metadata": {},
   "outputs": [
    {
     "data": {
      "text/plain": [
       "12285"
      ]
     },
     "execution_count": 162,
     "metadata": {},
     "output_type": "execute_result"
    }
   ],
   "source": [
    "df[\"fnlwgt\"].min()"
   ]
  },
  {
   "cell_type": "code",
   "execution_count": 168,
   "id": "955c33b4-d9a6-4cfc-91a2-0cc9ba98fcb9",
   "metadata": {},
   "outputs": [
    {
     "data": {
      "text/html": [
       "<div>\n",
       "<style scoped>\n",
       "    .dataframe tbody tr th:only-of-type {\n",
       "        vertical-align: middle;\n",
       "    }\n",
       "\n",
       "    .dataframe tbody tr th {\n",
       "        vertical-align: top;\n",
       "    }\n",
       "\n",
       "    .dataframe thead th {\n",
       "        text-align: right;\n",
       "    }\n",
       "</style>\n",
       "<table border=\"1\" class=\"dataframe\">\n",
       "  <thead>\n",
       "    <tr style=\"text-align: right;\">\n",
       "      <th></th>\n",
       "      <th>Unnamed: 0</th>\n",
       "      <th>age</th>\n",
       "      <th>workclass</th>\n",
       "      <th>fnlwgt</th>\n",
       "      <th>education</th>\n",
       "      <th>education-num</th>\n",
       "      <th>marital-status</th>\n",
       "      <th>occupation</th>\n",
       "      <th>relationship</th>\n",
       "      <th>race</th>\n",
       "      <th>sex</th>\n",
       "      <th>capital-gain</th>\n",
       "      <th>capital-loss</th>\n",
       "      <th>hours-per-week</th>\n",
       "      <th>native-country</th>\n",
       "      <th>income</th>\n",
       "    </tr>\n",
       "  </thead>\n",
       "  <tbody>\n",
       "    <tr>\n",
       "      <th>17096</th>\n",
       "      <td>17096</td>\n",
       "      <td>25</td>\n",
       "      <td>?</td>\n",
       "      <td>12285</td>\n",
       "      <td>Some-college</td>\n",
       "      <td>10</td>\n",
       "      <td>Never-married</td>\n",
       "      <td>?</td>\n",
       "      <td>Not-in-family</td>\n",
       "      <td>Amer-Indian-Eskimo</td>\n",
       "      <td>Female</td>\n",
       "      <td>0</td>\n",
       "      <td>0</td>\n",
       "      <td>20</td>\n",
       "      <td>United-States</td>\n",
       "      <td>&lt;=50K</td>\n",
       "    </tr>\n",
       "  </tbody>\n",
       "</table>\n",
       "</div>"
      ],
      "text/plain": [
       "       Unnamed: 0  age workclass  fnlwgt     education  education-num  \\\n",
       "17096       17096   25         ?   12285  Some-college             10   \n",
       "\n",
       "      marital-status occupation   relationship                race     sex  \\\n",
       "17096  Never-married          ?  Not-in-family  Amer-Indian-Eskimo  Female   \n",
       "\n",
       "       capital-gain  capital-loss  hours-per-week native-country income  \n",
       "17096             0             0              20  United-States  <=50K  "
      ]
     },
     "execution_count": 168,
     "metadata": {},
     "output_type": "execute_result"
    }
   ],
   "source": [
    "df[df.fnlwgt == 12285]"
   ]
  },
  {
   "cell_type": "code",
   "execution_count": 170,
   "id": "c2de4761-b59d-4165-8f92-f01f9d660984",
   "metadata": {},
   "outputs": [
    {
     "data": {
      "text/plain": [
       "0    203488\n",
       "Name: fnlwgt, dtype: int64"
      ]
     },
     "execution_count": 170,
     "metadata": {},
     "output_type": "execute_result"
    }
   ],
   "source": [
    "df[\"fnlwgt\"].mode()"
   ]
  },
  {
   "cell_type": "code",
   "execution_count": 198,
   "id": "9b09781c-f9f1-4987-969e-a0ade0ffb3cc",
   "metadata": {},
   "outputs": [
    {
     "name": "stdout",
     "output_type": "stream",
     "text": [
      "       Unnamed: 0  age         workclass  fnlwgt     education  education-num  \\\n",
      "3464         3464   31           Private  203488     Bachelors             13   \n",
      "9023         9023   30           Private  203488  Some-college             10   \n",
      "10383       10383   33           Private  203488  Some-college             10   \n",
      "10766       10766   34           Private  203488  Some-college             10   \n",
      "17553       17553   30           Private  203488  Some-college             10   \n",
      "17793       17793   31           Private  203488       HS-grad              9   \n",
      "18916       18916   31      Self-emp-inc  203488     Bachelors             13   \n",
      "20313       20313   33           Private  203488  Some-college             10   \n",
      "22523       22523   34           Private  203488       HS-grad              9   \n",
      "22723       22723   34           Private  203488     Bachelors             13   \n",
      "22813       22813   31       Federal-gov  203488    Assoc-acdm             12   \n",
      "23625       23625   34  Self-emp-not-inc  203488       HS-grad              9   \n",
      "28485       28485   30           Private  203488       HS-grad              9   \n",
      "37198       37198   33           Private  203488     Bachelors             13   \n",
      "37781       37781   30           Private  203488     Bachelors             13   \n",
      "39082       39082   31         State-gov  203488  Some-college             10   \n",
      "39262       39262   33           Private  203488     Bachelors             13   \n",
      "39471       39471   31           Private  203488  Some-college             10   \n",
      "42794       42794   30           Private  203488     Bachelors             13   \n",
      "45248       45248   31           Private  203488     Bachelors             13   \n",
      "46729       46729   31           Private  203488       HS-grad              9   \n",
      "\n",
      "           marital-status         occupation   relationship   race   sex  \\\n",
      "3464   Married-civ-spouse       Adm-clerical        Husband  White  Male   \n",
      "9023   Married-civ-spouse  Machine-op-inspct        Husband  White  Male   \n",
      "10383            Divorced              Sales  Not-in-family  White  Male   \n",
      "10766  Married-civ-spouse   Transport-moving        Husband  White  Male   \n",
      "17553       Never-married       Craft-repair  Not-in-family  White  Male   \n",
      "17793  Married-civ-spouse  Handlers-cleaners        Husband  White  Male   \n",
      "18916  Married-civ-spouse    Exec-managerial        Husband  White  Male   \n",
      "20313       Never-married    Exec-managerial      Own-child  White  Male   \n",
      "22523       Never-married       Craft-repair  Not-in-family  White  Male   \n",
      "22723  Married-civ-spouse              Sales        Husband  White  Male   \n",
      "22813       Never-married       Adm-clerical  Not-in-family  White  Male   \n",
      "23625  Married-civ-spouse       Craft-repair        Husband  White  Male   \n",
      "28485       Never-married       Craft-repair      Own-child  White  Male   \n",
      "37198  Married-civ-spouse     Prof-specialty        Husband  White  Male   \n",
      "37781       Never-married     Prof-specialty  Not-in-family  White  Male   \n",
      "39082       Never-married  Handlers-cleaners  Not-in-family  White  Male   \n",
      "39262  Married-civ-spouse    Exec-managerial        Husband  White  Male   \n",
      "39471  Married-civ-spouse              Sales        Husband  White  Male   \n",
      "42794       Never-married              Sales  Not-in-family  White  Male   \n",
      "45248  Married-civ-spouse              Sales        Husband  White  Male   \n",
      "46729       Never-married   Transport-moving  Not-in-family  White  Male   \n",
      "\n",
      "       capital-gain  capital-loss  hours-per-week native-country  income  \n",
      "3464           7298             0              50  United-States    >50K  \n",
      "9023              0             0              40  United-States    >50K  \n",
      "10383             0             0              40  United-States   <=50K  \n",
      "10766             0             0              40  United-States   <=50K  \n",
      "17553             0             0              44  United-States   <=50K  \n",
      "17793             0             0              40  United-States   <=50K  \n",
      "18916             0             0              50  United-States    >50K  \n",
      "20313             0             0              45  United-States   <=50K  \n",
      "22523             0             0              40  United-States   <=50K  \n",
      "22723         15024             0              40  United-States    >50K  \n",
      "22813             0             0              40  United-States   <=50K  \n",
      "23625             0             0              60  United-States   <=50K  \n",
      "28485             0             0              50  United-States   <=50K  \n",
      "37198         15024             0              50  United-States   >50K.  \n",
      "37781             0             0              60  United-States  <=50K.  \n",
      "39082             0             0              40  United-States  <=50K.  \n",
      "39262             0          1672              40  United-States  <=50K.  \n",
      "39471             0             0              44  United-States   >50K.  \n",
      "42794             0             0              60  United-States  <=50K.  \n",
      "45248             0          1977              45  United-States   >50K.  \n",
      "46729             0             0              50  United-States  <=50K.  \n",
      "Unnamed: 0        21\n",
      "age               21\n",
      "workclass         21\n",
      "fnlwgt            21\n",
      "education         21\n",
      "education-num     21\n",
      "marital-status    21\n",
      "occupation        21\n",
      "relationship      21\n",
      "race              21\n",
      "sex               21\n",
      "capital-gain      21\n",
      "capital-loss      21\n",
      "hours-per-week    21\n",
      "native-country    21\n",
      "income            21\n",
      "dtype: int64\n"
     ]
    }
   ],
   "source": [
    "###Identificación de los registros que mas se repiten \n",
    "print(df[df.fnlwgt == 203488])\n",
    "###conteo de los registros que mas se repiten \n",
    "print(df[df.fnlwgt == 203488].count())"
   ]
  },
  {
   "cell_type": "code",
   "execution_count": 183,
   "id": "e7567442-a861-4268-9796-4e75ea8fce2b",
   "metadata": {},
   "outputs": [
    {
     "data": {
      "text/plain": [
       "189664.13459727284"
      ]
     },
     "execution_count": 183,
     "metadata": {},
     "output_type": "execute_result"
    }
   ],
   "source": [
    "df[\"fnlwgt\"].mean()"
   ]
  },
  {
   "cell_type": "code",
   "execution_count": 186,
   "id": "85ce427f-22bf-4164-8207-09fe84cd17a4",
   "metadata": {},
   "outputs": [
    {
     "data": {
      "text/plain": [
       "28523"
      ]
     },
     "execution_count": 186,
     "metadata": {},
     "output_type": "execute_result"
    }
   ],
   "source": [
    "df[\"fnlwgt\"].nunique()"
   ]
  },
  {
   "cell_type": "code",
   "execution_count": 115,
   "id": "978537b5-a57b-4a47-9201-6f4b8bddf3d0",
   "metadata": {},
   "outputs": [
    {
     "data": {
      "text/plain": [
       "0"
      ]
     },
     "execution_count": 115,
     "metadata": {},
     "output_type": "execute_result"
    }
   ],
   "source": [
    "df[\"fnlwgt\"].isnull().sum()"
   ]
  },
  {
   "cell_type": "markdown",
   "id": "983a37d2-d40d-463b-87b6-a0fa1e704b61",
   "metadata": {},
   "source": [
    "##### education  \n",
    "Variable cualitativa, de tipo string, ordinal, cuenta con 48842 registros y 16 categorías, de las cuales la que más se presenta es _HS-grad_ con 15784 registros y con 83 registros _Preschool_ es la que menos se repite, la variable no cuenta con datos nulos."
   ]
  },
  {
   "cell_type": "code",
   "execution_count": 194,
   "id": "9de91f40-5710-4053-b787-61b4fa716986",
   "metadata": {},
   "outputs": [
    {
     "data": {
      "text/plain": [
       "count       48842\n",
       "unique         16\n",
       "top       HS-grad\n",
       "freq        15784\n",
       "Name: education, dtype: object"
      ]
     },
     "execution_count": 194,
     "metadata": {},
     "output_type": "execute_result"
    }
   ],
   "source": [
    "df[\"education\"].describe()"
   ]
  },
  {
   "cell_type": "code",
   "execution_count": 346,
   "id": "c9990d8c-74ad-40db-a1ef-68e424e20547",
   "metadata": {},
   "outputs": [
    {
     "name": "stdout",
     "output_type": "stream",
     "text": [
      "<class 'pandas.core.series.Series'>\n",
      "RangeIndex: 48842 entries, 0 to 48841\n",
      "Series name: education\n",
      "Non-Null Count  Dtype \n",
      "--------------  ----- \n",
      "48842 non-null  object\n",
      "dtypes: object(1)\n",
      "memory usage: 381.7+ KB\n"
     ]
    }
   ],
   "source": [
    "df[\"education\"].info()"
   ]
  },
  {
   "cell_type": "code",
   "execution_count": 188,
   "id": "2a81c9ad-1e22-46d6-8083-ba3a8c32d67e",
   "metadata": {},
   "outputs": [
    {
     "data": {
      "text/plain": [
       "48842"
      ]
     },
     "execution_count": 188,
     "metadata": {},
     "output_type": "execute_result"
    }
   ],
   "source": [
    "#Frecuencia de cada una de las opciones de la variable\n",
    "df[\"education\"].count()"
   ]
  },
  {
   "cell_type": "code",
   "execution_count": 95,
   "id": "3e2a270e-d9b8-46d5-adc8-40b7df71b29b",
   "metadata": {},
   "outputs": [
    {
     "data": {
      "text/plain": [
       "education\n",
       "HS-grad         15784\n",
       "Some-college    10878\n",
       "Bachelors        8025\n",
       "Masters          2657\n",
       "Assoc-voc        2061\n",
       "11th             1812\n",
       "Assoc-acdm       1601\n",
       "10th             1389\n",
       "7th-8th           955\n",
       "Prof-school       834\n",
       "9th               756\n",
       "12th              657\n",
       "Doctorate         594\n",
       "5th-6th           509\n",
       "1st-4th           247\n",
       "Preschool          83\n",
       "Name: count, dtype: int64"
      ]
     },
     "execution_count": 95,
     "metadata": {},
     "output_type": "execute_result"
    }
   ],
   "source": [
    "#Frecuencia de cada una de las opciones de la variable\n",
    "df[\"education\"].value_counts()"
   ]
  },
  {
   "cell_type": "code",
   "execution_count": 203,
   "id": "b4974f4a-b7c9-4cdc-856e-60d804492e22",
   "metadata": {},
   "outputs": [
    {
     "data": {
      "text/plain": [
       "16"
      ]
     },
     "execution_count": 203,
     "metadata": {},
     "output_type": "execute_result"
    }
   ],
   "source": [
    "df[\"education\"].nunique()"
   ]
  },
  {
   "cell_type": "code",
   "execution_count": 205,
   "id": "cb2e1ca2-f584-4fb1-b283-1ea5147116cc",
   "metadata": {},
   "outputs": [
    {
     "data": {
      "text/plain": [
       "array(['Bachelors', 'HS-grad', '11th', 'Masters', '9th', 'Some-college',\n",
       "       'Assoc-acdm', 'Assoc-voc', '7th-8th', 'Doctorate', 'Prof-school',\n",
       "       '5th-6th', '10th', '1st-4th', 'Preschool', '12th'], dtype=object)"
      ]
     },
     "execution_count": 205,
     "metadata": {},
     "output_type": "execute_result"
    }
   ],
   "source": [
    "pd.unique(df[\"education\"])"
   ]
  },
  {
   "cell_type": "code",
   "execution_count": 117,
   "id": "b80a25ac-ad10-4e15-ad34-edd501e9a00c",
   "metadata": {},
   "outputs": [
    {
     "data": {
      "text/plain": [
       "0"
      ]
     },
     "execution_count": 117,
     "metadata": {},
     "output_type": "execute_result"
    }
   ],
   "source": [
    "df[\"education\"].isnull().sum()"
   ]
  },
  {
   "cell_type": "markdown",
   "id": "e0d481a6-f850-4e6b-88e1-369386cb334f",
   "metadata": {},
   "source": [
    "##### education-num  \n",
    "Variable cualitativa, de tipo entero, ordinal, cuenta con 48842 registros y 16 categorías, de las cuales la que más se presenta es _**9**_ con 15784 registros y con 83 registros _**1**_ es la que menos se repite, la variable no cuenta con datos nulos."
   ]
  },
  {
   "cell_type": "code",
   "execution_count": 348,
   "id": "2994476b-d504-488e-b71c-295db165fca0",
   "metadata": {},
   "outputs": [
    {
     "name": "stdout",
     "output_type": "stream",
     "text": [
      "<class 'pandas.core.series.Series'>\n",
      "RangeIndex: 48842 entries, 0 to 48841\n",
      "Series name: education-num\n",
      "Non-Null Count  Dtype\n",
      "--------------  -----\n",
      "48842 non-null  int64\n",
      "dtypes: int64(1)\n",
      "memory usage: 381.7 KB\n"
     ]
    }
   ],
   "source": [
    "#información de la variable en cuanto a la cantidad de datos y tipo de dato.\n",
    "df[\"education-num\"].info()"
   ]
  },
  {
   "cell_type": "code",
   "execution_count": 350,
   "id": "652c33dd-8e69-4619-89cf-61ce3473536e",
   "metadata": {},
   "outputs": [
    {
     "data": {
      "text/plain": [
       "count    48842.000000\n",
       "mean        10.078089\n",
       "std          2.570973\n",
       "min          1.000000\n",
       "25%          9.000000\n",
       "50%         10.000000\n",
       "75%         12.000000\n",
       "max         16.000000\n",
       "Name: education-num, dtype: float64"
      ]
     },
     "execution_count": 350,
     "metadata": {},
     "output_type": "execute_result"
    }
   ],
   "source": [
    "#Metodo con el cual se realizan cálculos estadisticos, como conteo, media y otros. solamente aplica en variables cuantitativas.\n",
    "df[\"education-num\"].describe()"
   ]
  },
  {
   "cell_type": "code",
   "execution_count": 352,
   "id": "48316852-4f47-44e5-bb6b-5a655de3c3dd",
   "metadata": {},
   "outputs": [
    {
     "data": {
      "text/plain": [
       "48842"
      ]
     },
     "execution_count": 352,
     "metadata": {},
     "output_type": "execute_result"
    }
   ],
   "source": [
    "# Metodo para identificar el número de registros en la variable\n",
    "df[\"education-num\"].count()"
   ]
  },
  {
   "cell_type": "code",
   "execution_count": 354,
   "id": "c5d1e19f-cea6-4d64-a0c0-c0f1e40617ed",
   "metadata": {},
   "outputs": [
    {
     "data": {
      "text/plain": [
       "education-num\n",
       "9     15784\n",
       "10    10878\n",
       "13     8025\n",
       "14     2657\n",
       "11     2061\n",
       "7      1812\n",
       "12     1601\n",
       "6      1389\n",
       "4       955\n",
       "15      834\n",
       "5       756\n",
       "8       657\n",
       "16      594\n",
       "3       509\n",
       "2       247\n",
       "1        83\n",
       "Name: count, dtype: int64"
      ]
     },
     "execution_count": 354,
     "metadata": {},
     "output_type": "execute_result"
    }
   ],
   "source": [
    "#Frecuencia de cada una de las opciones de la variable\n",
    "df[\"education-num\"].value_counts()"
   ]
  },
  {
   "cell_type": "code",
   "execution_count": 356,
   "id": "207ecd0e-b2f4-474d-bb25-f4f140c3b013",
   "metadata": {},
   "outputs": [
    {
     "data": {
      "text/plain": [
       "0    9\n",
       "Name: education-num, dtype: int64"
      ]
     },
     "execution_count": 356,
     "metadata": {},
     "output_type": "execute_result"
    }
   ],
   "source": [
    "# Metodo para identificar el valor que aparece con mayor frecuencia dentro de la variable\n",
    "df[\"education-num\"].mode()"
   ]
  },
  {
   "cell_type": "code",
   "execution_count": 358,
   "id": "2705bc3d-7d7b-4df2-9621-8291586550ae",
   "metadata": {},
   "outputs": [
    {
     "data": {
      "text/plain": [
       "16"
      ]
     },
     "execution_count": 358,
     "metadata": {},
     "output_type": "execute_result"
    }
   ],
   "source": [
    "# Metodo para identificar el número de valores únicos dentro de una variable\n",
    "df[\"education-num\"].nunique()"
   ]
  },
  {
   "cell_type": "code",
   "execution_count": 360,
   "id": "92fa99a5-3921-4452-b0cf-ab62464d4b1b",
   "metadata": {},
   "outputs": [
    {
     "data": {
      "text/plain": [
       "array([13,  9,  7, 14,  5, 10, 12, 11,  4, 16, 15,  3,  6,  2,  1,  8],\n",
       "      dtype=int64)"
      ]
     },
     "execution_count": 360,
     "metadata": {},
     "output_type": "execute_result"
    }
   ],
   "source": [
    "# Nombres de las categorías dentro de la variable\n",
    "pd.unique(df[\"education-num\"])"
   ]
  },
  {
   "cell_type": "code",
   "execution_count": 362,
   "id": "42ac2a29-7b28-4637-9a65-17b76705aaa6",
   "metadata": {},
   "outputs": [
    {
     "data": {
      "text/plain": [
       "0"
      ]
     },
     "execution_count": 362,
     "metadata": {},
     "output_type": "execute_result"
    }
   ],
   "source": [
    "df[\"education-num\"].isnull().sum()"
   ]
  },
  {
   "cell_type": "markdown",
   "id": "0086cdd4-960b-4176-9b08-056d7a32fbe7",
   "metadata": {},
   "source": [
    "##### marital-status\n",
    "Es una variable cualitativa correspondiente a estado civil, es de tipo string, tiene 48842 registros, divididos en 7 categorias, de las cuales la que más se repite es _Married-civ-spouse_ con 22379 registros y la que menos se repite es _Married-AF-spouse_ con 37. En cuanto a los valores nulos no se encontraron registros."
   ]
  },
  {
   "cell_type": "code",
   "execution_count": 215,
   "id": "85e13eab-f1ea-4f42-82f7-531445e19be7",
   "metadata": {},
   "outputs": [
    {
     "name": "stdout",
     "output_type": "stream",
     "text": [
      "<class 'pandas.core.series.Series'>\n",
      "RangeIndex: 48842 entries, 0 to 48841\n",
      "Series name: marital-status\n",
      "Non-Null Count  Dtype \n",
      "--------------  ----- \n",
      "48842 non-null  object\n",
      "dtypes: object(1)\n",
      "memory usage: 381.7+ KB\n"
     ]
    }
   ],
   "source": [
    "df[\"marital-status\"].info()"
   ]
  },
  {
   "cell_type": "code",
   "execution_count": 217,
   "id": "5c38b45c-f51b-4e28-a755-3a6518ed6ce2",
   "metadata": {},
   "outputs": [
    {
     "data": {
      "text/plain": [
       "count                  48842\n",
       "unique                     7\n",
       "top       Married-civ-spouse\n",
       "freq                   22379\n",
       "Name: marital-status, dtype: object"
      ]
     },
     "execution_count": 217,
     "metadata": {},
     "output_type": "execute_result"
    }
   ],
   "source": [
    "df[\"marital-status\"].describe()"
   ]
  },
  {
   "cell_type": "code",
   "execution_count": 213,
   "id": "4962bb6b-0f95-4c4b-89a4-f97d7cc124ff",
   "metadata": {},
   "outputs": [
    {
     "data": {
      "text/plain": [
       "48842"
      ]
     },
     "execution_count": 213,
     "metadata": {},
     "output_type": "execute_result"
    }
   ],
   "source": [
    "df[\"marital-status\"].count()"
   ]
  },
  {
   "cell_type": "code",
   "execution_count": 85,
   "id": "c86a68b9-f20c-4d64-bd64-0484e3b06e5e",
   "metadata": {},
   "outputs": [
    {
     "data": {
      "text/plain": [
       "marital-status\n",
       "Married-civ-spouse       22379\n",
       "Never-married            16117\n",
       "Divorced                  6633\n",
       "Separated                 1530\n",
       "Widowed                   1518\n",
       "Married-spouse-absent      628\n",
       "Married-AF-spouse           37\n",
       "Name: count, dtype: int64"
      ]
     },
     "execution_count": 85,
     "metadata": {},
     "output_type": "execute_result"
    }
   ],
   "source": [
    "#Frecuencia de cada una de las opciones de la variable\n",
    "df[\"marital-status\"].value_counts()"
   ]
  },
  {
   "cell_type": "code",
   "execution_count": 220,
   "id": "d2f02488-7ea9-485f-bb09-4636e92cf7b9",
   "metadata": {},
   "outputs": [
    {
     "data": {
      "text/plain": [
       "7"
      ]
     },
     "execution_count": 220,
     "metadata": {},
     "output_type": "execute_result"
    }
   ],
   "source": [
    "df[\"marital-status\"].nunique()"
   ]
  },
  {
   "cell_type": "code",
   "execution_count": 240,
   "id": "2a16014f-281d-4658-9d87-f69a673ff7c6",
   "metadata": {},
   "outputs": [
    {
     "data": {
      "text/plain": [
       "array(['Never-married', 'Married-civ-spouse', 'Divorced',\n",
       "       'Married-spouse-absent', 'Separated', 'Married-AF-spouse',\n",
       "       'Widowed'], dtype=object)"
      ]
     },
     "execution_count": 240,
     "metadata": {},
     "output_type": "execute_result"
    }
   ],
   "source": [
    "pd.unique(df[\"marital-status\"])"
   ]
  },
  {
   "cell_type": "code",
   "execution_count": 121,
   "id": "d47b4f9c-cdd9-46ae-8cdc-5429639c325e",
   "metadata": {},
   "outputs": [
    {
     "data": {
      "text/plain": [
       "0"
      ]
     },
     "execution_count": 121,
     "metadata": {},
     "output_type": "execute_result"
    }
   ],
   "source": [
    "df[\"marital-status\"].isnull().sum()"
   ]
  },
  {
   "cell_type": "markdown",
   "id": "b30ff2ac-75d4-432b-b127-df3d95fd86ce",
   "metadata": {},
   "source": [
    "##### occupation  \n",
    "Es una variable cualitativa, nominal, correspondiente a ocupación, es de tipo string, tiene 47876 registros no nulos de los 48842 de la base de datos , está dividida en 15 categorias, de las cuales la que más se repite es _Prof-specialty_ con 6172 registros y la que menos se repite es _Armed-Forces_ con 15. En cuanto a los valores nulos se encontraron 996 registros y dentro de las categorías, se encuentra con 1843 registros el simbolo _**?**_ siendo un registro no válido."
   ]
  },
  {
   "cell_type": "code",
   "execution_count": 234,
   "id": "5df99c9e-0768-40f0-bf6c-c228747516be",
   "metadata": {},
   "outputs": [
    {
     "name": "stdout",
     "output_type": "stream",
     "text": [
      "<class 'pandas.core.series.Series'>\n",
      "RangeIndex: 48842 entries, 0 to 48841\n",
      "Series name: occupation\n",
      "Non-Null Count  Dtype \n",
      "--------------  ----- \n",
      "47876 non-null  object\n",
      "dtypes: object(1)\n",
      "memory usage: 381.7+ KB\n"
     ]
    }
   ],
   "source": [
    "df[\"occupation\"].info()"
   ]
  },
  {
   "cell_type": "code",
   "execution_count": 236,
   "id": "d394801b-d5de-4329-a39c-3e441c5230c7",
   "metadata": {},
   "outputs": [
    {
     "data": {
      "text/plain": [
       "count              47876\n",
       "unique                15\n",
       "top       Prof-specialty\n",
       "freq                6172\n",
       "Name: occupation, dtype: object"
      ]
     },
     "execution_count": 236,
     "metadata": {},
     "output_type": "execute_result"
    }
   ],
   "source": [
    "df[\"occupation\"].describe()"
   ]
  },
  {
   "cell_type": "code",
   "execution_count": 226,
   "id": "93cc4288-e158-4a49-a700-1fe3f2117c95",
   "metadata": {},
   "outputs": [
    {
     "data": {
      "text/plain": [
       "47876"
      ]
     },
     "execution_count": 226,
     "metadata": {},
     "output_type": "execute_result"
    }
   ],
   "source": [
    "df[\"occupation\"].count()"
   ]
  },
  {
   "cell_type": "code",
   "execution_count": 83,
   "id": "7ce800d8-9f34-497f-b314-0aa48868626b",
   "metadata": {},
   "outputs": [
    {
     "data": {
      "text/plain": [
       "occupation\n",
       "Prof-specialty       6172\n",
       "Craft-repair         6112\n",
       "Exec-managerial      6086\n",
       "Adm-clerical         5611\n",
       "Sales                5504\n",
       "Other-service        4923\n",
       "Machine-op-inspct    3022\n",
       "Transport-moving     2355\n",
       "Handlers-cleaners    2072\n",
       "?                    1843\n",
       "Farming-fishing      1490\n",
       "Tech-support         1446\n",
       "Protective-serv       983\n",
       "Priv-house-serv       242\n",
       "Armed-Forces           15\n",
       "Name: count, dtype: int64"
      ]
     },
     "execution_count": 83,
     "metadata": {},
     "output_type": "execute_result"
    }
   ],
   "source": [
    "#Frecuencia de cada una de las opciones de la variable\n",
    "df[\"occupation\"].value_counts()"
   ]
  },
  {
   "cell_type": "code",
   "execution_count": 238,
   "id": "b068c556-7a0a-4f8a-942e-39d7b0f03207",
   "metadata": {},
   "outputs": [
    {
     "data": {
      "text/plain": [
       "15"
      ]
     },
     "execution_count": 238,
     "metadata": {},
     "output_type": "execute_result"
    }
   ],
   "source": [
    "df[\"occupation\"].nunique()"
   ]
  },
  {
   "cell_type": "code",
   "execution_count": 242,
   "id": "f696e791-fb28-47b6-aed3-c423449ab69c",
   "metadata": {},
   "outputs": [
    {
     "data": {
      "text/plain": [
       "array(['Adm-clerical', 'Exec-managerial', 'Handlers-cleaners',\n",
       "       'Prof-specialty', 'Other-service', 'Sales', 'Craft-repair',\n",
       "       'Transport-moving', 'Farming-fishing', 'Machine-op-inspct',\n",
       "       'Tech-support', '?', 'Protective-serv', 'Armed-Forces',\n",
       "       'Priv-house-serv', nan], dtype=object)"
      ]
     },
     "execution_count": 242,
     "metadata": {},
     "output_type": "execute_result"
    }
   ],
   "source": [
    "pd.unique(df[\"occupation\"])"
   ]
  },
  {
   "cell_type": "code",
   "execution_count": 167,
   "id": "29776ff8-63d6-4123-be4d-d2ea116a2ed2",
   "metadata": {},
   "outputs": [
    {
     "data": {
      "text/plain": [
       "966"
      ]
     },
     "execution_count": 167,
     "metadata": {},
     "output_type": "execute_result"
    }
   ],
   "source": [
    "#conteo de los valores nulos dentro de la variable\n",
    "df[\"occupation\"].isnull().sum() "
   ]
  },
  {
   "cell_type": "markdown",
   "id": "1be84ab4-3da7-423d-8213-c5abc5720f39",
   "metadata": {},
   "source": [
    "##### relationship  \n",
    "Es una variable cualitativa, nominal, correspondiente a Relacion, es de tipo string, tiene 48842 registros cuenta con 6 categorias, de las cuales la que más se repite es _Husband_, con 19716 registros y la que menos se repite es _Other-relative_ con 1506. En cuanto a los valores nulos no se encontraron registros."
   ]
  },
  {
   "cell_type": "code",
   "execution_count": 254,
   "id": "8841925a-cbea-4588-b4ec-0dba77f86c3c",
   "metadata": {},
   "outputs": [
    {
     "name": "stdout",
     "output_type": "stream",
     "text": [
      "<class 'pandas.core.series.Series'>\n",
      "RangeIndex: 48842 entries, 0 to 48841\n",
      "Series name: relationship\n",
      "Non-Null Count  Dtype \n",
      "--------------  ----- \n",
      "48842 non-null  object\n",
      "dtypes: object(1)\n",
      "memory usage: 381.7+ KB\n"
     ]
    }
   ],
   "source": [
    "df[\"relationship\"].info()"
   ]
  },
  {
   "cell_type": "code",
   "execution_count": 251,
   "id": "5e3bf14c-e103-4f84-8fba-c78c0d82c694",
   "metadata": {},
   "outputs": [
    {
     "data": {
      "text/plain": [
       "count       48842\n",
       "unique          6\n",
       "top       Husband\n",
       "freq        19716\n",
       "Name: relationship, dtype: object"
      ]
     },
     "execution_count": 251,
     "metadata": {},
     "output_type": "execute_result"
    }
   ],
   "source": [
    "df[\"relationship\"].describe()"
   ]
  },
  {
   "cell_type": "code",
   "execution_count": 247,
   "id": "39485ef8-12de-47c3-b873-840e8193e732",
   "metadata": {},
   "outputs": [
    {
     "data": {
      "text/plain": [
       "48842"
      ]
     },
     "execution_count": 247,
     "metadata": {},
     "output_type": "execute_result"
    }
   ],
   "source": [
    "df[\"relationship\"].count()"
   ]
  },
  {
   "cell_type": "code",
   "execution_count": 28,
   "id": "6fb23bc2-cac4-48e1-8a4e-579856ce9c15",
   "metadata": {},
   "outputs": [
    {
     "data": {
      "text/plain": [
       "relationship\n",
       "Husband           19716\n",
       "Not-in-family     12583\n",
       "Own-child          7581\n",
       "Unmarried          5125\n",
       "Wife               2331\n",
       "Other-relative     1506\n",
       "Name: count, dtype: int64"
      ]
     },
     "execution_count": 28,
     "metadata": {},
     "output_type": "execute_result"
    }
   ],
   "source": [
    "#Frecuencia de cada una de las opciones de la variable\n",
    "df[\"relationship\"].value_counts()"
   ]
  },
  {
   "cell_type": "code",
   "execution_count": 260,
   "id": "747795f4-85e9-4dd4-b985-85fcf5a9ca1e",
   "metadata": {},
   "outputs": [
    {
     "data": {
      "text/plain": [
       "6"
      ]
     },
     "execution_count": 260,
     "metadata": {},
     "output_type": "execute_result"
    }
   ],
   "source": [
    "df[\"relationship\"].nunique()"
   ]
  },
  {
   "cell_type": "code",
   "execution_count": 258,
   "id": "f33e6c4c-8f4f-473a-8cd0-c4a57ef3eecf",
   "metadata": {},
   "outputs": [
    {
     "data": {
      "text/plain": [
       "array(['Never-married', 'Married-civ-spouse', 'Divorced',\n",
       "       'Married-spouse-absent', 'Separated', 'Married-AF-spouse',\n",
       "       'Widowed'], dtype=object)"
      ]
     },
     "execution_count": 258,
     "metadata": {},
     "output_type": "execute_result"
    }
   ],
   "source": [
    "pd.unique(df[\"marital-status\"])"
   ]
  },
  {
   "cell_type": "code",
   "execution_count": 123,
   "id": "944d1431-5bea-47d0-91d7-12c30dc79b08",
   "metadata": {},
   "outputs": [
    {
     "data": {
      "text/plain": [
       "0"
      ]
     },
     "execution_count": 123,
     "metadata": {},
     "output_type": "execute_result"
    }
   ],
   "source": [
    "df[\"relationship\"].isnull().sum()"
   ]
  },
  {
   "cell_type": "markdown",
   "id": "379bceb7-9022-4a66-b94d-32aef75e47f4",
   "metadata": {},
   "source": [
    "##### race\n",
    "Es una variable cualitativa, nominal correspondiente a raza, es de tipo string, cuenta con 5 categorias, de las cuales la que más se repite es _White_, con 41762 registros y la que menos se repite es _Other_ con 406. En cuanto a los valores nulos no se encontraron registros."
   ]
  },
  {
   "cell_type": "code",
   "execution_count": 262,
   "id": "42973005-bac9-4a94-910a-1524e45aec71",
   "metadata": {},
   "outputs": [
    {
     "name": "stdout",
     "output_type": "stream",
     "text": [
      "<class 'pandas.core.series.Series'>\n",
      "RangeIndex: 48842 entries, 0 to 48841\n",
      "Series name: race\n",
      "Non-Null Count  Dtype \n",
      "--------------  ----- \n",
      "48842 non-null  object\n",
      "dtypes: object(1)\n",
      "memory usage: 381.7+ KB\n"
     ]
    }
   ],
   "source": [
    "df[\"race\"].info()"
   ]
  },
  {
   "cell_type": "code",
   "execution_count": 264,
   "id": "c681cdb9-e426-4d44-937d-c31c418943a9",
   "metadata": {},
   "outputs": [
    {
     "data": {
      "text/plain": [
       "count     48842\n",
       "unique        5\n",
       "top       White\n",
       "freq      41762\n",
       "Name: race, dtype: object"
      ]
     },
     "execution_count": 264,
     "metadata": {},
     "output_type": "execute_result"
    }
   ],
   "source": [
    "df[\"race\"].describe()"
   ]
  },
  {
   "cell_type": "code",
   "execution_count": 270,
   "id": "5e37668a-ff58-492b-b67c-3a0b87ac9c12",
   "metadata": {},
   "outputs": [
    {
     "data": {
      "text/plain": [
       "48842"
      ]
     },
     "execution_count": 270,
     "metadata": {},
     "output_type": "execute_result"
    }
   ],
   "source": [
    "df[\"race\"].count()"
   ]
  },
  {
   "cell_type": "code",
   "execution_count": 266,
   "id": "8a9977a1-93e1-4aaa-91da-1699aafba5c5",
   "metadata": {},
   "outputs": [
    {
     "data": {
      "text/plain": [
       "race\n",
       "White                 41762\n",
       "Black                  4685\n",
       "Asian-Pac-Islander     1519\n",
       "Amer-Indian-Eskimo      470\n",
       "Other                   406\n",
       "Name: count, dtype: int64"
      ]
     },
     "execution_count": 266,
     "metadata": {},
     "output_type": "execute_result"
    }
   ],
   "source": [
    "df[\"race\"].value_counts()"
   ]
  },
  {
   "cell_type": "code",
   "execution_count": 272,
   "id": "063fdd6f-81bd-43ea-9545-2cd9fdff6a45",
   "metadata": {},
   "outputs": [
    {
     "data": {
      "text/plain": [
       "5"
      ]
     },
     "execution_count": 272,
     "metadata": {},
     "output_type": "execute_result"
    }
   ],
   "source": [
    "df[\"race\"].nunique()"
   ]
  },
  {
   "cell_type": "code",
   "execution_count": 274,
   "id": "eb9643e2-e5cf-472e-ae38-1342268ccdb0",
   "metadata": {},
   "outputs": [
    {
     "data": {
      "text/plain": [
       "array(['White', 'Black', 'Asian-Pac-Islander', 'Amer-Indian-Eskimo',\n",
       "       'Other'], dtype=object)"
      ]
     },
     "execution_count": 274,
     "metadata": {},
     "output_type": "execute_result"
    }
   ],
   "source": [
    "pd.unique(df[\"race\"])"
   ]
  },
  {
   "cell_type": "code",
   "execution_count": 125,
   "id": "4671851c-0e12-469b-8ca3-7b7e05637b8d",
   "metadata": {},
   "outputs": [
    {
     "data": {
      "text/plain": [
       "0"
      ]
     },
     "execution_count": 125,
     "metadata": {},
     "output_type": "execute_result"
    }
   ],
   "source": [
    "df[\"race\"].isnull().sum()"
   ]
  },
  {
   "cell_type": "markdown",
   "id": "e225c6c2-b824-42af-b6d5-83392e48ddc5",
   "metadata": {},
   "source": [
    "##### sex\n",
    "Es una variable cualitativa correspondiente a sexo, es de tipo string, cuenta con 2 categorias, de las cuales la que más se repite es _Male_, con 32650 registros. En cuanto a los valores nulos no se encontraron registros."
   ]
  },
  {
   "cell_type": "code",
   "execution_count": 370,
   "id": "447cd5fd-9134-4b19-a174-fac8b9b86ebd",
   "metadata": {},
   "outputs": [
    {
     "name": "stdout",
     "output_type": "stream",
     "text": [
      "<class 'pandas.core.series.Series'>\n",
      "RangeIndex: 48842 entries, 0 to 48841\n",
      "Series name: age\n",
      "Non-Null Count  Dtype\n",
      "--------------  -----\n",
      "48842 non-null  int64\n",
      "dtypes: int64(1)\n",
      "memory usage: 381.7 KB\n"
     ]
    }
   ],
   "source": [
    "#información de la variable en cuanto a la cantidad de datos y tipo de dato.\n",
    "df[\"sex\"].info()"
   ]
  },
  {
   "cell_type": "code",
   "execution_count": 374,
   "id": "26ee6b35-87ca-4510-a782-f7fbf95fd8ba",
   "metadata": {},
   "outputs": [
    {
     "data": {
      "text/plain": [
       "count     48842\n",
       "unique        2\n",
       "top        Male\n",
       "freq      32650\n",
       "Name: sex, dtype: object"
      ]
     },
     "execution_count": 374,
     "metadata": {},
     "output_type": "execute_result"
    }
   ],
   "source": [
    "#Metodo con el cual se realizan cálculos estadisticos, como conteo, media y otros. solamente aplica en variables cuantitativas.\n",
    "df[\"sex\"].describe()"
   ]
  },
  {
   "cell_type": "code",
   "execution_count": 377,
   "id": "0727ec47-ba65-4891-82fc-f47aeda52030",
   "metadata": {},
   "outputs": [
    {
     "data": {
      "text/plain": [
       "48842"
      ]
     },
     "execution_count": 377,
     "metadata": {},
     "output_type": "execute_result"
    }
   ],
   "source": [
    "# Metodo para identificar el número de registros en la variable\n",
    "df[\"sex\"].count()"
   ]
  },
  {
   "cell_type": "code",
   "execution_count": 381,
   "id": "dcc4d677-4bba-4352-8041-d2bd006bb4ba",
   "metadata": {},
   "outputs": [
    {
     "data": {
      "text/plain": [
       "sex\n",
       "Male      32650\n",
       "Female    16192\n",
       "Name: count, dtype: int64"
      ]
     },
     "execution_count": 381,
     "metadata": {},
     "output_type": "execute_result"
    }
   ],
   "source": [
    "#Método con el cual se realiza el conteo de cada uno de los valores dentro de la variable\n",
    "df[\"sex\"].value_counts()"
   ]
  },
  {
   "cell_type": "code",
   "execution_count": 385,
   "id": "6c1f1228-e2af-4923-bfca-6f2f0141b6d7",
   "metadata": {},
   "outputs": [
    {
     "data": {
      "text/plain": [
       "2"
      ]
     },
     "execution_count": 385,
     "metadata": {},
     "output_type": "execute_result"
    }
   ],
   "source": [
    "# Metodo para identificar el número de valores únicos dentro de una variable\n",
    "df[\"sex\"].nunique()"
   ]
  },
  {
   "cell_type": "code",
   "execution_count": 389,
   "id": "55c82db6-586d-4908-bc25-f0ed66b1f630",
   "metadata": {},
   "outputs": [
    {
     "data": {
      "text/plain": [
       "array(['Male', 'Female'], dtype=object)"
      ]
     },
     "execution_count": 389,
     "metadata": {},
     "output_type": "execute_result"
    }
   ],
   "source": [
    "# Nombres de las categorías dentro de la variable\n",
    "pd.unique(df[\"sex\"])"
   ]
  },
  {
   "cell_type": "code",
   "execution_count": 127,
   "id": "776410a2-33a8-4828-8b6c-d0d554fd32fb",
   "metadata": {},
   "outputs": [
    {
     "data": {
      "text/plain": [
       "0"
      ]
     },
     "execution_count": 127,
     "metadata": {},
     "output_type": "execute_result"
    }
   ],
   "source": [
    "df[\"sex\"].isnull().sum()"
   ]
  },
  {
   "cell_type": "markdown",
   "id": "ed26376e-eda3-4a81-8f48-a3e5c49d25f7",
   "metadata": {},
   "source": [
    "##### capital-gain\n",
    "Es una variable cuantitativa, de tipo entero, cuenta con 48842 registros con un rango entre 0 y 99999. con 123 datos únicos. en la mayoría de los casos (44807) el valor fue de cero. la variable no contiene datos nulos."
   ]
  },
  {
   "cell_type": "code",
   "execution_count": 392,
   "id": "968b71a5-fdbc-4fbc-8d6b-acf97ebd85fe",
   "metadata": {},
   "outputs": [
    {
     "name": "stdout",
     "output_type": "stream",
     "text": [
      "<class 'pandas.core.series.Series'>\n",
      "RangeIndex: 48842 entries, 0 to 48841\n",
      "Series name: age\n",
      "Non-Null Count  Dtype\n",
      "--------------  -----\n",
      "48842 non-null  int64\n",
      "dtypes: int64(1)\n",
      "memory usage: 381.7 KB\n"
     ]
    }
   ],
   "source": [
    "#información de la variable en cuanto a la cantidad de datos y tipo de dato.\n",
    "df[\"capital-gain\"].info()"
   ]
  },
  {
   "cell_type": "code",
   "execution_count": 410,
   "id": "70dd98b5-1dd2-4867-a7ad-e77e6792d3f2",
   "metadata": {},
   "outputs": [
    {
     "data": {
      "text/plain": [
       "count    48842.000000\n",
       "mean      1079.067626\n",
       "std       7452.019058\n",
       "min          0.000000\n",
       "25%          0.000000\n",
       "50%          0.000000\n",
       "75%          0.000000\n",
       "max      99999.000000\n",
       "Name: capital-gain, dtype: float64"
      ]
     },
     "execution_count": 410,
     "metadata": {},
     "output_type": "execute_result"
    }
   ],
   "source": [
    "#Metodo con el cual se realizan cálculos estadisticos, como conteo, media y otros. solamente aplica en variables cuantitativas.\n",
    "df[\"capital-gain\"].describe()"
   ]
  },
  {
   "cell_type": "code",
   "execution_count": 412,
   "id": "c8c40417-bbda-4561-87f4-3cc259999329",
   "metadata": {},
   "outputs": [
    {
     "data": {
      "text/plain": [
       "48842"
      ]
     },
     "execution_count": 412,
     "metadata": {},
     "output_type": "execute_result"
    }
   ],
   "source": [
    "# Metodo para identificar el número de registros en la variable\n",
    "df[\"capital-gain\"].count()"
   ]
  },
  {
   "cell_type": "code",
   "execution_count": 414,
   "id": "d9e2bd29-06fd-40b5-83af-7bb6d2215da8",
   "metadata": {},
   "outputs": [
    {
     "data": {
      "text/plain": [
       "capital-gain\n",
       "0        44807\n",
       "15024      513\n",
       "7688       410\n",
       "7298       364\n",
       "99999      244\n",
       "         ...  \n",
       "22040        1\n",
       "2387         1\n",
       "1639         1\n",
       "1111         1\n",
       "6612         1\n",
       "Name: count, Length: 123, dtype: int64"
      ]
     },
     "execution_count": 414,
     "metadata": {},
     "output_type": "execute_result"
    }
   ],
   "source": [
    "#Método con el cual se realiza el conteo de cada uno de los valores dentro de la variable\n",
    "df[\"capital-gain\"].value_counts()"
   ]
  },
  {
   "cell_type": "code",
   "execution_count": 400,
   "id": "1e56f539-8f93-44d7-b33e-b1da7a845fb4",
   "metadata": {},
   "outputs": [
    {
     "data": {
      "text/plain": [
       "99999"
      ]
     },
     "execution_count": 400,
     "metadata": {},
     "output_type": "execute_result"
    }
   ],
   "source": [
    "# Metodo para identificar el número más grande dentro de la variable\n",
    "df[\"capital-gain\"].max()"
   ]
  },
  {
   "cell_type": "code",
   "execution_count": 402,
   "id": "c910bdfe-8e19-4713-96dd-3904e548ec4d",
   "metadata": {},
   "outputs": [
    {
     "data": {
      "text/plain": [
       "0"
      ]
     },
     "execution_count": 402,
     "metadata": {},
     "output_type": "execute_result"
    }
   ],
   "source": [
    "# Metodo para identificar el número más pequeño dentro de la variable\n",
    "df[\"capital-gain\"].min()"
   ]
  },
  {
   "cell_type": "code",
   "execution_count": 404,
   "id": "e6430ebf-6f02-4316-bc4d-c540fabf0c3b",
   "metadata": {},
   "outputs": [
    {
     "data": {
      "text/plain": [
       "0    0\n",
       "Name: capital-gain, dtype: int64"
      ]
     },
     "execution_count": 404,
     "metadata": {},
     "output_type": "execute_result"
    }
   ],
   "source": [
    "# Metodo para identificar el valor que aparece con mayor frecuencia dentro de la variable\n",
    "df[\"capital-gain\"].mode()"
   ]
  },
  {
   "cell_type": "code",
   "execution_count": 406,
   "id": "6f496b9b-33a1-4d60-82f1-990be354bf9d",
   "metadata": {},
   "outputs": [
    {
     "data": {
      "text/plain": [
       "123"
      ]
     },
     "execution_count": 406,
     "metadata": {},
     "output_type": "execute_result"
    }
   ],
   "source": [
    "# Metodo para identificar el número de valores únicos dentro de una variable\n",
    "df[\"capital-gain\"].nunique()"
   ]
  },
  {
   "cell_type": "code",
   "execution_count": 408,
   "id": "c325053a-ded8-42d6-b803-2ed5a4783db8",
   "metadata": {},
   "outputs": [
    {
     "data": {
      "text/plain": [
       "0"
      ]
     },
     "execution_count": 408,
     "metadata": {},
     "output_type": "execute_result"
    }
   ],
   "source": [
    "# Metodo para contar los valores nulos\n",
    "df[\"capital-gain\"].isnull().sum()"
   ]
  },
  {
   "cell_type": "markdown",
   "id": "f6bd0632-bdc0-4661-8ff6-63c83f70eccc",
   "metadata": {},
   "source": [
    "##### capital-loss\n",
    "Es una variable cuantitativa, de tipo entero, cuenta con 48842 registros con un rango entre 0 y 4356. con 99 datos únicos. en la mayoría de los casos (46560) el valor fue de cero. la variable no contiene datos nulos."
   ]
  },
  {
   "cell_type": "code",
   "execution_count": 418,
   "id": "43ad0098-ae5d-498e-9e0b-91604f7f6f61",
   "metadata": {},
   "outputs": [
    {
     "name": "stdout",
     "output_type": "stream",
     "text": [
      "<class 'pandas.core.series.Series'>\n",
      "RangeIndex: 48842 entries, 0 to 48841\n",
      "Series name: capital-loss\n",
      "Non-Null Count  Dtype\n",
      "--------------  -----\n",
      "48842 non-null  int64\n",
      "dtypes: int64(1)\n",
      "memory usage: 381.7 KB\n"
     ]
    }
   ],
   "source": [
    "#información de la variable en cuanto a la cantidad de datos y tipo de dato.\n",
    "df[\"capital-loss\"].info()"
   ]
  },
  {
   "cell_type": "code",
   "execution_count": 420,
   "id": "04d56ce7-6e77-42e3-8cac-aed69bb8b5ac",
   "metadata": {},
   "outputs": [
    {
     "data": {
      "text/plain": [
       "count    48842.000000\n",
       "mean        87.502314\n",
       "std        403.004552\n",
       "min          0.000000\n",
       "25%          0.000000\n",
       "50%          0.000000\n",
       "75%          0.000000\n",
       "max       4356.000000\n",
       "Name: capital-loss, dtype: float64"
      ]
     },
     "execution_count": 420,
     "metadata": {},
     "output_type": "execute_result"
    }
   ],
   "source": [
    "#Metodo con el cual se realizan cálculos estadisticos, como conteo, media y otros. solamente aplica en variables cuantitativas.\n",
    "df[\"capital-loss\"].describe()"
   ]
  },
  {
   "cell_type": "code",
   "execution_count": 422,
   "id": "1979c661-483b-455f-a212-81fb3598e675",
   "metadata": {},
   "outputs": [
    {
     "data": {
      "text/plain": [
       "48842"
      ]
     },
     "execution_count": 422,
     "metadata": {},
     "output_type": "execute_result"
    }
   ],
   "source": [
    "# Metodo para identificar el número de registros en la variable\n",
    "df[\"capital-loss\"].count()"
   ]
  },
  {
   "cell_type": "code",
   "execution_count": 424,
   "id": "b90de5b0-c325-4e2b-bc01-073822a10b61",
   "metadata": {},
   "outputs": [
    {
     "data": {
      "text/plain": [
       "capital-loss\n",
       "0       46560\n",
       "1902      304\n",
       "1977      253\n",
       "1887      233\n",
       "2415       72\n",
       "        ...  \n",
       "1539        1\n",
       "1870        1\n",
       "1911        1\n",
       "2465        1\n",
       "1421        1\n",
       "Name: count, Length: 99, dtype: int64"
      ]
     },
     "execution_count": 424,
     "metadata": {},
     "output_type": "execute_result"
    }
   ],
   "source": [
    "#Método con el cual se realiza el conteo de cada uno de los valores dentro de la variable\n",
    "df[\"capital-loss\"].value_counts()"
   ]
  },
  {
   "cell_type": "code",
   "execution_count": 426,
   "id": "31128a34-bf55-4edd-a8d9-b69a6a588875",
   "metadata": {},
   "outputs": [
    {
     "data": {
      "text/plain": [
       "4356"
      ]
     },
     "execution_count": 426,
     "metadata": {},
     "output_type": "execute_result"
    }
   ],
   "source": [
    "# Metodo para identificar el número más grande dentro de la variable\n",
    "df[\"capital-loss\"].max()"
   ]
  },
  {
   "cell_type": "code",
   "execution_count": 428,
   "id": "07484add-4003-4eff-82f3-16be0aafcef7",
   "metadata": {},
   "outputs": [
    {
     "data": {
      "text/plain": [
       "0"
      ]
     },
     "execution_count": 428,
     "metadata": {},
     "output_type": "execute_result"
    }
   ],
   "source": [
    "# Metodo para identificar el número más pequeño dentro de la variable\n",
    "df[\"capital-loss\"].min()"
   ]
  },
  {
   "cell_type": "code",
   "execution_count": 430,
   "id": "b3918ef7-071d-40a4-989b-58ca979a9dae",
   "metadata": {},
   "outputs": [
    {
     "data": {
      "text/plain": [
       "0    0\n",
       "Name: capital-loss, dtype: int64"
      ]
     },
     "execution_count": 430,
     "metadata": {},
     "output_type": "execute_result"
    }
   ],
   "source": [
    "# Metodo para identificar el valor que aparece con mayor frecuencia dentro de la variable\n",
    "df[\"capital-loss\"].mode()"
   ]
  },
  {
   "cell_type": "code",
   "execution_count": 432,
   "id": "0cb72c8c-090f-41be-a625-32013d49a406",
   "metadata": {},
   "outputs": [
    {
     "data": {
      "text/plain": [
       "99"
      ]
     },
     "execution_count": 432,
     "metadata": {},
     "output_type": "execute_result"
    }
   ],
   "source": [
    "# Metodo para identificar el número de valores únicos dentro de una variable\n",
    "df[\"capital-loss\"].nunique()"
   ]
  },
  {
   "cell_type": "code",
   "execution_count": 434,
   "id": "8e9a3f0c-b0cb-45b9-846e-f40baa4b3a0b",
   "metadata": {},
   "outputs": [
    {
     "data": {
      "text/plain": [
       "array([   0, 2042, 1408, 1902, 1573, 1887, 1719, 1762, 1564, 2179, 1816,\n",
       "       1980, 1977, 1876, 1340, 2206, 1741, 1485, 2339, 2415, 1380, 1721,\n",
       "       2051, 2377, 1669, 2352, 1672,  653, 2392, 1504, 2001, 1590, 1651,\n",
       "       1628, 1848, 1740, 2002, 1579, 2258, 1602,  419, 2547, 2174, 2205,\n",
       "       1726, 2444, 1138, 2238,  625,  213, 1539,  880, 1668, 1092, 1594,\n",
       "       3004, 2231, 1844,  810, 2824, 2559, 2057, 1974,  974, 2149, 1825,\n",
       "       1735, 1258, 2129, 2603, 2282,  323, 4356, 2246, 1617, 1648, 2489,\n",
       "       3770, 1755, 3683, 2267, 2080, 2457,  155, 3900, 2201, 1944, 2467,\n",
       "       2163, 2754, 2472, 1411, 1429, 3175, 1510, 1870, 1911, 2465, 1421],\n",
       "      dtype=int64)"
      ]
     },
     "execution_count": 434,
     "metadata": {},
     "output_type": "execute_result"
    }
   ],
   "source": [
    "# Nombres de las categorías dentro de la variable\n",
    "pd.unique(df[\"capital-loss\"])"
   ]
  },
  {
   "cell_type": "code",
   "execution_count": 436,
   "id": "85457313-6fd4-4426-a923-45fb2f282d0d",
   "metadata": {},
   "outputs": [
    {
     "data": {
      "text/plain": [
       "0"
      ]
     },
     "execution_count": 436,
     "metadata": {},
     "output_type": "execute_result"
    }
   ],
   "source": [
    "df[\"capital-loss\"].isnull().sum()"
   ]
  },
  {
   "cell_type": "markdown",
   "id": "17b20153-8e33-4455-9812-198256647cbf",
   "metadata": {},
   "source": [
    "##### hours-per-week\n",
    "ES una variable cuantitativa, de tipo entero, cuenta con 48842 registros con un rango entre 1 y 99. siendo 40 el número que más se repite con 22803 registros, la variable no contiene datos nulos."
   ]
  },
  {
   "cell_type": "code",
   "execution_count": 441,
   "id": "6b468b10-a2f4-4589-8b4d-1e452d568201",
   "metadata": {},
   "outputs": [
    {
     "name": "stdout",
     "output_type": "stream",
     "text": [
      "<class 'pandas.core.series.Series'>\n",
      "RangeIndex: 48842 entries, 0 to 48841\n",
      "Series name: hours-per-week\n",
      "Non-Null Count  Dtype\n",
      "--------------  -----\n",
      "48842 non-null  int64\n",
      "dtypes: int64(1)\n",
      "memory usage: 381.7 KB\n"
     ]
    }
   ],
   "source": [
    "#información de la variable en cuanto a la cantidad de datos y tipo de dato.\n",
    "df[\"hours-per-week\"].info()"
   ]
  },
  {
   "cell_type": "code",
   "execution_count": 443,
   "id": "1b8c38d6-3d1e-451d-abf7-f46de7b50bf5",
   "metadata": {},
   "outputs": [
    {
     "data": {
      "text/plain": [
       "count    48842.000000\n",
       "mean        40.422382\n",
       "std         12.391444\n",
       "min          1.000000\n",
       "25%         40.000000\n",
       "50%         40.000000\n",
       "75%         45.000000\n",
       "max         99.000000\n",
       "Name: hours-per-week, dtype: float64"
      ]
     },
     "execution_count": 443,
     "metadata": {},
     "output_type": "execute_result"
    }
   ],
   "source": [
    "#Metodo con el cual se realizan cálculos estadisticos, como conteo, media y otros. solamente aplica en variables cuantitativas.\n",
    "df[\"hours-per-week\"].describe()"
   ]
  },
  {
   "cell_type": "code",
   "execution_count": 445,
   "id": "8a51f833-10a8-4c03-8795-6582499dbc6d",
   "metadata": {},
   "outputs": [
    {
     "data": {
      "text/plain": [
       "48842"
      ]
     },
     "execution_count": 445,
     "metadata": {},
     "output_type": "execute_result"
    }
   ],
   "source": [
    "# Metodo para identificar el número de registros en la variable\n",
    "df[\"hours-per-week\"].count()"
   ]
  },
  {
   "cell_type": "code",
   "execution_count": 447,
   "id": "379f2b21-58b3-4cc7-94f1-d2a84c4152ec",
   "metadata": {},
   "outputs": [
    {
     "data": {
      "text/plain": [
       "hours-per-week\n",
       "40    22803\n",
       "50     4246\n",
       "45     2717\n",
       "60     2177\n",
       "35     1937\n",
       "      ...  \n",
       "79        1\n",
       "94        1\n",
       "82        1\n",
       "87        1\n",
       "69        1\n",
       "Name: count, Length: 96, dtype: int64"
      ]
     },
     "execution_count": 447,
     "metadata": {},
     "output_type": "execute_result"
    }
   ],
   "source": [
    "#Método con el cual se realiza el conteo de cada uno de los valores dentro de la variable\n",
    "df[\"hours-per-week\"].value_counts()"
   ]
  },
  {
   "cell_type": "code",
   "execution_count": 449,
   "id": "7c9be4cd-07f2-45d9-9bc0-1efc1b10cb02",
   "metadata": {},
   "outputs": [
    {
     "data": {
      "text/plain": [
       "99"
      ]
     },
     "execution_count": 449,
     "metadata": {},
     "output_type": "execute_result"
    }
   ],
   "source": [
    "# Metodo para identificar el número más grande dentro de la variable\n",
    "df[\"hours-per-week\"].max()"
   ]
  },
  {
   "cell_type": "code",
   "execution_count": 451,
   "id": "c313e315-8f80-4174-97ce-6bbe381c233d",
   "metadata": {},
   "outputs": [
    {
     "data": {
      "text/plain": [
       "1"
      ]
     },
     "execution_count": 451,
     "metadata": {},
     "output_type": "execute_result"
    }
   ],
   "source": [
    "# Metodo para identificar el número más pequeño dentro de la variable\n",
    "df[\"hours-per-week\"].min()"
   ]
  },
  {
   "cell_type": "code",
   "execution_count": 453,
   "id": "7af6d694-2bad-4888-bf3d-024951a5d749",
   "metadata": {},
   "outputs": [
    {
     "data": {
      "text/plain": [
       "0    40\n",
       "Name: hours-per-week, dtype: int64"
      ]
     },
     "execution_count": 453,
     "metadata": {},
     "output_type": "execute_result"
    }
   ],
   "source": [
    "# Metodo para identificar el valor que aparece con mayor frecuencia dentro de la variable\n",
    "df[\"hours-per-week\"].mode()"
   ]
  },
  {
   "cell_type": "code",
   "execution_count": 455,
   "id": "485aa2ad-70fe-4e1b-9752-a1e0de91d32d",
   "metadata": {},
   "outputs": [
    {
     "data": {
      "text/plain": [
       "96"
      ]
     },
     "execution_count": 455,
     "metadata": {},
     "output_type": "execute_result"
    }
   ],
   "source": [
    "# Metodo para identificar el número de valores únicos dentro de una variable\n",
    "df[\"hours-per-week\"].nunique()"
   ]
  },
  {
   "cell_type": "code",
   "execution_count": 469,
   "id": "4fd2a804-6d26-4366-ab3f-812f00c596b6",
   "metadata": {},
   "outputs": [
    {
     "data": {
      "text/plain": [
       "array([40, 13, 16, 45, 50, 80, 30, 35, 60, 20, 52, 44, 15, 25, 38, 43, 55,\n",
       "       48, 58, 32, 70,  2, 22, 56, 41, 28, 36, 24, 46, 42, 12, 65,  1, 10,\n",
       "       34, 75, 98, 33, 54,  8,  6, 64, 19, 18, 72,  5,  9, 47, 37, 21, 26,\n",
       "       14,  4, 59,  7, 99, 53, 39, 62, 57, 78, 90, 66, 11, 49, 84,  3, 17,\n",
       "       68, 27, 85, 31, 51, 77, 63, 23, 87, 88, 73, 89, 97, 94, 29, 96, 67,\n",
       "       82, 86, 91, 81, 76, 92, 61, 74, 95, 79, 69], dtype=int64)"
      ]
     },
     "execution_count": 469,
     "metadata": {},
     "output_type": "execute_result"
    }
   ],
   "source": [
    "# Nombres de las categorías dentro de la variable\n",
    "pd.unique(df[\"hours-per-week\"])"
   ]
  },
  {
   "cell_type": "code",
   "execution_count": 471,
   "id": "8cb9746b-2148-4ecf-b87c-4dc4b686c8a0",
   "metadata": {},
   "outputs": [
    {
     "data": {
      "text/plain": [
       "0"
      ]
     },
     "execution_count": 471,
     "metadata": {},
     "output_type": "execute_result"
    }
   ],
   "source": [
    "# Metodo para contar los valores nulos\n",
    "df[\"hours-per-week\"].isnull().sum()"
   ]
  },
  {
   "cell_type": "markdown",
   "id": "ff4a032b-0ba0-435c-8ac3-c51761625a50",
   "metadata": {},
   "source": [
    "##### native-country\n",
    "Es una variable cualitativa correspondiente a pais nativo, es de tipo string, cuenta con 42 categorias, de las cuales la que más se repite es _United-States_, con 43832 registros y la que menos se repite es _Holand-Netherlands_ con 1. En cuanto a los valores nulos se encontraron 274 registros y 48568 no nulos. Adicionalmente, se resalta que existe una categoría con el simbolo _**?**_, con 583 registros, que tampoco nos brinda mayor información en comparación con los valores nulos."
   ]
  },
  {
   "cell_type": "code",
   "execution_count": 312,
   "id": "5d1bbd63-a06f-4bd3-9cc5-a998274766d0",
   "metadata": {},
   "outputs": [
    {
     "name": "stdout",
     "output_type": "stream",
     "text": [
      "<class 'pandas.core.series.Series'>\n",
      "RangeIndex: 48842 entries, 0 to 48841\n",
      "Series name: native-country\n",
      "Non-Null Count  Dtype \n",
      "--------------  ----- \n",
      "48568 non-null  object\n",
      "dtypes: object(1)\n",
      "memory usage: 381.7+ KB\n"
     ]
    }
   ],
   "source": [
    "#información de la variable en cuanto a la cantidad de datos y tipo de dato.\n",
    "df[\"native-country\"].info()"
   ]
  },
  {
   "cell_type": "code",
   "execution_count": 314,
   "id": "5b8d20fd-2517-4a7e-bf0e-3a57e4498a92",
   "metadata": {},
   "outputs": [
    {
     "data": {
      "text/plain": [
       "count             48568\n",
       "unique               42\n",
       "top       United-States\n",
       "freq              43832\n",
       "Name: native-country, dtype: object"
      ]
     },
     "execution_count": 314,
     "metadata": {},
     "output_type": "execute_result"
    }
   ],
   "source": [
    "#Metodo con el cual se realizan cálculos estadisticos, como conteo, media y otros. solamente aplica en variables cuantitativas.\n",
    "df[\"native-country\"].describe()"
   ]
  },
  {
   "cell_type": "code",
   "execution_count": 316,
   "id": "0014e8e8-3739-49ee-a8e6-2163145b446e",
   "metadata": {},
   "outputs": [
    {
     "data": {
      "text/plain": [
       "48568"
      ]
     },
     "execution_count": 316,
     "metadata": {},
     "output_type": "execute_result"
    }
   ],
   "source": [
    "# Metodo para identificar el número de registros en la variable\n",
    "df[\"native-country\"].count()"
   ]
  },
  {
   "cell_type": "code",
   "execution_count": 318,
   "id": "959748a6-0aa1-48ff-a092-50268cdfae0b",
   "metadata": {},
   "outputs": [
    {
     "data": {
      "text/plain": [
       "native-country\n",
       "United-States                 43832\n",
       "Mexico                          951\n",
       "?                               583\n",
       "Philippines                     295\n",
       "Germany                         206\n",
       "Puerto-Rico                     184\n",
       "Canada                          182\n",
       "El-Salvador                     155\n",
       "India                           151\n",
       "Cuba                            138\n",
       "England                         127\n",
       "China                           122\n",
       "South                           115\n",
       "Jamaica                         106\n",
       "Italy                           105\n",
       "Dominican-Republic              103\n",
       "Japan                            92\n",
       "Guatemala                        88\n",
       "Poland                           87\n",
       "Vietnam                          86\n",
       "Columbia                         85\n",
       "Haiti                            75\n",
       "Portugal                         67\n",
       "Taiwan                           65\n",
       "Iran                             59\n",
       "Greece                           49\n",
       "Nicaragua                        49\n",
       "Peru                             46\n",
       "Ecuador                          45\n",
       "France                           38\n",
       "Ireland                          37\n",
       "Hong                             30\n",
       "Thailand                         30\n",
       "Cambodia                         28\n",
       "Trinadad&Tobago                  27\n",
       "Laos                             23\n",
       "Yugoslavia                       23\n",
       "Outlying-US(Guam-USVI-etc)       23\n",
       "Scotland                         21\n",
       "Honduras                         20\n",
       "Hungary                          19\n",
       "Holand-Netherlands                1\n",
       "Name: count, dtype: int64"
      ]
     },
     "execution_count": 318,
     "metadata": {},
     "output_type": "execute_result"
    }
   ],
   "source": [
    "#Método con el cual se realiza el conteo de cada uno de los valores dentro de la variable\n",
    "df[\"native-country\"].value_counts()"
   ]
  },
  {
   "cell_type": "code",
   "execution_count": 332,
   "id": "002f9899-6c53-4e02-969e-1ee5ead9be08",
   "metadata": {},
   "outputs": [
    {
     "data": {
      "text/plain": [
       "0    United-States\n",
       "Name: native-country, dtype: object"
      ]
     },
     "execution_count": 332,
     "metadata": {},
     "output_type": "execute_result"
    }
   ],
   "source": [
    "# Metodo para identificar el valor que aparece con mayor frecuencia dentro de la variable\n",
    "df[\"native-country\"].mode()"
   ]
  },
  {
   "cell_type": "code",
   "execution_count": 326,
   "id": "241211dc-e8a1-4aab-995b-747cf9843a5d",
   "metadata": {},
   "outputs": [
    {
     "data": {
      "text/plain": [
       "42"
      ]
     },
     "execution_count": 326,
     "metadata": {},
     "output_type": "execute_result"
    }
   ],
   "source": [
    "# Metodo para identificar el número de valores únicos dentro de una variable\n",
    "df[\"native-country\"].nunique()"
   ]
  },
  {
   "cell_type": "code",
   "execution_count": 328,
   "id": "674b13ff-a353-4376-86fa-db6f92458971",
   "metadata": {},
   "outputs": [
    {
     "data": {
      "text/plain": [
       "array(['United-States', 'Cuba', 'Jamaica', 'India', '?', 'Mexico',\n",
       "       'South', 'Puerto-Rico', 'Honduras', 'England', 'Canada', 'Germany',\n",
       "       'Iran', 'Philippines', 'Italy', 'Poland', 'Columbia', 'Cambodia',\n",
       "       'Thailand', 'Ecuador', 'Laos', 'Taiwan', 'Haiti', 'Portugal',\n",
       "       'Dominican-Republic', 'El-Salvador', 'France', 'Guatemala',\n",
       "       'China', 'Japan', 'Yugoslavia', 'Peru',\n",
       "       'Outlying-US(Guam-USVI-etc)', 'Scotland', 'Trinadad&Tobago',\n",
       "       'Greece', 'Nicaragua', 'Vietnam', 'Hong', 'Ireland', 'Hungary',\n",
       "       'Holand-Netherlands', nan], dtype=object)"
      ]
     },
     "execution_count": 328,
     "metadata": {},
     "output_type": "execute_result"
    }
   ],
   "source": [
    "# Nombres de las categorías dentro de la variable\n",
    "pd.unique(df[\"native-country\"])"
   ]
  },
  {
   "cell_type": "code",
   "execution_count": 330,
   "id": "c22976b6-c9bf-464b-ade9-c0c0f8e7b77e",
   "metadata": {},
   "outputs": [
    {
     "data": {
      "text/plain": [
       "274"
      ]
     },
     "execution_count": 330,
     "metadata": {},
     "output_type": "execute_result"
    }
   ],
   "source": [
    "# Metodo para contar los valores nulos\n",
    "df[\"native-country\"].isnull().sum()"
   ]
  },
  {
   "cell_type": "markdown",
   "id": "54213364-e3bf-4c06-80e8-530bfecac4fb",
   "metadata": {},
   "source": [
    "##### income  \n",
    "Es una variable cuantitativa, de tipo entero, cuenta con 48842 registros con 2 opciones de respuesta _>50K y <50K_, sin embargo, debido al punto, se evidencian 4 opciones. la variable no contiene datos nulos."
   ]
  },
  {
   "cell_type": "code",
   "execution_count": 290,
   "id": "d7b5ec4c-b857-47a7-b8ab-3e0ee0c760aa",
   "metadata": {},
   "outputs": [
    {
     "name": "stdout",
     "output_type": "stream",
     "text": [
      "<class 'pandas.core.series.Series'>\n",
      "RangeIndex: 48842 entries, 0 to 48841\n",
      "Series name: income\n",
      "Non-Null Count  Dtype \n",
      "--------------  ----- \n",
      "48842 non-null  object\n",
      "dtypes: object(1)\n",
      "memory usage: 381.7+ KB\n"
     ]
    }
   ],
   "source": [
    "#información de la variable en cuanto a la cantidad de datos y tipo de dato.\n",
    "df[\"income\"].info()"
   ]
  },
  {
   "cell_type": "code",
   "execution_count": 308,
   "id": "dcaf126e-8b04-4fa0-aecc-461861be1e6d",
   "metadata": {},
   "outputs": [
    {
     "data": {
      "text/plain": [
       "count     48842\n",
       "unique        4\n",
       "top       <=50K\n",
       "freq      24720\n",
       "Name: income, dtype: object"
      ]
     },
     "execution_count": 308,
     "metadata": {},
     "output_type": "execute_result"
    }
   ],
   "source": [
    "# Metodo para contar los valores nulos\n",
    "df[\"income\"].describe()"
   ]
  },
  {
   "cell_type": "code",
   "execution_count": 292,
   "id": "e3c624bb-c117-424c-ae5b-fa5230ef16cf",
   "metadata": {},
   "outputs": [
    {
     "data": {
      "text/plain": [
       "48842"
      ]
     },
     "execution_count": 292,
     "metadata": {},
     "output_type": "execute_result"
    }
   ],
   "source": [
    "# Metodo para identificar el número de registros en la variable\n",
    "df[\"income\"].count()"
   ]
  },
  {
   "cell_type": "code",
   "execution_count": 294,
   "id": "0fd4c319-8a44-4629-be4a-86c5760a3fcf",
   "metadata": {},
   "outputs": [
    {
     "data": {
      "text/plain": [
       "income\n",
       "<=50K     24720\n",
       "<=50K.    12435\n",
       ">50K       7841\n",
       ">50K.      3846\n",
       "Name: count, dtype: int64"
      ]
     },
     "execution_count": 294,
     "metadata": {},
     "output_type": "execute_result"
    }
   ],
   "source": [
    "#Método con el cual se realiza el conteo de cada uno de los valores dentro de la variable\n",
    "df[\"income\"].value_counts()"
   ]
  },
  {
   "cell_type": "code",
   "execution_count": 296,
   "id": "4434964c-9c43-43de-8e55-c89e6113ab13",
   "metadata": {},
   "outputs": [
    {
     "data": {
      "text/plain": [
       "'>50K.'"
      ]
     },
     "execution_count": 296,
     "metadata": {},
     "output_type": "execute_result"
    }
   ],
   "source": [
    "# Metodo para identificar el número más grande dentro de la variable\n",
    "df[\"income\"].max()"
   ]
  },
  {
   "cell_type": "code",
   "execution_count": 298,
   "id": "db2c54c6-c636-4baf-81d7-f4c6705be9ba",
   "metadata": {},
   "outputs": [
    {
     "data": {
      "text/plain": [
       "'<=50K'"
      ]
     },
     "execution_count": 298,
     "metadata": {},
     "output_type": "execute_result"
    }
   ],
   "source": [
    "# Metodo para identificar el número más pequeño dentro de la variable\n",
    "df[\"income\"].min()"
   ]
  },
  {
   "cell_type": "code",
   "execution_count": 300,
   "id": "b59b5e71-1287-4ab9-89a7-1e3b5d17e150",
   "metadata": {},
   "outputs": [
    {
     "data": {
      "text/plain": [
       "0    <=50K\n",
       "Name: income, dtype: object"
      ]
     },
     "execution_count": 300,
     "metadata": {},
     "output_type": "execute_result"
    }
   ],
   "source": [
    "# Metodo para identificar el valor que aparece con mayor frecuencia dentro de la variable\n",
    "df[\"income\"].mode()"
   ]
  },
  {
   "cell_type": "code",
   "execution_count": 302,
   "id": "1fdf4a7d-b723-426e-ada0-df6b7a13cdec",
   "metadata": {},
   "outputs": [
    {
     "data": {
      "text/plain": [
       "4"
      ]
     },
     "execution_count": 302,
     "metadata": {},
     "output_type": "execute_result"
    }
   ],
   "source": [
    "# Metodo para identificar el número de valores únicos dentro de una variable\n",
    "df[\"income\"].nunique()"
   ]
  },
  {
   "cell_type": "code",
   "execution_count": 304,
   "id": "316981c6-ebfe-41df-a9ec-f0c30e5ed473",
   "metadata": {},
   "outputs": [
    {
     "data": {
      "text/plain": [
       "array(['<=50K', '>50K', '<=50K.', '>50K.'], dtype=object)"
      ]
     },
     "execution_count": 304,
     "metadata": {},
     "output_type": "execute_result"
    }
   ],
   "source": [
    "# Nombres de las categorías dentro de la variable\n",
    "pd.unique(df[\"income\"])"
   ]
  },
  {
   "cell_type": "code",
   "execution_count": 306,
   "id": "0ccc9cd3-e466-48fc-8479-4bd90f5a062a",
   "metadata": {},
   "outputs": [
    {
     "data": {
      "text/plain": [
       "0"
      ]
     },
     "execution_count": 306,
     "metadata": {},
     "output_type": "execute_result"
    }
   ],
   "source": [
    "# Metodo para contar los valores nulos\n",
    "df[\"income\"].isnull().sum()"
   ]
  },
  {
   "cell_type": "markdown",
   "id": "1ea3dcc7-bf5f-49c7-8c56-1165ebc3e356",
   "metadata": {},
   "source": [
    "## <p><center> **ACTIVIDAD 2**</center></p>  \n",
    "### Utilizar procesos con If para la limpieza de algunas variables de una Dataframe, para un análisis con datos de calidad."
   ]
  },
  {
   "cell_type": "code",
   "execution_count": 31,
   "id": "e1a84b0c-2952-4715-a1e0-233306dc78e1",
   "metadata": {},
   "outputs": [],
   "source": [
    "d_f = pd.read_csv(\"titanic (1).csv\")"
   ]
  },
  {
   "cell_type": "code",
   "execution_count": 33,
   "id": "7e7ead37-63dc-4dd1-8f7a-630ed0185363",
   "metadata": {},
   "outputs": [
    {
     "name": "stdout",
     "output_type": "stream",
     "text": [
      "<class 'pandas.core.frame.DataFrame'>\n",
      "RangeIndex: 887 entries, 0 to 886\n",
      "Data columns (total 8 columns):\n",
      " #   Column                   Non-Null Count  Dtype  \n",
      "---  ------                   --------------  -----  \n",
      " 0   Survived                 887 non-null    int64  \n",
      " 1   Pclass                   887 non-null    int64  \n",
      " 2   Name                     887 non-null    object \n",
      " 3   Sex                      887 non-null    object \n",
      " 4   Age                      887 non-null    float64\n",
      " 5   Siblings/Spouses Aboard  887 non-null    int64  \n",
      " 6   Parents/Children Aboard  887 non-null    int64  \n",
      " 7   Fare                     887 non-null    float64\n",
      "dtypes: float64(2), int64(4), object(2)\n",
      "memory usage: 55.6+ KB\n"
     ]
    }
   ],
   "source": [
    "#información de la variable en cuanto a la cantidad de datos y tipo de dato.\n",
    "d_f.info()"
   ]
  },
  {
   "cell_type": "code",
   "execution_count": 35,
   "id": "709975f4-5a10-4ef9-a4d6-b311822c9109",
   "metadata": {},
   "outputs": [
    {
     "data": {
      "text/plain": [
       "Index(['Survived', 'Pclass', 'Name', 'Sex', 'Age', 'Siblings/Spouses Aboard',\n",
       "       'Parents/Children Aboard', 'Fare'],\n",
       "      dtype='object')"
      ]
     },
     "execution_count": 35,
     "metadata": {},
     "output_type": "execute_result"
    }
   ],
   "source": [
    "#Identificación de cariables iniciales \n",
    "d_f.columns"
   ]
  },
  {
   "cell_type": "code",
   "execution_count": 37,
   "id": "73f38882-dd19-48b8-abf3-b55d5b6902a4",
   "metadata": {},
   "outputs": [
    {
     "data": {
      "text/html": [
       "<div>\n",
       "<style scoped>\n",
       "    .dataframe tbody tr th:only-of-type {\n",
       "        vertical-align: middle;\n",
       "    }\n",
       "\n",
       "    .dataframe tbody tr th {\n",
       "        vertical-align: top;\n",
       "    }\n",
       "\n",
       "    .dataframe thead th {\n",
       "        text-align: right;\n",
       "    }\n",
       "</style>\n",
       "<table border=\"1\" class=\"dataframe\">\n",
       "  <thead>\n",
       "    <tr style=\"text-align: right;\">\n",
       "      <th></th>\n",
       "      <th>Survived</th>\n",
       "      <th>Pclass</th>\n",
       "      <th>Name</th>\n",
       "      <th>Sex</th>\n",
       "      <th>Age</th>\n",
       "      <th>Siblings/Spouses Aboard</th>\n",
       "      <th>Parents/Children Aboard</th>\n",
       "      <th>Fare</th>\n",
       "    </tr>\n",
       "  </thead>\n",
       "  <tbody>\n",
       "    <tr>\n",
       "      <th>0</th>\n",
       "      <td>0</td>\n",
       "      <td>3</td>\n",
       "      <td>Mr. Owen Harris Braund</td>\n",
       "      <td>male</td>\n",
       "      <td>22.0</td>\n",
       "      <td>1</td>\n",
       "      <td>0</td>\n",
       "      <td>7.2500</td>\n",
       "    </tr>\n",
       "    <tr>\n",
       "      <th>1</th>\n",
       "      <td>1</td>\n",
       "      <td>1</td>\n",
       "      <td>Mrs. John Bradley (Florence Briggs Thayer) Cum...</td>\n",
       "      <td>female</td>\n",
       "      <td>38.0</td>\n",
       "      <td>1</td>\n",
       "      <td>0</td>\n",
       "      <td>71.2833</td>\n",
       "    </tr>\n",
       "    <tr>\n",
       "      <th>2</th>\n",
       "      <td>1</td>\n",
       "      <td>3</td>\n",
       "      <td>Miss. Laina Heikkinen</td>\n",
       "      <td>female</td>\n",
       "      <td>26.0</td>\n",
       "      <td>0</td>\n",
       "      <td>0</td>\n",
       "      <td>7.9250</td>\n",
       "    </tr>\n",
       "    <tr>\n",
       "      <th>3</th>\n",
       "      <td>1</td>\n",
       "      <td>1</td>\n",
       "      <td>Mrs. Jacques Heath (Lily May Peel) Futrelle</td>\n",
       "      <td>female</td>\n",
       "      <td>35.0</td>\n",
       "      <td>1</td>\n",
       "      <td>0</td>\n",
       "      <td>53.1000</td>\n",
       "    </tr>\n",
       "    <tr>\n",
       "      <th>4</th>\n",
       "      <td>0</td>\n",
       "      <td>3</td>\n",
       "      <td>Mr. William Henry Allen</td>\n",
       "      <td>male</td>\n",
       "      <td>35.0</td>\n",
       "      <td>0</td>\n",
       "      <td>0</td>\n",
       "      <td>8.0500</td>\n",
       "    </tr>\n",
       "  </tbody>\n",
       "</table>\n",
       "</div>"
      ],
      "text/plain": [
       "   Survived  Pclass                                               Name  \\\n",
       "0         0       3                             Mr. Owen Harris Braund   \n",
       "1         1       1  Mrs. John Bradley (Florence Briggs Thayer) Cum...   \n",
       "2         1       3                              Miss. Laina Heikkinen   \n",
       "3         1       1        Mrs. Jacques Heath (Lily May Peel) Futrelle   \n",
       "4         0       3                            Mr. William Henry Allen   \n",
       "\n",
       "      Sex   Age  Siblings/Spouses Aboard  Parents/Children Aboard     Fare  \n",
       "0    male  22.0                        1                        0   7.2500  \n",
       "1  female  38.0                        1                        0  71.2833  \n",
       "2  female  26.0                        0                        0   7.9250  \n",
       "3  female  35.0                        1                        0  53.1000  \n",
       "4    male  35.0                        0                        0   8.0500  "
      ]
     },
     "execution_count": 37,
     "metadata": {},
     "output_type": "execute_result"
    }
   ],
   "source": [
    "d_f.head()"
   ]
  },
  {
   "cell_type": "code",
   "execution_count": 47,
   "id": "b54fb946-0b81-4d7d-ad87-e9e8ca74e64e",
   "metadata": {},
   "outputs": [
    {
     "data": {
      "text/plain": [
       "2"
      ]
     },
     "execution_count": 47,
     "metadata": {},
     "output_type": "execute_result"
    }
   ],
   "source": [
    "# Metodo para identificar el número de valores únicos dentro de una variable\n",
    "d_f[\"Survived\"].nunique()"
   ]
  },
  {
   "cell_type": "code",
   "execution_count": 49,
   "id": "dc31f418-18f7-4200-beb9-0511241604a3",
   "metadata": {},
   "outputs": [
    {
     "data": {
      "text/plain": [
       "3"
      ]
     },
     "execution_count": 49,
     "metadata": {},
     "output_type": "execute_result"
    }
   ],
   "source": [
    "# Metodo para identificar el número de valores únicos dentro de una variable\n",
    "d_f[\"Pclass\"].nunique()"
   ]
  },
  {
   "cell_type": "code",
   "execution_count": 51,
   "id": "ee31d399-ee0c-4c6b-aec6-583a71247ead",
   "metadata": {},
   "outputs": [
    {
     "data": {
      "text/plain": [
       "887"
      ]
     },
     "execution_count": 51,
     "metadata": {},
     "output_type": "execute_result"
    }
   ],
   "source": [
    "# Metodo para identificar el número de valores únicos dentro de una variable\n",
    "d_f[\"Name\"].nunique()"
   ]
  },
  {
   "cell_type": "code",
   "execution_count": 53,
   "id": "c526efaa-f693-483c-ad62-dafed9e01a2d",
   "metadata": {},
   "outputs": [
    {
     "data": {
      "text/plain": [
       "2"
      ]
     },
     "execution_count": 53,
     "metadata": {},
     "output_type": "execute_result"
    }
   ],
   "source": [
    "# Metodo para identificar el número de valores únicos dentro de una variable\n",
    "d_f[\"Sex\"].nunique()"
   ]
  },
  {
   "cell_type": "code",
   "execution_count": 57,
   "id": "b5c63aee-532b-4e0c-b5c3-dfd4558bff5d",
   "metadata": {},
   "outputs": [
    {
     "data": {
      "text/plain": [
       "7"
      ]
     },
     "execution_count": 57,
     "metadata": {},
     "output_type": "execute_result"
    }
   ],
   "source": [
    "# Metodo para identificar el número de valores únicos dentro de una variable\n",
    "d_f[\"Siblings/Spouses Aboard\"].nunique()"
   ]
  },
  {
   "cell_type": "code",
   "execution_count": 59,
   "id": "66b00cc4-d58e-4e77-9ed7-f05e7fa63704",
   "metadata": {},
   "outputs": [
    {
     "data": {
      "text/plain": [
       "Siblings/Spouses Aboard\n",
       "0    604\n",
       "1    209\n",
       "2     28\n",
       "4     18\n",
       "3     16\n",
       "8      7\n",
       "5      5\n",
       "Name: count, dtype: int64"
      ]
     },
     "execution_count": 59,
     "metadata": {},
     "output_type": "execute_result"
    }
   ],
   "source": [
    "d_f[\"Siblings/Spouses Aboard\"].value_counts()"
   ]
  },
  {
   "cell_type": "code",
   "execution_count": 61,
   "id": "201b7a0f-1ac1-4c5d-b3d2-7ca458b0cd17",
   "metadata": {},
   "outputs": [
    {
     "data": {
      "text/plain": [
       "7"
      ]
     },
     "execution_count": 61,
     "metadata": {},
     "output_type": "execute_result"
    }
   ],
   "source": [
    "# Metodo para identificar el número de valores únicos dentro de una variable\n",
    "d_f[\"Parents/Children Aboard\"].nunique()"
   ]
  },
  {
   "cell_type": "code",
   "execution_count": 63,
   "id": "58eaeddf-8dca-4cbf-872c-be92385843ca",
   "metadata": {},
   "outputs": [
    {
     "data": {
      "text/plain": [
       "Parents/Children Aboard\n",
       "0    674\n",
       "1    118\n",
       "2     80\n",
       "5      5\n",
       "3      5\n",
       "4      4\n",
       "6      1\n",
       "Name: count, dtype: int64"
      ]
     },
     "execution_count": 63,
     "metadata": {},
     "output_type": "execute_result"
    }
   ],
   "source": [
    "d_f[\"Parents/Children Aboard\"].value_counts()"
   ]
  },
  {
   "cell_type": "code",
   "execution_count": 65,
   "id": "0ccb34a8-4804-41b2-8166-d3bab90aadea",
   "metadata": {},
   "outputs": [
    {
     "data": {
      "text/plain": [
       "248"
      ]
     },
     "execution_count": 65,
     "metadata": {},
     "output_type": "execute_result"
    }
   ],
   "source": [
    "d_f[\"Fare\"].nunique()"
   ]
  },
  {
   "cell_type": "code",
   "execution_count": null,
   "id": "0f76ea5b-57d7-423f-b87f-7a16978149e9",
   "metadata": {},
   "outputs": [],
   "source": []
  }
 ],
 "metadata": {
  "kernelspec": {
   "display_name": "Python 3 (ipykernel)",
   "language": "python",
   "name": "python3"
  },
  "language_info": {
   "codemirror_mode": {
    "name": "ipython",
    "version": 3
   },
   "file_extension": ".py",
   "mimetype": "text/x-python",
   "name": "python",
   "nbconvert_exporter": "python",
   "pygments_lexer": "ipython3",
   "version": "3.12.4"
  }
 },
 "nbformat": 4,
 "nbformat_minor": 5
}
