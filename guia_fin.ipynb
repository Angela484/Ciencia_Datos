{
 "cells": [
  {
   "cell_type": "markdown",
   "id": "31322a01-9fce-4b9c-b632-3b3b97088f51",
   "metadata": {},
   "source": [
    "# <p><center> **GUIA 1**</center></p>"
   ]
  },
  {
   "cell_type": "markdown",
   "id": "195b0fdc-a369-4e9c-9d11-1be2c94410d9",
   "metadata": {},
   "source": [
    "## <p><center> **ACTIVIDAD 1**</center></p>  \n",
    "### Reconocer los tipos de datos de las variables con las que se cuenta y aplicar las funciones correspondientes a ellas."
   ]
  },
  {
   "cell_type": "markdown",
   "id": "3309c016-5a80-43fc-94e8-f8c4a363ba6d",
   "metadata": {},
   "source": [
    "##### cargue y lectura del df"
   ]
  },
  {
   "cell_type": "code",
   "execution_count": 5,
   "id": "58462514-084d-47ee-b546-261a9fa88997",
   "metadata": {},
   "outputs": [],
   "source": [
    "#Importación de la librería pandas\n",
    "import pandas as pd"
   ]
  },
  {
   "cell_type": "code",
   "execution_count": 17,
   "id": "17ba100a-471e-4135-b037-85b2a6c1c4e8",
   "metadata": {},
   "outputs": [],
   "source": [
    "#lectura de la base de datos\n",
    "df = pd.read_csv(\"census_income.csv\")"
   ]
  },
  {
   "cell_type": "markdown",
   "id": "47b1718c-5c1c-43e7-b310-3662766091c3",
   "metadata": {},
   "source": [
    "##### Caracterización inicial del df."
   ]
  },
  {
   "cell_type": "code",
   "execution_count": 9,
   "id": "3b5ded04-f8ae-43ec-8e68-8c514cfd0a5a",
   "metadata": {},
   "outputs": [
    {
     "data": {
      "text/plain": [
       "16"
      ]
     },
     "execution_count": 9,
     "metadata": {},
     "output_type": "execute_result"
    }
   ],
   "source": [
    "#cantidad de columnas\n",
    "df.shape[1]"
   ]
  },
  {
   "cell_type": "code",
   "execution_count": 11,
   "id": "e3d36f5f-7936-438e-9002-c771757a5c31",
   "metadata": {},
   "outputs": [
    {
     "data": {
      "text/plain": [
       "48842"
      ]
     },
     "execution_count": 11,
     "metadata": {},
     "output_type": "execute_result"
    }
   ],
   "source": [
    "# Cantidad de filas\n",
    "len(df)"
   ]
  },
  {
   "cell_type": "code",
   "execution_count": 13,
   "id": "c495bc7e-c5b8-4f5c-8bdb-ccd9cf26b0d8",
   "metadata": {},
   "outputs": [
    {
     "data": {
      "text/plain": [
       "Index(['Unnamed: 0', 'age', 'workclass', 'fnlwgt', 'education',\n",
       "       'education-num', 'marital-status', 'occupation', 'relationship', 'race',\n",
       "       'sex', 'capital-gain', 'capital-loss', 'hours-per-week',\n",
       "       'native-country', 'income'],\n",
       "      dtype='object')"
      ]
     },
     "execution_count": 13,
     "metadata": {},
     "output_type": "execute_result"
    }
   ],
   "source": [
    "#Verificación de las columnas con el nombre de la variable\n",
    "df.columns"
   ]
  },
  {
   "cell_type": "code",
   "execution_count": 67,
   "id": "b9b97388-1044-40c8-a5a9-d5cb788a4b3e",
   "metadata": {},
   "outputs": [
    {
     "data": {
      "text/plain": [
       "array([[0, 39, 'State-gov', ..., 40, 'United-States', '<=50K'],\n",
       "       [1, 50, 'Self-emp-not-inc', ..., 13, 'United-States', '<=50K'],\n",
       "       [2, 38, 'Private', ..., 40, 'United-States', '<=50K'],\n",
       "       ...,\n",
       "       [48839, 38, 'Private', ..., 50, 'United-States', '<=50K.'],\n",
       "       [48840, 44, 'Private', ..., 40, 'United-States', '<=50K.'],\n",
       "       [48841, 35, 'Self-emp-inc', ..., 60, 'United-States', '>50K.']],\n",
       "      dtype=object)"
      ]
     },
     "execution_count": 67,
     "metadata": {},
     "output_type": "execute_result"
    }
   ],
   "source": [
    "df.values"
   ]
  },
  {
   "cell_type": "code",
   "execution_count": 48,
   "id": "e7859d00-ac2a-468b-90d1-322a285ffe9e",
   "metadata": {},
   "outputs": [
    {
     "data": {
      "text/html": [
       "<div>\n",
       "<style scoped>\n",
       "    .dataframe tbody tr th:only-of-type {\n",
       "        vertical-align: middle;\n",
       "    }\n",
       "\n",
       "    .dataframe tbody tr th {\n",
       "        vertical-align: top;\n",
       "    }\n",
       "\n",
       "    .dataframe thead th {\n",
       "        text-align: right;\n",
       "    }\n",
       "</style>\n",
       "<table border=\"1\" class=\"dataframe\">\n",
       "  <thead>\n",
       "    <tr style=\"text-align: right;\">\n",
       "      <th></th>\n",
       "      <th>Unnamed: 0</th>\n",
       "      <th>age</th>\n",
       "      <th>workclass</th>\n",
       "      <th>fnlwgt</th>\n",
       "      <th>education</th>\n",
       "      <th>education-num</th>\n",
       "      <th>marital-status</th>\n",
       "      <th>occupation</th>\n",
       "      <th>relationship</th>\n",
       "      <th>race</th>\n",
       "      <th>sex</th>\n",
       "      <th>capital-gain</th>\n",
       "      <th>capital-loss</th>\n",
       "      <th>hours-per-week</th>\n",
       "      <th>native-country</th>\n",
       "      <th>income</th>\n",
       "    </tr>\n",
       "  </thead>\n",
       "  <tbody>\n",
       "    <tr>\n",
       "      <th>0</th>\n",
       "      <td>0</td>\n",
       "      <td>39</td>\n",
       "      <td>State-gov</td>\n",
       "      <td>77516</td>\n",
       "      <td>Bachelors</td>\n",
       "      <td>13</td>\n",
       "      <td>Never-married</td>\n",
       "      <td>Adm-clerical</td>\n",
       "      <td>Not-in-family</td>\n",
       "      <td>White</td>\n",
       "      <td>Male</td>\n",
       "      <td>2174</td>\n",
       "      <td>0</td>\n",
       "      <td>40</td>\n",
       "      <td>United-States</td>\n",
       "      <td>&lt;=50K</td>\n",
       "    </tr>\n",
       "    <tr>\n",
       "      <th>1</th>\n",
       "      <td>1</td>\n",
       "      <td>50</td>\n",
       "      <td>Self-emp-not-inc</td>\n",
       "      <td>83311</td>\n",
       "      <td>Bachelors</td>\n",
       "      <td>13</td>\n",
       "      <td>Married-civ-spouse</td>\n",
       "      <td>Exec-managerial</td>\n",
       "      <td>Husband</td>\n",
       "      <td>White</td>\n",
       "      <td>Male</td>\n",
       "      <td>0</td>\n",
       "      <td>0</td>\n",
       "      <td>13</td>\n",
       "      <td>United-States</td>\n",
       "      <td>&lt;=50K</td>\n",
       "    </tr>\n",
       "    <tr>\n",
       "      <th>2</th>\n",
       "      <td>2</td>\n",
       "      <td>38</td>\n",
       "      <td>Private</td>\n",
       "      <td>215646</td>\n",
       "      <td>HS-grad</td>\n",
       "      <td>9</td>\n",
       "      <td>Divorced</td>\n",
       "      <td>Handlers-cleaners</td>\n",
       "      <td>Not-in-family</td>\n",
       "      <td>White</td>\n",
       "      <td>Male</td>\n",
       "      <td>0</td>\n",
       "      <td>0</td>\n",
       "      <td>40</td>\n",
       "      <td>United-States</td>\n",
       "      <td>&lt;=50K</td>\n",
       "    </tr>\n",
       "    <tr>\n",
       "      <th>3</th>\n",
       "      <td>3</td>\n",
       "      <td>53</td>\n",
       "      <td>Private</td>\n",
       "      <td>234721</td>\n",
       "      <td>11th</td>\n",
       "      <td>7</td>\n",
       "      <td>Married-civ-spouse</td>\n",
       "      <td>Handlers-cleaners</td>\n",
       "      <td>Husband</td>\n",
       "      <td>Black</td>\n",
       "      <td>Male</td>\n",
       "      <td>0</td>\n",
       "      <td>0</td>\n",
       "      <td>40</td>\n",
       "      <td>United-States</td>\n",
       "      <td>&lt;=50K</td>\n",
       "    </tr>\n",
       "    <tr>\n",
       "      <th>4</th>\n",
       "      <td>4</td>\n",
       "      <td>28</td>\n",
       "      <td>Private</td>\n",
       "      <td>338409</td>\n",
       "      <td>Bachelors</td>\n",
       "      <td>13</td>\n",
       "      <td>Married-civ-spouse</td>\n",
       "      <td>Prof-specialty</td>\n",
       "      <td>Wife</td>\n",
       "      <td>Black</td>\n",
       "      <td>Female</td>\n",
       "      <td>0</td>\n",
       "      <td>0</td>\n",
       "      <td>40</td>\n",
       "      <td>Cuba</td>\n",
       "      <td>&lt;=50K</td>\n",
       "    </tr>\n",
       "  </tbody>\n",
       "</table>\n",
       "</div>"
      ],
      "text/plain": [
       "   Unnamed: 0  age         workclass  fnlwgt  education  education-num  \\\n",
       "0           0   39         State-gov   77516  Bachelors             13   \n",
       "1           1   50  Self-emp-not-inc   83311  Bachelors             13   \n",
       "2           2   38           Private  215646    HS-grad              9   \n",
       "3           3   53           Private  234721       11th              7   \n",
       "4           4   28           Private  338409  Bachelors             13   \n",
       "\n",
       "       marital-status         occupation   relationship   race     sex  \\\n",
       "0       Never-married       Adm-clerical  Not-in-family  White    Male   \n",
       "1  Married-civ-spouse    Exec-managerial        Husband  White    Male   \n",
       "2            Divorced  Handlers-cleaners  Not-in-family  White    Male   \n",
       "3  Married-civ-spouse  Handlers-cleaners        Husband  Black    Male   \n",
       "4  Married-civ-spouse     Prof-specialty           Wife  Black  Female   \n",
       "\n",
       "   capital-gain  capital-loss  hours-per-week native-country income  \n",
       "0          2174             0              40  United-States  <=50K  \n",
       "1             0             0              13  United-States  <=50K  \n",
       "2             0             0              40  United-States  <=50K  \n",
       "3             0             0              40  United-States  <=50K  \n",
       "4             0             0              40           Cuba  <=50K  "
      ]
     },
     "execution_count": 48,
     "metadata": {},
     "output_type": "execute_result"
    }
   ],
   "source": [
    "# Verificación inicial del contenido de la base de datos.\n",
    "df.head(5)"
   ]
  },
  {
   "cell_type": "code",
   "execution_count": 19,
   "id": "69885834-7e74-4b56-a501-71b5a3fa5c23",
   "metadata": {},
   "outputs": [
    {
     "name": "stdout",
     "output_type": "stream",
     "text": [
      "<class 'pandas.core.frame.DataFrame'>\n",
      "RangeIndex: 48842 entries, 0 to 48841\n",
      "Data columns (total 16 columns):\n",
      " #   Column          Non-Null Count  Dtype \n",
      "---  ------          --------------  ----- \n",
      " 0   Unnamed: 0      48842 non-null  int64 \n",
      " 1   age             48842 non-null  int64 \n",
      " 2   workclass       47879 non-null  object\n",
      " 3   fnlwgt          48842 non-null  int64 \n",
      " 4   education       48842 non-null  object\n",
      " 5   education-num   48842 non-null  int64 \n",
      " 6   marital-status  48842 non-null  object\n",
      " 7   occupation      47876 non-null  object\n",
      " 8   relationship    48842 non-null  object\n",
      " 9   race            48842 non-null  object\n",
      " 10  sex             48842 non-null  object\n",
      " 11  capital-gain    48842 non-null  int64 \n",
      " 12  capital-loss    48842 non-null  int64 \n",
      " 13  hours-per-week  48842 non-null  int64 \n",
      " 14  native-country  48568 non-null  object\n",
      " 15  income          48842 non-null  object\n",
      "dtypes: int64(7), object(9)\n",
      "memory usage: 6.0+ MB\n"
     ]
    }
   ],
   "source": [
    "#información de cada una de las variables en cuanto a la cantidad de datos y tipo de datos en cada una de ellas\n",
    "df.info()"
   ]
  },
  {
   "cell_type": "code",
   "execution_count": 53,
   "id": "1a246e74-3816-4e3c-b76f-27ecb445e3c9",
   "metadata": {},
   "outputs": [
    {
     "data": {
      "text/plain": [
       "(48842, 16)"
      ]
     },
     "execution_count": 53,
     "metadata": {},
     "output_type": "execute_result"
    }
   ],
   "source": [
    "#conteo de las filas y columnas dentro de la variable\n",
    "df.shape"
   ]
  },
  {
   "cell_type": "code",
   "execution_count": 109,
   "id": "c1e49ff9-a0c9-4b6d-9893-5acc29551d84",
   "metadata": {},
   "outputs": [
    {
     "data": {
      "text/html": [
       "<div>\n",
       "<style scoped>\n",
       "    .dataframe tbody tr th:only-of-type {\n",
       "        vertical-align: middle;\n",
       "    }\n",
       "\n",
       "    .dataframe tbody tr th {\n",
       "        vertical-align: top;\n",
       "    }\n",
       "\n",
       "    .dataframe thead th {\n",
       "        text-align: right;\n",
       "    }\n",
       "</style>\n",
       "<table border=\"1\" class=\"dataframe\">\n",
       "  <thead>\n",
       "    <tr style=\"text-align: right;\">\n",
       "      <th></th>\n",
       "      <th>Unnamed: 0</th>\n",
       "      <th>age</th>\n",
       "      <th>fnlwgt</th>\n",
       "      <th>education-num</th>\n",
       "      <th>capital-gain</th>\n",
       "      <th>capital-loss</th>\n",
       "      <th>hours-per-week</th>\n",
       "    </tr>\n",
       "  </thead>\n",
       "  <tbody>\n",
       "    <tr>\n",
       "      <th>count</th>\n",
       "      <td>48842.000000</td>\n",
       "      <td>48842.000000</td>\n",
       "      <td>4.884200e+04</td>\n",
       "      <td>48842.000000</td>\n",
       "      <td>48842.000000</td>\n",
       "      <td>48842.000000</td>\n",
       "      <td>48842.000000</td>\n",
       "    </tr>\n",
       "    <tr>\n",
       "      <th>mean</th>\n",
       "      <td>24420.500000</td>\n",
       "      <td>38.643585</td>\n",
       "      <td>1.896641e+05</td>\n",
       "      <td>10.078089</td>\n",
       "      <td>1079.067626</td>\n",
       "      <td>87.502314</td>\n",
       "      <td>40.422382</td>\n",
       "    </tr>\n",
       "    <tr>\n",
       "      <th>std</th>\n",
       "      <td>14099.615261</td>\n",
       "      <td>13.710510</td>\n",
       "      <td>1.056040e+05</td>\n",
       "      <td>2.570973</td>\n",
       "      <td>7452.019058</td>\n",
       "      <td>403.004552</td>\n",
       "      <td>12.391444</td>\n",
       "    </tr>\n",
       "    <tr>\n",
       "      <th>min</th>\n",
       "      <td>0.000000</td>\n",
       "      <td>17.000000</td>\n",
       "      <td>1.228500e+04</td>\n",
       "      <td>1.000000</td>\n",
       "      <td>0.000000</td>\n",
       "      <td>0.000000</td>\n",
       "      <td>1.000000</td>\n",
       "    </tr>\n",
       "    <tr>\n",
       "      <th>25%</th>\n",
       "      <td>12210.250000</td>\n",
       "      <td>28.000000</td>\n",
       "      <td>1.175505e+05</td>\n",
       "      <td>9.000000</td>\n",
       "      <td>0.000000</td>\n",
       "      <td>0.000000</td>\n",
       "      <td>40.000000</td>\n",
       "    </tr>\n",
       "    <tr>\n",
       "      <th>50%</th>\n",
       "      <td>24420.500000</td>\n",
       "      <td>37.000000</td>\n",
       "      <td>1.781445e+05</td>\n",
       "      <td>10.000000</td>\n",
       "      <td>0.000000</td>\n",
       "      <td>0.000000</td>\n",
       "      <td>40.000000</td>\n",
       "    </tr>\n",
       "    <tr>\n",
       "      <th>75%</th>\n",
       "      <td>36630.750000</td>\n",
       "      <td>48.000000</td>\n",
       "      <td>2.376420e+05</td>\n",
       "      <td>12.000000</td>\n",
       "      <td>0.000000</td>\n",
       "      <td>0.000000</td>\n",
       "      <td>45.000000</td>\n",
       "    </tr>\n",
       "    <tr>\n",
       "      <th>max</th>\n",
       "      <td>48841.000000</td>\n",
       "      <td>90.000000</td>\n",
       "      <td>1.490400e+06</td>\n",
       "      <td>16.000000</td>\n",
       "      <td>99999.000000</td>\n",
       "      <td>4356.000000</td>\n",
       "      <td>99.000000</td>\n",
       "    </tr>\n",
       "  </tbody>\n",
       "</table>\n",
       "</div>"
      ],
      "text/plain": [
       "         Unnamed: 0           age        fnlwgt  education-num  capital-gain  \\\n",
       "count  48842.000000  48842.000000  4.884200e+04   48842.000000  48842.000000   \n",
       "mean   24420.500000     38.643585  1.896641e+05      10.078089   1079.067626   \n",
       "std    14099.615261     13.710510  1.056040e+05       2.570973   7452.019058   \n",
       "min        0.000000     17.000000  1.228500e+04       1.000000      0.000000   \n",
       "25%    12210.250000     28.000000  1.175505e+05       9.000000      0.000000   \n",
       "50%    24420.500000     37.000000  1.781445e+05      10.000000      0.000000   \n",
       "75%    36630.750000     48.000000  2.376420e+05      12.000000      0.000000   \n",
       "max    48841.000000     90.000000  1.490400e+06      16.000000  99999.000000   \n",
       "\n",
       "       capital-loss  hours-per-week  \n",
       "count  48842.000000    48842.000000  \n",
       "mean      87.502314       40.422382  \n",
       "std      403.004552       12.391444  \n",
       "min        0.000000        1.000000  \n",
       "25%        0.000000       40.000000  \n",
       "50%        0.000000       40.000000  \n",
       "75%        0.000000       45.000000  \n",
       "max     4356.000000       99.000000  "
      ]
     },
     "execution_count": 109,
     "metadata": {},
     "output_type": "execute_result"
    }
   ],
   "source": [
    "#metodo en el cuál solamente se tienen en cuenta las variables cuantitativas \n",
    "#y se realizan diversos cálculos, como conteo, media, desviación, minimo, maximo, percentiles.\n",
    "df.describe()"
   ]
  },
  {
   "cell_type": "markdown",
   "id": "2312f1e8-9ca6-414f-a05c-cd0dfa6d70f1",
   "metadata": {},
   "source": [
    "##### Unnamed  \n",
    "###### Corresponde a una variable que muestra un consecutico, por lo que no le realizo ningún análisis"
   ]
  },
  {
   "cell_type": "code",
   "execution_count": null,
   "id": "8da6b3c8-02cd-4c9b-bfa5-db9d7d632c31",
   "metadata": {},
   "outputs": [],
   "source": []
  },
  {
   "cell_type": "markdown",
   "id": "eb32ad2f-9875-4329-b0f9-9efaa61a200a",
   "metadata": {},
   "source": [
    "##### Age"
   ]
  },
  {
   "cell_type": "code",
   "execution_count": 103,
   "id": "d6d806c5-1606-4703-b2ce-420182c131c3",
   "metadata": {},
   "outputs": [
    {
     "data": {
      "text/plain": [
       "age\n",
       "36    1348\n",
       "35    1337\n",
       "33    1335\n",
       "23    1329\n",
       "31    1325\n",
       "      ... \n",
       "88       6\n",
       "85       5\n",
       "87       3\n",
       "89       2\n",
       "86       1\n",
       "Name: count, Length: 74, dtype: int64"
      ]
     },
     "execution_count": 103,
     "metadata": {},
     "output_type": "execute_result"
    }
   ],
   "source": [
    "#Observar la variable, conteo de los valores dentro de la variable\n",
    "df[\"age\"].value_counts()"
   ]
  },
  {
   "cell_type": "code",
   "execution_count": 105,
   "id": "8a792cf2-f08e-4592-a6fb-d164856d2279",
   "metadata": {},
   "outputs": [
    {
     "name": "stdout",
     "output_type": "stream",
     "text": [
      "<class 'pandas.core.series.Series'>\n",
      "RangeIndex: 48842 entries, 0 to 48841\n",
      "Series name: age\n",
      "Non-Null Count  Dtype\n",
      "--------------  -----\n",
      "48842 non-null  int64\n",
      "dtypes: int64(1)\n",
      "memory usage: 381.7 KB\n"
     ]
    }
   ],
   "source": [
    "#información de la variable en cuanto a la cantidad de datos y tipo de dato.\n",
    "df[\"age\"].info()"
   ]
  },
  {
   "cell_type": "code",
   "execution_count": 63,
   "id": "fd3405ce-e247-4e54-84a8-929d1f8534c2",
   "metadata": {},
   "outputs": [
    {
     "data": {
      "text/plain": [
       "48842"
      ]
     },
     "execution_count": 63,
     "metadata": {},
     "output_type": "execute_result"
    }
   ],
   "source": [
    "df[\"age\"].count()"
   ]
  },
  {
   "cell_type": "code",
   "execution_count": 71,
   "id": "4499bb3a-4c5a-46a3-b24a-cd7cc9780ea9",
   "metadata": {},
   "outputs": [
    {
     "data": {
      "text/plain": [
       "age\n",
       "36    1348\n",
       "35    1337\n",
       "33    1335\n",
       "23    1329\n",
       "31    1325\n",
       "      ... \n",
       "88       6\n",
       "85       5\n",
       "87       3\n",
       "89       2\n",
       "86       1\n",
       "Name: count, Length: 74, dtype: int64"
      ]
     },
     "execution_count": 71,
     "metadata": {},
     "output_type": "execute_result"
    }
   ],
   "source": [
    "df[\"age\"].value_counts()"
   ]
  },
  {
   "cell_type": "code",
   "execution_count": 111,
   "id": "dbe0b2b4-c326-4a8c-ad58-e633ca516cf6",
   "metadata": {},
   "outputs": [
    {
     "data": {
      "text/plain": [
       "count    48842.000000\n",
       "mean        38.643585\n",
       "std         13.710510\n",
       "min         17.000000\n",
       "25%         28.000000\n",
       "50%         37.000000\n",
       "75%         48.000000\n",
       "max         90.000000\n",
       "Name: age, dtype: float64"
      ]
     },
     "execution_count": 111,
     "metadata": {},
     "output_type": "execute_result"
    }
   ],
   "source": [
    "df[\"age\"].describe()"
   ]
  },
  {
   "cell_type": "markdown",
   "id": "34274072-7f34-4ba1-9a23-0a8c8477a6ba",
   "metadata": {},
   "source": [
    "##### workclass"
   ]
  },
  {
   "cell_type": "code",
   "execution_count": 165,
   "id": "bb193ec4-4026-41fd-a0c0-80283b0f87a1",
   "metadata": {},
   "outputs": [
    {
     "name": "stdout",
     "output_type": "stream",
     "text": [
      "workclass\n",
      "Private             33906\n",
      "Self-emp-not-inc     3862\n",
      "Local-gov            3136\n",
      "State-gov            1981\n",
      "?                    1836\n",
      "Self-emp-inc         1695\n",
      "Federal-gov          1432\n",
      "Without-pay            21\n",
      "Never-worked           10\n",
      "Name: count, dtype: int64\n"
     ]
    },
    {
     "data": {
      "text/plain": [
       "47879"
      ]
     },
     "execution_count": 165,
     "metadata": {},
     "output_type": "execute_result"
    }
   ],
   "source": [
    "#Frecuencia de cada una de las opciones de la variable\n",
    "print(df[\"workclass\"].value_counts())\n",
    "df[\"workclass\"].value_counts().sum() ### Con este método me doy cuenta que no están todos los datos, de acuerdo con el número de filas. "
   ]
  },
  {
   "cell_type": "code",
   "execution_count": 157,
   "id": "7fb5924c-499c-4ed5-b1e3-88ee6563503c",
   "metadata": {},
   "outputs": [
    {
     "data": {
      "text/plain": [
       "963"
      ]
     },
     "execution_count": 157,
     "metadata": {},
     "output_type": "execute_result"
    }
   ],
   "source": [
    "#conteo de los valores nulos dentro de la variable\n",
    "df[\"workclass\"].isnull().sum() "
   ]
  },
  {
   "cell_type": "code",
   "execution_count": 69,
   "id": "81db9073-cef7-4f09-bd2d-fecdcc61fa5c",
   "metadata": {},
   "outputs": [
    {
     "data": {
      "text/plain": [
       "74"
      ]
     },
     "execution_count": 69,
     "metadata": {},
     "output_type": "execute_result"
    }
   ],
   "source": [
    "# valores unicos\n",
    "df[\"age\"].nunique()"
   ]
  },
  {
   "cell_type": "code",
   "execution_count": 71,
   "id": "f0375109-19bd-42dc-a7c3-0a42affa26e1",
   "metadata": {},
   "outputs": [
    {
     "data": {
      "text/html": [
       "<div>\n",
       "<style scoped>\n",
       "    .dataframe tbody tr th:only-of-type {\n",
       "        vertical-align: middle;\n",
       "    }\n",
       "\n",
       "    .dataframe tbody tr th {\n",
       "        vertical-align: top;\n",
       "    }\n",
       "\n",
       "    .dataframe thead th {\n",
       "        text-align: right;\n",
       "    }\n",
       "</style>\n",
       "<table border=\"1\" class=\"dataframe\">\n",
       "  <thead>\n",
       "    <tr style=\"text-align: right;\">\n",
       "      <th></th>\n",
       "      <th>Unnamed: 0</th>\n",
       "      <th>age</th>\n",
       "      <th>workclass</th>\n",
       "      <th>fnlwgt</th>\n",
       "      <th>education</th>\n",
       "      <th>education-num</th>\n",
       "      <th>marital-status</th>\n",
       "      <th>occupation</th>\n",
       "      <th>relationship</th>\n",
       "      <th>race</th>\n",
       "      <th>sex</th>\n",
       "      <th>capital-gain</th>\n",
       "      <th>capital-loss</th>\n",
       "      <th>hours-per-week</th>\n",
       "      <th>native-country</th>\n",
       "      <th>income</th>\n",
       "    </tr>\n",
       "  </thead>\n",
       "  <tbody>\n",
       "    <tr>\n",
       "      <th>6252</th>\n",
       "      <td>6252</td>\n",
       "      <td>26</td>\n",
       "      <td>Private</td>\n",
       "      <td>133373</td>\n",
       "      <td>Some-college</td>\n",
       "      <td>10</td>\n",
       "      <td>Never-married</td>\n",
       "      <td>Sales</td>\n",
       "      <td>Own-child</td>\n",
       "      <td>White</td>\n",
       "      <td>Male</td>\n",
       "      <td>0</td>\n",
       "      <td>0</td>\n",
       "      <td>42</td>\n",
       "      <td>United-States</td>\n",
       "      <td>&lt;=50K</td>\n",
       "    </tr>\n",
       "    <tr>\n",
       "      <th>27612</th>\n",
       "      <td>27612</td>\n",
       "      <td>37</td>\n",
       "      <td>Private</td>\n",
       "      <td>336880</td>\n",
       "      <td>Some-college</td>\n",
       "      <td>10</td>\n",
       "      <td>Married-civ-spouse</td>\n",
       "      <td>Transport-moving</td>\n",
       "      <td>Husband</td>\n",
       "      <td>White</td>\n",
       "      <td>Male</td>\n",
       "      <td>0</td>\n",
       "      <td>0</td>\n",
       "      <td>50</td>\n",
       "      <td>United-States</td>\n",
       "      <td>&lt;=50K</td>\n",
       "    </tr>\n",
       "    <tr>\n",
       "      <th>41249</th>\n",
       "      <td>41249</td>\n",
       "      <td>68</td>\n",
       "      <td>Self-emp-not-inc</td>\n",
       "      <td>150904</td>\n",
       "      <td>HS-grad</td>\n",
       "      <td>9</td>\n",
       "      <td>Widowed</td>\n",
       "      <td>Craft-repair</td>\n",
       "      <td>Not-in-family</td>\n",
       "      <td>White</td>\n",
       "      <td>Female</td>\n",
       "      <td>0</td>\n",
       "      <td>0</td>\n",
       "      <td>35</td>\n",
       "      <td>United-States</td>\n",
       "      <td>&lt;=50K.</td>\n",
       "    </tr>\n",
       "    <tr>\n",
       "      <th>22209</th>\n",
       "      <td>22209</td>\n",
       "      <td>26</td>\n",
       "      <td>Private</td>\n",
       "      <td>200681</td>\n",
       "      <td>HS-grad</td>\n",
       "      <td>9</td>\n",
       "      <td>Never-married</td>\n",
       "      <td>Machine-op-inspct</td>\n",
       "      <td>Own-child</td>\n",
       "      <td>White</td>\n",
       "      <td>Male</td>\n",
       "      <td>0</td>\n",
       "      <td>0</td>\n",
       "      <td>40</td>\n",
       "      <td>United-States</td>\n",
       "      <td>&lt;=50K</td>\n",
       "    </tr>\n",
       "    <tr>\n",
       "      <th>20712</th>\n",
       "      <td>20712</td>\n",
       "      <td>40</td>\n",
       "      <td>Private</td>\n",
       "      <td>176069</td>\n",
       "      <td>Bachelors</td>\n",
       "      <td>13</td>\n",
       "      <td>Divorced</td>\n",
       "      <td>Prof-specialty</td>\n",
       "      <td>Not-in-family</td>\n",
       "      <td>White</td>\n",
       "      <td>Female</td>\n",
       "      <td>0</td>\n",
       "      <td>0</td>\n",
       "      <td>45</td>\n",
       "      <td>United-States</td>\n",
       "      <td>&lt;=50K</td>\n",
       "    </tr>\n",
       "    <tr>\n",
       "      <th>26566</th>\n",
       "      <td>26566</td>\n",
       "      <td>30</td>\n",
       "      <td>?</td>\n",
       "      <td>164940</td>\n",
       "      <td>HS-grad</td>\n",
       "      <td>9</td>\n",
       "      <td>Separated</td>\n",
       "      <td>?</td>\n",
       "      <td>Unmarried</td>\n",
       "      <td>Black</td>\n",
       "      <td>Female</td>\n",
       "      <td>0</td>\n",
       "      <td>0</td>\n",
       "      <td>25</td>\n",
       "      <td>United-States</td>\n",
       "      <td>&lt;=50K</td>\n",
       "    </tr>\n",
       "    <tr>\n",
       "      <th>8402</th>\n",
       "      <td>8402</td>\n",
       "      <td>69</td>\n",
       "      <td>Private</td>\n",
       "      <td>228921</td>\n",
       "      <td>Bachelors</td>\n",
       "      <td>13</td>\n",
       "      <td>Widowed</td>\n",
       "      <td>Prof-specialty</td>\n",
       "      <td>Not-in-family</td>\n",
       "      <td>White</td>\n",
       "      <td>Male</td>\n",
       "      <td>0</td>\n",
       "      <td>2282</td>\n",
       "      <td>40</td>\n",
       "      <td>United-States</td>\n",
       "      <td>&gt;50K</td>\n",
       "    </tr>\n",
       "    <tr>\n",
       "      <th>7674</th>\n",
       "      <td>7674</td>\n",
       "      <td>46</td>\n",
       "      <td>Private</td>\n",
       "      <td>83064</td>\n",
       "      <td>Assoc-acdm</td>\n",
       "      <td>12</td>\n",
       "      <td>Married-civ-spouse</td>\n",
       "      <td>Machine-op-inspct</td>\n",
       "      <td>Husband</td>\n",
       "      <td>White</td>\n",
       "      <td>Male</td>\n",
       "      <td>0</td>\n",
       "      <td>0</td>\n",
       "      <td>40</td>\n",
       "      <td>United-States</td>\n",
       "      <td>&gt;50K</td>\n",
       "    </tr>\n",
       "    <tr>\n",
       "      <th>37233</th>\n",
       "      <td>37233</td>\n",
       "      <td>57</td>\n",
       "      <td>State-gov</td>\n",
       "      <td>222792</td>\n",
       "      <td>Some-college</td>\n",
       "      <td>10</td>\n",
       "      <td>Married-civ-spouse</td>\n",
       "      <td>Adm-clerical</td>\n",
       "      <td>Wife</td>\n",
       "      <td>White</td>\n",
       "      <td>Female</td>\n",
       "      <td>0</td>\n",
       "      <td>0</td>\n",
       "      <td>40</td>\n",
       "      <td>United-States</td>\n",
       "      <td>&gt;50K.</td>\n",
       "    </tr>\n",
       "    <tr>\n",
       "      <th>38479</th>\n",
       "      <td>38479</td>\n",
       "      <td>42</td>\n",
       "      <td>Private</td>\n",
       "      <td>449578</td>\n",
       "      <td>Some-college</td>\n",
       "      <td>10</td>\n",
       "      <td>Married-civ-spouse</td>\n",
       "      <td>Craft-repair</td>\n",
       "      <td>Husband</td>\n",
       "      <td>White</td>\n",
       "      <td>Male</td>\n",
       "      <td>0</td>\n",
       "      <td>0</td>\n",
       "      <td>48</td>\n",
       "      <td>United-States</td>\n",
       "      <td>&gt;50K.</td>\n",
       "    </tr>\n",
       "  </tbody>\n",
       "</table>\n",
       "</div>"
      ],
      "text/plain": [
       "       Unnamed: 0  age         workclass  fnlwgt     education  education-num  \\\n",
       "6252         6252   26           Private  133373  Some-college             10   \n",
       "27612       27612   37           Private  336880  Some-college             10   \n",
       "41249       41249   68  Self-emp-not-inc  150904       HS-grad              9   \n",
       "22209       22209   26           Private  200681       HS-grad              9   \n",
       "20712       20712   40           Private  176069     Bachelors             13   \n",
       "26566       26566   30                 ?  164940       HS-grad              9   \n",
       "8402         8402   69           Private  228921     Bachelors             13   \n",
       "7674         7674   46           Private   83064    Assoc-acdm             12   \n",
       "37233       37233   57         State-gov  222792  Some-college             10   \n",
       "38479       38479   42           Private  449578  Some-college             10   \n",
       "\n",
       "           marital-status         occupation   relationship   race     sex  \\\n",
       "6252        Never-married              Sales      Own-child  White    Male   \n",
       "27612  Married-civ-spouse   Transport-moving        Husband  White    Male   \n",
       "41249             Widowed       Craft-repair  Not-in-family  White  Female   \n",
       "22209       Never-married  Machine-op-inspct      Own-child  White    Male   \n",
       "20712            Divorced     Prof-specialty  Not-in-family  White  Female   \n",
       "26566           Separated                  ?      Unmarried  Black  Female   \n",
       "8402              Widowed     Prof-specialty  Not-in-family  White    Male   \n",
       "7674   Married-civ-spouse  Machine-op-inspct        Husband  White    Male   \n",
       "37233  Married-civ-spouse       Adm-clerical           Wife  White  Female   \n",
       "38479  Married-civ-spouse       Craft-repair        Husband  White    Male   \n",
       "\n",
       "       capital-gain  capital-loss  hours-per-week native-country  income  \n",
       "6252              0             0              42  United-States   <=50K  \n",
       "27612             0             0              50  United-States   <=50K  \n",
       "41249             0             0              35  United-States  <=50K.  \n",
       "22209             0             0              40  United-States   <=50K  \n",
       "20712             0             0              45  United-States   <=50K  \n",
       "26566             0             0              25  United-States   <=50K  \n",
       "8402              0          2282              40  United-States    >50K  \n",
       "7674              0             0              40  United-States    >50K  \n",
       "37233             0             0              40  United-States   >50K.  \n",
       "38479             0             0              48  United-States   >50K.  "
      ]
     },
     "execution_count": 71,
     "metadata": {},
     "output_type": "execute_result"
    }
   ],
   "source": [
    "# Traigo 10 filas al azar\n",
    "df.sample(10)"
   ]
  },
  {
   "cell_type": "markdown",
   "id": "45034860-233d-4213-91d9-e1650dd34c7f",
   "metadata": {},
   "source": [
    "##### fnlwgt"
   ]
  },
  {
   "cell_type": "code",
   "execution_count": 97,
   "id": "0f08aa14-fb34-4890-b72b-146e7455fcc8",
   "metadata": {},
   "outputs": [
    {
     "data": {
      "text/plain": [
       "fnlwgt\n",
       "203488    21\n",
       "120277    19\n",
       "190290    19\n",
       "125892    18\n",
       "126569    18\n",
       "          ..\n",
       "286983     1\n",
       "185942     1\n",
       "234220     1\n",
       "214706     1\n",
       "350977     1\n",
       "Name: count, Length: 28523, dtype: int64"
      ]
     },
     "execution_count": 97,
     "metadata": {},
     "output_type": "execute_result"
    }
   ],
   "source": [
    "#Frecuencia de cada una de las opciones de la variable\n",
    "df[\"fnlwgt\"].value_counts()"
   ]
  },
  {
   "cell_type": "markdown",
   "id": "983a37d2-d40d-463b-87b6-a0fa1e704b61",
   "metadata": {},
   "source": [
    "##### education"
   ]
  },
  {
   "cell_type": "code",
   "execution_count": 95,
   "id": "2a81c9ad-1e22-46d6-8083-ba3a8c32d67e",
   "metadata": {},
   "outputs": [
    {
     "data": {
      "text/plain": [
       "education\n",
       "HS-grad         15784\n",
       "Some-college    10878\n",
       "Bachelors        8025\n",
       "Masters          2657\n",
       "Assoc-voc        2061\n",
       "11th             1812\n",
       "Assoc-acdm       1601\n",
       "10th             1389\n",
       "7th-8th           955\n",
       "Prof-school       834\n",
       "9th               756\n",
       "12th              657\n",
       "Doctorate         594\n",
       "5th-6th           509\n",
       "1st-4th           247\n",
       "Preschool          83\n",
       "Name: count, dtype: int64"
      ]
     },
     "execution_count": 95,
     "metadata": {},
     "output_type": "execute_result"
    }
   ],
   "source": [
    "#Frecuencia de cada una de las opciones de la variable\n",
    "df[\"education\"].value_counts()"
   ]
  },
  {
   "cell_type": "markdown",
   "id": "e0d481a6-f850-4e6b-88e1-369386cb334f",
   "metadata": {},
   "source": [
    "##### education-num"
   ]
  },
  {
   "cell_type": "code",
   "execution_count": 55,
   "id": "c5d1e19f-cea6-4d64-a0c0-c0f1e40617ed",
   "metadata": {},
   "outputs": [
    {
     "data": {
      "text/plain": [
       "education-num\n",
       "9     15784\n",
       "10    10878\n",
       "13     8025\n",
       "14     2657\n",
       "11     2061\n",
       "7      1812\n",
       "12     1601\n",
       "6      1389\n",
       "4       955\n",
       "15      834\n",
       "5       756\n",
       "8       657\n",
       "16      594\n",
       "3       509\n",
       "2       247\n",
       "1        83\n",
       "Name: count, dtype: int64"
      ]
     },
     "execution_count": 55,
     "metadata": {},
     "output_type": "execute_result"
    }
   ],
   "source": [
    "#Frecuencia de cada una de las opciones de la variable\n",
    "df[\"education-num\"].value_counts()"
   ]
  },
  {
   "cell_type": "markdown",
   "id": "0086cdd4-960b-4176-9b08-056d7a32fbe7",
   "metadata": {},
   "source": [
    "##### marital-status"
   ]
  },
  {
   "cell_type": "code",
   "execution_count": 85,
   "id": "c86a68b9-f20c-4d64-bd64-0484e3b06e5e",
   "metadata": {},
   "outputs": [
    {
     "data": {
      "text/plain": [
       "marital-status\n",
       "Married-civ-spouse       22379\n",
       "Never-married            16117\n",
       "Divorced                  6633\n",
       "Separated                 1530\n",
       "Widowed                   1518\n",
       "Married-spouse-absent      628\n",
       "Married-AF-spouse           37\n",
       "Name: count, dtype: int64"
      ]
     },
     "execution_count": 85,
     "metadata": {},
     "output_type": "execute_result"
    }
   ],
   "source": [
    "#Frecuencia de cada una de las opciones de la variable\n",
    "df[\"marital-status\"].value_counts()"
   ]
  },
  {
   "cell_type": "markdown",
   "id": "b30ff2ac-75d4-432b-b127-df3d95fd86ce",
   "metadata": {},
   "source": [
    "##### occupation"
   ]
  },
  {
   "cell_type": "code",
   "execution_count": 83,
   "id": "7ce800d8-9f34-497f-b314-0aa48868626b",
   "metadata": {},
   "outputs": [
    {
     "data": {
      "text/plain": [
       "occupation\n",
       "Prof-specialty       6172\n",
       "Craft-repair         6112\n",
       "Exec-managerial      6086\n",
       "Adm-clerical         5611\n",
       "Sales                5504\n",
       "Other-service        4923\n",
       "Machine-op-inspct    3022\n",
       "Transport-moving     2355\n",
       "Handlers-cleaners    2072\n",
       "?                    1843\n",
       "Farming-fishing      1490\n",
       "Tech-support         1446\n",
       "Protective-serv       983\n",
       "Priv-house-serv       242\n",
       "Armed-Forces           15\n",
       "Name: count, dtype: int64"
      ]
     },
     "execution_count": 83,
     "metadata": {},
     "output_type": "execute_result"
    }
   ],
   "source": [
    "#Frecuencia de cada una de las opciones de la variable\n",
    "df[\"occupation\"].value_counts()"
   ]
  },
  {
   "cell_type": "code",
   "execution_count": 167,
   "id": "29776ff8-63d6-4123-be4d-d2ea116a2ed2",
   "metadata": {},
   "outputs": [
    {
     "data": {
      "text/plain": [
       "966"
      ]
     },
     "execution_count": 167,
     "metadata": {},
     "output_type": "execute_result"
    }
   ],
   "source": [
    "#conteo de los valores nulos dentro de la variable\n",
    "df[\"occupation\"].isnull().sum() "
   ]
  },
  {
   "cell_type": "markdown",
   "id": "1be84ab4-3da7-423d-8213-c5abc5720f39",
   "metadata": {},
   "source": [
    "##### relationship"
   ]
  },
  {
   "cell_type": "code",
   "execution_count": 28,
   "id": "6fb23bc2-cac4-48e1-8a4e-579856ce9c15",
   "metadata": {},
   "outputs": [
    {
     "data": {
      "text/plain": [
       "relationship\n",
       "Husband           19716\n",
       "Not-in-family     12583\n",
       "Own-child          7581\n",
       "Unmarried          5125\n",
       "Wife               2331\n",
       "Other-relative     1506\n",
       "Name: count, dtype: int64"
      ]
     },
     "execution_count": 28,
     "metadata": {},
     "output_type": "execute_result"
    }
   ],
   "source": [
    "#Frecuencia de cada una de las opciones de la variable\n",
    "df[\"relationship\"].value_counts()"
   ]
  },
  {
   "cell_type": "markdown",
   "id": "379bceb7-9022-4a66-b94d-32aef75e47f4",
   "metadata": {},
   "source": [
    "##### race"
   ]
  },
  {
   "cell_type": "code",
   "execution_count": 30,
   "id": "deae9981-7420-443c-a385-d0192b925517",
   "metadata": {},
   "outputs": [
    {
     "data": {
      "text/plain": [
       "race\n",
       "White                 41762\n",
       "Black                  4685\n",
       "Asian-Pac-Islander     1519\n",
       "Amer-Indian-Eskimo      470\n",
       "Other                   406\n",
       "Name: count, dtype: int64"
      ]
     },
     "execution_count": 30,
     "metadata": {},
     "output_type": "execute_result"
    }
   ],
   "source": [
    "#Frecuencia de cada una de las opciones de la variable\n",
    "df[\"race\"].value_counts()"
   ]
  },
  {
   "cell_type": "markdown",
   "id": "e225c6c2-b824-42af-b6d5-83392e48ddc5",
   "metadata": {},
   "source": [
    "##### sex"
   ]
  },
  {
   "cell_type": "code",
   "execution_count": 32,
   "id": "891e7c02-6d62-4b02-9870-807bec858d5a",
   "metadata": {},
   "outputs": [
    {
     "data": {
      "text/plain": [
       "sex\n",
       "Male      32650\n",
       "Female    16192\n",
       "Name: count, dtype: int64"
      ]
     },
     "execution_count": 32,
     "metadata": {},
     "output_type": "execute_result"
    }
   ],
   "source": [
    "#Frecuencia de cada una de las opciones de la variable\n",
    "df[\"sex\"].value_counts()"
   ]
  },
  {
   "cell_type": "markdown",
   "id": "ed26376e-eda3-4a81-8f48-a3e5c49d25f7",
   "metadata": {},
   "source": [
    "##### capital-gain"
   ]
  },
  {
   "cell_type": "code",
   "execution_count": 34,
   "id": "467d831e-7d57-4fca-b1b6-37517880ba7b",
   "metadata": {},
   "outputs": [
    {
     "data": {
      "text/plain": [
       "capital-gain\n",
       "0        44807\n",
       "15024      513\n",
       "7688       410\n",
       "7298       364\n",
       "99999      244\n",
       "         ...  \n",
       "22040        1\n",
       "2387         1\n",
       "1639         1\n",
       "1111         1\n",
       "6612         1\n",
       "Name: count, Length: 123, dtype: int64"
      ]
     },
     "execution_count": 34,
     "metadata": {},
     "output_type": "execute_result"
    }
   ],
   "source": [
    "#Frecuencia de cada una de las opciones de la variable\n",
    "df[\"capital-gain\"].value_counts()"
   ]
  },
  {
   "cell_type": "markdown",
   "id": "f6bd0632-bdc0-4661-8ff6-63c83f70eccc",
   "metadata": {},
   "source": [
    "##### capital-loss"
   ]
  },
  {
   "cell_type": "code",
   "execution_count": 36,
   "id": "b89c70cd-a214-4949-b4ad-cacd8fd831e9",
   "metadata": {},
   "outputs": [
    {
     "data": {
      "text/plain": [
       "capital-loss\n",
       "0       46560\n",
       "1902      304\n",
       "1977      253\n",
       "1887      233\n",
       "2415       72\n",
       "        ...  \n",
       "1539        1\n",
       "1870        1\n",
       "1911        1\n",
       "2465        1\n",
       "1421        1\n",
       "Name: count, Length: 99, dtype: int64"
      ]
     },
     "execution_count": 36,
     "metadata": {},
     "output_type": "execute_result"
    }
   ],
   "source": [
    "#Frecuencia de cada una de las opciones de la variable\n",
    "df[\"capital-loss\"].value_counts()"
   ]
  },
  {
   "cell_type": "markdown",
   "id": "17b20153-8e33-4455-9812-198256647cbf",
   "metadata": {},
   "source": [
    "##### hours-per-week"
   ]
  },
  {
   "cell_type": "code",
   "execution_count": 38,
   "id": "1fe41b2a-e518-41af-a374-ae06b9fbdfb1",
   "metadata": {},
   "outputs": [
    {
     "data": {
      "text/plain": [
       "hours-per-week\n",
       "40    22803\n",
       "50     4246\n",
       "45     2717\n",
       "60     2177\n",
       "35     1937\n",
       "      ...  \n",
       "79        1\n",
       "94        1\n",
       "82        1\n",
       "87        1\n",
       "69        1\n",
       "Name: count, Length: 96, dtype: int64"
      ]
     },
     "execution_count": 38,
     "metadata": {},
     "output_type": "execute_result"
    }
   ],
   "source": [
    "#Frecuencia de cada una de las opciones de la variable\n",
    "df[\"hours-per-week\"].value_counts()"
   ]
  },
  {
   "cell_type": "markdown",
   "id": "ff4a032b-0ba0-435c-8ac3-c51761625a50",
   "metadata": {},
   "source": [
    "##### native-country"
   ]
  },
  {
   "cell_type": "code",
   "execution_count": 40,
   "id": "5dbaa82a-b719-4c6b-8e2a-7a61ccdaf241",
   "metadata": {},
   "outputs": [
    {
     "data": {
      "text/plain": [
       "native-country\n",
       "United-States                 43832\n",
       "Mexico                          951\n",
       "?                               583\n",
       "Philippines                     295\n",
       "Germany                         206\n",
       "Puerto-Rico                     184\n",
       "Canada                          182\n",
       "El-Salvador                     155\n",
       "India                           151\n",
       "Cuba                            138\n",
       "England                         127\n",
       "China                           122\n",
       "South                           115\n",
       "Jamaica                         106\n",
       "Italy                           105\n",
       "Dominican-Republic              103\n",
       "Japan                            92\n",
       "Guatemala                        88\n",
       "Poland                           87\n",
       "Vietnam                          86\n",
       "Columbia                         85\n",
       "Haiti                            75\n",
       "Portugal                         67\n",
       "Taiwan                           65\n",
       "Iran                             59\n",
       "Greece                           49\n",
       "Nicaragua                        49\n",
       "Peru                             46\n",
       "Ecuador                          45\n",
       "France                           38\n",
       "Ireland                          37\n",
       "Hong                             30\n",
       "Thailand                         30\n",
       "Cambodia                         28\n",
       "Trinadad&Tobago                  27\n",
       "Laos                             23\n",
       "Yugoslavia                       23\n",
       "Outlying-US(Guam-USVI-etc)       23\n",
       "Scotland                         21\n",
       "Honduras                         20\n",
       "Hungary                          19\n",
       "Holand-Netherlands                1\n",
       "Name: count, dtype: int64"
      ]
     },
     "execution_count": 40,
     "metadata": {},
     "output_type": "execute_result"
    }
   ],
   "source": [
    "#Frecuencia de cada una de las opciones de la variable\n",
    "df[\"native-country\"].value_counts()"
   ]
  },
  {
   "cell_type": "code",
   "execution_count": 44,
   "id": "788df459-5ebf-4067-a481-7358518496cf",
   "metadata": {},
   "outputs": [
    {
     "data": {
      "text/plain": [
       "274"
      ]
     },
     "execution_count": 44,
     "metadata": {},
     "output_type": "execute_result"
    }
   ],
   "source": [
    "#conteo de los valores nulos dentro de la variable\n",
    "df[\"native-country\"].isnull().sum()"
   ]
  },
  {
   "cell_type": "markdown",
   "id": "54213364-e3bf-4c06-80e8-530bfecac4fb",
   "metadata": {},
   "source": [
    "##### income"
   ]
  },
  {
   "cell_type": "code",
   "execution_count": 173,
   "id": "a1504808-9753-48de-9319-77948db398d7",
   "metadata": {},
   "outputs": [
    {
     "data": {
      "text/plain": [
       "0"
      ]
     },
     "execution_count": 173,
     "metadata": {},
     "output_type": "execute_result"
    }
   ],
   "source": [
    "#conteo de los valores nulos dentro de la variable\n",
    "df[\"income\"].isnull().sum() "
   ]
  },
  {
   "cell_type": "code",
   "execution_count": 46,
   "id": "09e6fc02-68b1-4ae7-917e-428342156df4",
   "metadata": {},
   "outputs": [
    {
     "data": {
      "text/plain": [
       "income\n",
       "<=50K     24720\n",
       "<=50K.    12435\n",
       ">50K       7841\n",
       ">50K.      3846\n",
       "Name: count, dtype: int64"
      ]
     },
     "execution_count": 46,
     "metadata": {},
     "output_type": "execute_result"
    }
   ],
   "source": [
    "#Frecuencia de cada una de las opciones de la variable\n",
    "df[\"income\"].value_counts()"
   ]
  },
  {
   "cell_type": "code",
   "execution_count": 65,
   "id": "d559a87a-1b86-4f72-a70d-f4ca9629a592",
   "metadata": {},
   "outputs": [
    {
     "data": {
      "text/html": [
       "<div>\n",
       "<style scoped>\n",
       "    .dataframe tbody tr th:only-of-type {\n",
       "        vertical-align: middle;\n",
       "    }\n",
       "\n",
       "    .dataframe tbody tr th {\n",
       "        vertical-align: top;\n",
       "    }\n",
       "\n",
       "    .dataframe thead th {\n",
       "        text-align: right;\n",
       "    }\n",
       "</style>\n",
       "<table border=\"1\" class=\"dataframe\">\n",
       "  <thead>\n",
       "    <tr style=\"text-align: right;\">\n",
       "      <th></th>\n",
       "      <th>native-country</th>\n",
       "    </tr>\n",
       "    <tr>\n",
       "      <th>education</th>\n",
       "      <th></th>\n",
       "    </tr>\n",
       "  </thead>\n",
       "  <tbody>\n",
       "    <tr>\n",
       "      <th>10th</th>\n",
       "      <td>1384</td>\n",
       "    </tr>\n",
       "    <tr>\n",
       "      <th>11th</th>\n",
       "      <td>1808</td>\n",
       "    </tr>\n",
       "    <tr>\n",
       "      <th>12th</th>\n",
       "      <td>651</td>\n",
       "    </tr>\n",
       "    <tr>\n",
       "      <th>1st-4th</th>\n",
       "      <td>245</td>\n",
       "    </tr>\n",
       "    <tr>\n",
       "      <th>5th-6th</th>\n",
       "      <td>505</td>\n",
       "    </tr>\n",
       "    <tr>\n",
       "      <th>7th-8th</th>\n",
       "      <td>950</td>\n",
       "    </tr>\n",
       "    <tr>\n",
       "      <th>9th</th>\n",
       "      <td>753</td>\n",
       "    </tr>\n",
       "    <tr>\n",
       "      <th>Assoc-acdm</th>\n",
       "      <td>1591</td>\n",
       "    </tr>\n",
       "    <tr>\n",
       "      <th>Assoc-voc</th>\n",
       "      <td>2054</td>\n",
       "    </tr>\n",
       "    <tr>\n",
       "      <th>Bachelors</th>\n",
       "      <td>7960</td>\n",
       "    </tr>\n",
       "    <tr>\n",
       "      <th>Doctorate</th>\n",
       "      <td>585</td>\n",
       "    </tr>\n",
       "    <tr>\n",
       "      <th>HS-grad</th>\n",
       "      <td>15719</td>\n",
       "    </tr>\n",
       "    <tr>\n",
       "      <th>Masters</th>\n",
       "      <td>2628</td>\n",
       "    </tr>\n",
       "    <tr>\n",
       "      <th>Preschool</th>\n",
       "      <td>83</td>\n",
       "    </tr>\n",
       "    <tr>\n",
       "      <th>Prof-school</th>\n",
       "      <td>825</td>\n",
       "    </tr>\n",
       "    <tr>\n",
       "      <th>Some-college</th>\n",
       "      <td>10827</td>\n",
       "    </tr>\n",
       "  </tbody>\n",
       "</table>\n",
       "</div>"
      ],
      "text/plain": [
       "              native-country\n",
       "education                   \n",
       "10th                    1384\n",
       "11th                    1808\n",
       "12th                     651\n",
       "1st-4th                  245\n",
       "5th-6th                  505\n",
       "7th-8th                  950\n",
       "9th                      753\n",
       "Assoc-acdm              1591\n",
       "Assoc-voc               2054\n",
       "Bachelors               7960\n",
       "Doctorate                585\n",
       "HS-grad                15719\n",
       "Masters                 2628\n",
       "Preschool                 83\n",
       "Prof-school              825\n",
       "Some-college           10827"
      ]
     },
     "execution_count": 65,
     "metadata": {},
     "output_type": "execute_result"
    }
   ],
   "source": [
    "### otros metodos\n",
    "df.groupby([\"education\"])[[\"native-country\"]].count()"
   ]
  },
  {
   "cell_type": "markdown",
   "id": "1ea3dcc7-bf5f-49c7-8c56-1165ebc3e356",
   "metadata": {},
   "source": [
    "## <p><center> **ACTIVIDAD 2**</center></p>  \n",
    "### Utilizar procesos con If para la limpieza de algunas variables de una Dataframe, para un análisis con datos de calidad."
   ]
  },
  {
   "cell_type": "code",
   "execution_count": 21,
   "id": "e1a84b0c-2952-4715-a1e0-233306dc78e1",
   "metadata": {},
   "outputs": [],
   "source": [
    "d_f = pd.read_csv(\"titanic (1).csv\")"
   ]
  },
  {
   "cell_type": "code",
   "execution_count": 25,
   "id": "709975f4-5a10-4ef9-a4d6-b311822c9109",
   "metadata": {},
   "outputs": [
    {
     "data": {
      "text/plain": [
       "Index(['Survived', 'Pclass', 'Name', 'Sex', 'Age', 'Siblings/Spouses Aboard',\n",
       "       'Parents/Children Aboard', 'Fare'],\n",
       "      dtype='object')"
      ]
     },
     "execution_count": 25,
     "metadata": {},
     "output_type": "execute_result"
    }
   ],
   "source": [
    "d_f.columns"
   ]
  },
  {
   "cell_type": "code",
   "execution_count": 77,
   "id": "73f38882-dd19-48b8-abf3-b55d5b6902a4",
   "metadata": {},
   "outputs": [
    {
     "ename": "SyntaxError",
     "evalue": "invalid syntax (4118215576.py, line 1)",
     "output_type": "error",
     "traceback": [
      "\u001b[1;36m  Cell \u001b[1;32mIn[77], line 1\u001b[1;36m\u001b[0m\n\u001b[1;33m    git branch -M main\u001b[0m\n\u001b[1;37m        ^\u001b[0m\n\u001b[1;31mSyntaxError\u001b[0m\u001b[1;31m:\u001b[0m invalid syntax\n"
     ]
    }
   ],
   "source": []
  },
  {
   "cell_type": "code",
   "execution_count": null,
   "id": "7e7ead37-63dc-4dd1-8f7a-630ed0185363",
   "metadata": {},
   "outputs": [],
   "source": []
  }
 ],
 "metadata": {
  "kernelspec": {
   "display_name": "Python 3 (ipykernel)",
   "language": "python",
   "name": "python3"
  },
  "language_info": {
   "codemirror_mode": {
    "name": "ipython",
    "version": 3
   },
   "file_extension": ".py",
   "mimetype": "text/x-python",
   "name": "python",
   "nbconvert_exporter": "python",
   "pygments_lexer": "ipython3",
   "version": "3.12.4"
  }
 },
 "nbformat": 4,
 "nbformat_minor": 5
}
