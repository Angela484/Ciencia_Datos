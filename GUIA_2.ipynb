{
 "cells": [
  {
   "cell_type": "markdown",
   "id": "54e780f5-830d-4d78-9c29-7af71bd65662",
   "metadata": {},
   "source": [
    "# <p><center> GUIA 2</center></p>"
   ]
  },
  {
   "cell_type": "markdown",
   "id": "5ea4946e-fafc-4874-9972-12cfe73e7abe",
   "metadata": {},
   "source": [
    "## CARGUE DEL DF Y CARACTERIZACIÓN"
   ]
  },
  {
   "cell_type": "code",
   "execution_count": 125,
   "id": "42209074-b911-4557-9583-def0ccc59136",
   "metadata": {},
   "outputs": [],
   "source": [
    "#Importación de la librería pandas\n",
    "import pandas as pd"
   ]
  },
  {
   "cell_type": "code",
   "execution_count": 29,
   "id": "c965f4af-04d3-417d-821d-dad2a6a10f16",
   "metadata": {},
   "outputs": [],
   "source": [
    "#lectura de la base de datos\n",
    "df = pd.read_csv(\"10.000_Empresas_mas_Grandes_del_Pa_s_20240823.csv\")"
   ]
  },
  {
   "cell_type": "code",
   "execution_count": 31,
   "id": "4f924b3b-bf3c-4ad2-b12d-164c23e7d5e7",
   "metadata": {},
   "outputs": [
    {
     "data": {
      "text/plain": [
       "11441"
      ]
     },
     "execution_count": 31,
     "metadata": {},
     "output_type": "execute_result"
    }
   ],
   "source": [
    "df[\"NIT\"].nunique()"
   ]
  },
  {
   "cell_type": "code",
   "execution_count": 75,
   "id": "fa0c9c91-1f8e-4c15-a4ba-81c45f3bc526",
   "metadata": {},
   "outputs": [
    {
     "name": "stdout",
     "output_type": "stream",
     "text": [
      "<class 'pandas.core.frame.DataFrame'>\n",
      "RangeIndex: 20000 entries, 0 to 19999\n",
      "Data columns (total 14 columns):\n",
      " #   Column                  Non-Null Count  Dtype \n",
      "---  ------                  --------------  ----- \n",
      " 0   NIT                     20000 non-null  int64 \n",
      " 1   RAZÓN SOCIAL            19998 non-null  object\n",
      " 2   SUPERVISOR              20000 non-null  object\n",
      " 3   REGIÓN                  20000 non-null  object\n",
      " 4   DEPARTAMENTO DOMICILIO  20000 non-null  object\n",
      " 5   CIUDAD DOMICILIO        20000 non-null  object\n",
      " 6   CIIU                    20000 non-null  int64 \n",
      " 7   MACROSECTOR             20000 non-null  object\n",
      " 8   INGRESOS OPERACIONALES  20000 non-null  object\n",
      " 9   GANANCIA (PÉRDIDA)      20000 non-null  object\n",
      " 10  TOTAL ACTIVOS           20000 non-null  object\n",
      " 11  TOTAL PASIVOS           20000 non-null  object\n",
      " 12  TOTAL PATRIMONIO        20000 non-null  object\n",
      " 13  Año de Corte            20000 non-null  int64 \n",
      "dtypes: int64(3), object(11)\n",
      "memory usage: 2.1+ MB\n"
     ]
    }
   ],
   "source": [
    "#verificación incial de la base de datos\n",
    "df.info()"
   ]
  },
  {
   "cell_type": "code",
   "execution_count": 35,
   "id": "78792f59-a7c8-4cfb-97ac-68e645be6cc8",
   "metadata": {},
   "outputs": [
    {
     "data": {
      "text/plain": [
       "Index(['NIT', 'RAZÓN SOCIAL', 'SUPERVISOR', 'REGIÓN', 'DEPARTAMENTO DOMICILIO',\n",
       "       'CIUDAD DOMICILIO', 'CIIU', 'MACROSECTOR', 'INGRESOS OPERACIONALES',\n",
       "       'GANANCIA (PÉRDIDA)', 'TOTAL ACTIVOS', 'TOTAL PASIVOS',\n",
       "       'TOTAL PATRIMONIO', 'Año de Corte'],\n",
       "      dtype='object')"
      ]
     },
     "execution_count": 35,
     "metadata": {},
     "output_type": "execute_result"
    }
   ],
   "source": [
    "#identificación de los nombres de las columnas\n",
    "df.columns"
   ]
  },
  {
   "cell_type": "code",
   "execution_count": 37,
   "id": "ea729c5f-9c29-445f-8a3b-f5516f170534",
   "metadata": {},
   "outputs": [
    {
     "data": {
      "text/plain": [
       "11441"
      ]
     },
     "execution_count": 37,
     "metadata": {},
     "output_type": "execute_result"
    }
   ],
   "source": [
    "len(df[\"NIT\"].unique())"
   ]
  },
  {
   "cell_type": "code",
   "execution_count": 39,
   "id": "1a0ff1f5-0c5c-4180-a0cc-4cffb677c60b",
   "metadata": {},
   "outputs": [
    {
     "data": {
      "text/plain": [
       "11441"
      ]
     },
     "execution_count": 39,
     "metadata": {},
     "output_type": "execute_result"
    }
   ],
   "source": [
    "df[\"NIT\"].nunique()"
   ]
  },
  {
   "cell_type": "markdown",
   "id": "c040a8fc-53fd-4be1-9d37-d011a7841662",
   "metadata": {},
   "source": [
    "## ACTIVIDAD 1: LIMPIEZA ITERATIVA"
   ]
  },
  {
   "cell_type": "markdown",
   "id": "277facf1-fb46-4ea5-94ea-30678c79551e",
   "metadata": {},
   "source": [
    "### Producto\n",
    "\n",
    "##### Escribir en un archivo tipo html de Jupyter  bloques de código y Markdown donde se tomen las variables de una base dada y se les realice lo siguiente:\n",
    "\n",
    "###### Limpieza de un carácter especial.\n",
    "###### Reducción de los nits de longitud mayor a 9."
   ]
  },
  {
   "cell_type": "code",
   "execution_count": 51,
   "id": "a44a9178-9f6f-414f-a4c2-e2a15dd9b006",
   "metadata": {},
   "outputs": [],
   "source": [
    "#Colocar toda la base en mayúsculas \n",
    "df[\"REGIÓN\"] = df[\"REGIÓN\"].str.upper()"
   ]
  },
  {
   "cell_type": "code",
   "execution_count": 55,
   "id": "cc23f68b-3d68-48aa-9a67-85c075cfe727",
   "metadata": {},
   "outputs": [
    {
     "data": {
      "text/html": [
       "<div>\n",
       "<style scoped>\n",
       "    .dataframe tbody tr th:only-of-type {\n",
       "        vertical-align: middle;\n",
       "    }\n",
       "\n",
       "    .dataframe tbody tr th {\n",
       "        vertical-align: top;\n",
       "    }\n",
       "\n",
       "    .dataframe thead th {\n",
       "        text-align: right;\n",
       "    }\n",
       "</style>\n",
       "<table border=\"1\" class=\"dataframe\">\n",
       "  <thead>\n",
       "    <tr style=\"text-align: right;\">\n",
       "      <th></th>\n",
       "      <th>NIT</th>\n",
       "      <th>RAZÓN SOCIAL</th>\n",
       "      <th>SUPERVISOR</th>\n",
       "      <th>REGIÓN</th>\n",
       "      <th>DEPARTAMENTO DOMICILIO</th>\n",
       "      <th>CIUDAD DOMICILIO</th>\n",
       "      <th>CIIU</th>\n",
       "      <th>MACROSECTOR</th>\n",
       "      <th>INGRESOS OPERACIONALES</th>\n",
       "      <th>GANANCIA (PÉRDIDA)</th>\n",
       "      <th>TOTAL ACTIVOS</th>\n",
       "      <th>TOTAL PASIVOS</th>\n",
       "      <th>TOTAL PATRIMONIO</th>\n",
       "      <th>Año de Corte</th>\n",
       "    </tr>\n",
       "  </thead>\n",
       "  <tbody>\n",
       "    <tr>\n",
       "      <th>12699</th>\n",
       "      <td>860515812</td>\n",
       "      <td>GABRIEL DE COLOMBIA S.A.</td>\n",
       "      <td>SUPERSOCIEDADES</td>\n",
       "      <td>BOGOTÁ - CUNDINAMARCA</td>\n",
       "      <td>BOGOTA D.C.</td>\n",
       "      <td>BOGOTA D.C.-BOGOTA D.C.</td>\n",
       "      <td>2930</td>\n",
       "      <td>MANUFACTURA</td>\n",
       "      <td>$0.07</td>\n",
       "      <td>$0.00</td>\n",
       "      <td>$0.05</td>\n",
       "      <td>$0.04</td>\n",
       "      <td>$0.01</td>\n",
       "      <td>2021</td>\n",
       "    </tr>\n",
       "    <tr>\n",
       "      <th>9301</th>\n",
       "      <td>900031259</td>\n",
       "      <td>GRUPO LOMA SAS</td>\n",
       "      <td>SUPERSOCIEDADES</td>\n",
       "      <td>BOGOTÁ - CUNDINAMARCA</td>\n",
       "      <td>BOGOTA D.C.</td>\n",
       "      <td>BOGOTA D.C.-BOGOTA D.C.</td>\n",
       "      <td>4731</td>\n",
       "      <td>COMERCIO</td>\n",
       "      <td>$0.02</td>\n",
       "      <td>$0.00</td>\n",
       "      <td>$0.01</td>\n",
       "      <td>$0.00</td>\n",
       "      <td>$0.00</td>\n",
       "      <td>2022</td>\n",
       "    </tr>\n",
       "  </tbody>\n",
       "</table>\n",
       "</div>"
      ],
      "text/plain": [
       "             NIT              RAZÓN SOCIAL       SUPERVISOR  \\\n",
       "12699  860515812  GABRIEL DE COLOMBIA S.A.  SUPERSOCIEDADES   \n",
       "9301   900031259            GRUPO LOMA SAS  SUPERSOCIEDADES   \n",
       "\n",
       "                      REGIÓN DEPARTAMENTO DOMICILIO         CIUDAD DOMICILIO  \\\n",
       "12699  BOGOTÁ - CUNDINAMARCA            BOGOTA D.C.  BOGOTA D.C.-BOGOTA D.C.   \n",
       "9301   BOGOTÁ - CUNDINAMARCA            BOGOTA D.C.  BOGOTA D.C.-BOGOTA D.C.   \n",
       "\n",
       "       CIIU  MACROSECTOR INGRESOS OPERACIONALES GANANCIA (PÉRDIDA)  \\\n",
       "12699  2930  MANUFACTURA                  $0.07              $0.00   \n",
       "9301   4731     COMERCIO                  $0.02              $0.00   \n",
       "\n",
       "      TOTAL ACTIVOS TOTAL PASIVOS TOTAL PATRIMONIO  Año de Corte  \n",
       "12699         $0.05         $0.04            $0.01          2021  \n",
       "9301          $0.01         $0.00            $0.00          2022  "
      ]
     },
     "execution_count": 55,
     "metadata": {},
     "output_type": "execute_result"
    }
   ],
   "source": [
    "#metodo para traer filas al azar (lo hago con el objetivo de verificar que la columna está en mayúsculas)\n",
    "df.sample(2)"
   ]
  },
  {
   "cell_type": "code",
   "execution_count": 77,
   "id": "3af7c1f3-f4e1-4d51-9637-6873382e83e2",
   "metadata": {},
   "outputs": [
    {
     "name": "stdout",
     "output_type": "stream",
     "text": [
      "<class 'pandas.core.frame.DataFrame'>\n",
      "RangeIndex: 20000 entries, 0 to 19999\n",
      "Data columns (total 14 columns):\n",
      " #   Column                  Non-Null Count  Dtype \n",
      "---  ------                  --------------  ----- \n",
      " 0   NIT                     20000 non-null  int64 \n",
      " 1   RAZÓN SOCIAL            19998 non-null  object\n",
      " 2   SUPERVISOR              20000 non-null  object\n",
      " 3   REGIÓN                  20000 non-null  object\n",
      " 4   DEPARTAMENTO DOMICILIO  20000 non-null  object\n",
      " 5   CIUDAD DOMICILIO        20000 non-null  object\n",
      " 6   CIIU                    20000 non-null  int64 \n",
      " 7   MACROSECTOR             20000 non-null  object\n",
      " 8   INGRESOS OPERACIONALES  20000 non-null  object\n",
      " 9   GANANCIA (PÉRDIDA)      20000 non-null  object\n",
      " 10  TOTAL ACTIVOS           20000 non-null  object\n",
      " 11  TOTAL PASIVOS           20000 non-null  object\n",
      " 12  TOTAL PATRIMONIO        20000 non-null  object\n",
      " 13  Año de Corte            20000 non-null  int64 \n",
      "dtypes: int64(3), object(11)\n",
      "memory usage: 2.1+ MB\n"
     ]
    }
   ],
   "source": [
    "df.info()"
   ]
  },
  {
   "cell_type": "code",
   "execution_count": 85,
   "id": "cdd940d8-5982-491e-8cd1-62b77aa3ee7b",
   "metadata": {},
   "outputs": [],
   "source": [
    "#Limpieza de datos en blanco para variables string, al inicio y final de la cadena.\n",
    "df[\"RAZÓN SOCIAL\"] = df[\"RAZÓN SOCIAL\"].str.strip()\n",
    "df[\"SUPERVISOR\"] = df[\"SUPERVISOR\"].str.strip()\n",
    "df[\"REGIÓN\"] = df[\"REGIÓN\"].str.strip()\n",
    "df[\"DEPARTAMENTO DOMICILIO\"] = df[\"DEPARTAMENTO DOMICILIO\"].str.strip()"
   ]
  },
  {
   "cell_type": "code",
   "execution_count": 129,
   "id": "cf04bfe2-78e8-4c5e-8e61-4e029085bd95",
   "metadata": {},
   "outputs": [],
   "source": [
    "#Limpieza de datos en blanco para variables enteras.\n",
    "df[\"CIIU\"] = df[\"CIIU\"].replace(' ', '')"
   ]
  },
  {
   "cell_type": "code",
   "execution_count": 177,
   "id": "457a0714-2a23-41eb-a792-1321392fb46c",
   "metadata": {},
   "outputs": [],
   "source": [
    "#limpieza de la tílde sin usar otras librerías\n",
    "df['REGIÓN'] = df['REGIÓN'].str.replace('Á', 'A')"
   ]
  },
  {
   "cell_type": "code",
   "execution_count": 159,
   "id": "ff698d06-f48c-40db-a3a1-b6a1d42102d6",
   "metadata": {},
   "outputs": [],
   "source": [
    "#Limpieza del $ en las variables que lo contienen\n",
    "df['TOTAL ACTIVOS'] = df['TOTAL ACTIVOS'].str.replace('$', '', regex=False).str.strip()\n",
    "df['INGRESOS OPERACIONALES'] = df['INGRESOS OPERACIONALES'].str.replace('$', '', regex=False).str.strip()\n",
    "df['GANANCIA (PÉRDIDA)'] = df['GANANCIA (PÉRDIDA)'].str.replace('$', '', regex=False).str.strip()\n",
    "df['TOTAL PASIVOS'] = df['TOTAL PASIVOS'].str.replace('$', '', regex=False).str.strip()\n",
    "df['TOTAL PATRIMONIO'] = df['TOTAL PATRIMONIO'].str.replace('$', '', regex=False).str.strip()"
   ]
  },
  {
   "cell_type": "code",
   "execution_count": 189,
   "id": "1e0b4b00-0165-4a6b-aeb5-91f5057a28c3",
   "metadata": {},
   "outputs": [
    {
     "data": {
      "text/html": [
       "<div>\n",
       "<style scoped>\n",
       "    .dataframe tbody tr th:only-of-type {\n",
       "        vertical-align: middle;\n",
       "    }\n",
       "\n",
       "    .dataframe tbody tr th {\n",
       "        vertical-align: top;\n",
       "    }\n",
       "\n",
       "    .dataframe thead th {\n",
       "        text-align: right;\n",
       "    }\n",
       "</style>\n",
       "<table border=\"1\" class=\"dataframe\">\n",
       "  <thead>\n",
       "    <tr style=\"text-align: right;\">\n",
       "      <th></th>\n",
       "      <th>NIT</th>\n",
       "      <th>RAZÓN SOCIAL</th>\n",
       "      <th>SUPERVISOR</th>\n",
       "      <th>REGIÓN</th>\n",
       "      <th>DEPARTAMENTO DOMICILIO</th>\n",
       "      <th>CIUDAD DOMICILIO</th>\n",
       "      <th>CIIU</th>\n",
       "      <th>MACROSECTOR</th>\n",
       "      <th>INGRESOS OPERACIONALES</th>\n",
       "      <th>GANANCIA (PÉRDIDA)</th>\n",
       "      <th>TOTAL ACTIVOS</th>\n",
       "      <th>TOTAL PASIVOS</th>\n",
       "      <th>TOTAL PATRIMONIO</th>\n",
       "      <th>Año de Corte</th>\n",
       "    </tr>\n",
       "  </thead>\n",
       "  <tbody>\n",
       "    <tr>\n",
       "      <th>13487</th>\n",
       "      <td>900176591</td>\n",
       "      <td>NOVELL SOFTWARE NOLA S.A.S</td>\n",
       "      <td>SUPERSOCIEDADES</td>\n",
       "      <td>BOGOTA - CUNDINAMARCA</td>\n",
       "      <td>BOGOTA D.C.</td>\n",
       "      <td>BOGOTA D.C.-BOGOTA D.C.</td>\n",
       "      <td>5820</td>\n",
       "      <td>SERVICIOS</td>\n",
       "      <td>0.05</td>\n",
       "      <td>0.01</td>\n",
       "      <td>0.02</td>\n",
       "      <td>0.01</td>\n",
       "      <td>0.01</td>\n",
       "      <td>2021</td>\n",
       "    </tr>\n",
       "    <tr>\n",
       "      <th>5033</th>\n",
       "      <td>900815639</td>\n",
       "      <td>PRODIAMANTE AZUL SAS</td>\n",
       "      <td>SUPERSOCIEDADES</td>\n",
       "      <td>ANTIOQUIA</td>\n",
       "      <td>ANTIOQUIA</td>\n",
       "      <td>RETIRO-ANTIOQUIA</td>\n",
       "      <td>6810</td>\n",
       "      <td>SERVICIOS</td>\n",
       "      <td>0.04</td>\n",
       "      <td>0.00</td>\n",
       "      <td>0.04</td>\n",
       "      <td>0.03</td>\n",
       "      <td>0.01</td>\n",
       "      <td>2022</td>\n",
       "    </tr>\n",
       "  </tbody>\n",
       "</table>\n",
       "</div>"
      ],
      "text/plain": [
       "             NIT                RAZÓN SOCIAL       SUPERVISOR  \\\n",
       "13487  900176591  NOVELL SOFTWARE NOLA S.A.S  SUPERSOCIEDADES   \n",
       "5033   900815639        PRODIAMANTE AZUL SAS  SUPERSOCIEDADES   \n",
       "\n",
       "                      REGIÓN DEPARTAMENTO DOMICILIO         CIUDAD DOMICILIO  \\\n",
       "13487  BOGOTA - CUNDINAMARCA            BOGOTA D.C.  BOGOTA D.C.-BOGOTA D.C.   \n",
       "5033               ANTIOQUIA              ANTIOQUIA         RETIRO-ANTIOQUIA   \n",
       "\n",
       "       CIIU MACROSECTOR  INGRESOS OPERACIONALES  GANANCIA (PÉRDIDA)  \\\n",
       "13487  5820   SERVICIOS                    0.05                0.01   \n",
       "5033   6810   SERVICIOS                    0.04                0.00   \n",
       "\n",
       "       TOTAL ACTIVOS  TOTAL PASIVOS  TOTAL PATRIMONIO  Año de Corte  \n",
       "13487           0.02           0.01              0.01          2021  \n",
       "5033            0.04           0.03              0.01          2022  "
      ]
     },
     "execution_count": 189,
     "metadata": {},
     "output_type": "execute_result"
    }
   ],
   "source": [
    "#Verificación de que se hayan aplicado los ajustes \n",
    "df.sample(2)"
   ]
  },
  {
   "cell_type": "markdown",
   "id": "32031833-2e15-4373-8007-87be7c4faf95",
   "metadata": {},
   "source": [
    "## ACTIVIDAD 2: TRANSFORMACIÓN DE DATOS"
   ]
  },
  {
   "cell_type": "markdown",
   "id": "201be370-c711-473e-a86f-7a8f773b7b88",
   "metadata": {},
   "source": [
    "### Producto\n",
    "\n",
    "##### Escribir en un archivo tipo html de Jupyter  bloques de código y Markdown donde se tomen las variables de una base dada y se les realice lo siguiente:\n",
    "\n",
    "##### Transformación del tipo de dato"
   ]
  },
  {
   "cell_type": "code",
   "execution_count": 137,
   "id": "e1c3ab21-8d5a-4d80-af7f-ca75cece4058",
   "metadata": {},
   "outputs": [
    {
     "name": "stdout",
     "output_type": "stream",
     "text": [
      "object\n"
     ]
    }
   ],
   "source": [
    "print(df[\"TOTAL ACTIVOS\"].dtypes)"
   ]
  },
  {
   "cell_type": "code",
   "execution_count": 163,
   "id": "c8f8a9e0-b9e7-42a4-bf11-eb7999b99a7c",
   "metadata": {},
   "outputs": [
    {
     "name": "stdout",
     "output_type": "stream",
     "text": [
      "<class 'pandas.core.frame.DataFrame'>\n",
      "RangeIndex: 20000 entries, 0 to 19999\n",
      "Data columns (total 14 columns):\n",
      " #   Column                  Non-Null Count  Dtype \n",
      "---  ------                  --------------  ----- \n",
      " 0   NIT                     20000 non-null  int64 \n",
      " 1   RAZÓN SOCIAL            19998 non-null  object\n",
      " 2   SUPERVISOR              20000 non-null  object\n",
      " 3   REGIÓN                  20000 non-null  object\n",
      " 4   DEPARTAMENTO DOMICILIO  20000 non-null  object\n",
      " 5   CIUDAD DOMICILIO        20000 non-null  object\n",
      " 6   CIIU                    20000 non-null  int64 \n",
      " 7   MACROSECTOR             20000 non-null  object\n",
      " 8   INGRESOS OPERACIONALES  20000 non-null  object\n",
      " 9   GANANCIA (PÉRDIDA)      20000 non-null  object\n",
      " 10  TOTAL ACTIVOS           20000 non-null  object\n",
      " 11  TOTAL PASIVOS           20000 non-null  object\n",
      " 12  TOTAL PATRIMONIO        20000 non-null  object\n",
      " 13  Año de Corte            20000 non-null  int64 \n",
      "dtypes: int64(3), object(11)\n",
      "memory usage: 2.1+ MB\n"
     ]
    }
   ],
   "source": [
    "#Verificación incial del tipo de datos\n",
    "df.info()"
   ]
  },
  {
   "cell_type": "code",
   "execution_count": 171,
   "id": "614d6ab8-7e44-4845-8aec-fe8d7fdb8307",
   "metadata": {},
   "outputs": [],
   "source": [
    "#transformación del tipo de dato de string a float, para las variables númericas.\n",
    "df['INGRESOS OPERACIONALES'] = df['INGRESOS OPERACIONALES'].astype(float)\n",
    "df['GANANCIA (PÉRDIDA)'] = df['GANANCIA (PÉRDIDA)'].astype(float)\n",
    "df['TOTAL ACTIVOS'] = df['TOTAL ACTIVOS'].astype(float)\n",
    "df['TOTAL PASIVOS'] = df['TOTAL PASIVOS'].astype(float)\n",
    "df['TOTAL PATRIMONIO'] = df['TOTAL PATRIMONIO'].astype(float)"
   ]
  },
  {
   "cell_type": "code",
   "execution_count": 173,
   "id": "6d361b07-6ac8-4a5a-92cc-d2e588d7c15b",
   "metadata": {},
   "outputs": [
    {
     "name": "stdout",
     "output_type": "stream",
     "text": [
      "<class 'pandas.core.frame.DataFrame'>\n",
      "RangeIndex: 20000 entries, 0 to 19999\n",
      "Data columns (total 14 columns):\n",
      " #   Column                  Non-Null Count  Dtype  \n",
      "---  ------                  --------------  -----  \n",
      " 0   NIT                     20000 non-null  int64  \n",
      " 1   RAZÓN SOCIAL            19998 non-null  object \n",
      " 2   SUPERVISOR              20000 non-null  object \n",
      " 3   REGIÓN                  20000 non-null  object \n",
      " 4   DEPARTAMENTO DOMICILIO  20000 non-null  object \n",
      " 5   CIUDAD DOMICILIO        20000 non-null  object \n",
      " 6   CIIU                    20000 non-null  int64  \n",
      " 7   MACROSECTOR             20000 non-null  object \n",
      " 8   INGRESOS OPERACIONALES  20000 non-null  float64\n",
      " 9   GANANCIA (PÉRDIDA)      20000 non-null  float64\n",
      " 10  TOTAL ACTIVOS           20000 non-null  float64\n",
      " 11  TOTAL PASIVOS           20000 non-null  float64\n",
      " 12  TOTAL PATRIMONIO        20000 non-null  float64\n",
      " 13  Año de Corte            20000 non-null  int64  \n",
      "dtypes: float64(5), int64(3), object(6)\n",
      "memory usage: 2.1+ MB\n"
     ]
    }
   ],
   "source": [
    "#Vefificación de que la variable cambió de tipo de dato\n",
    "df.info()"
   ]
  },
  {
   "cell_type": "code",
   "execution_count": null,
   "id": "f7ca2fd8-cb06-42ab-ac3f-f75a53265313",
   "metadata": {},
   "outputs": [],
   "source": []
  }
 ],
 "metadata": {
  "kernelspec": {
   "display_name": "Python 3 (ipykernel)",
   "language": "python",
   "name": "python3"
  },
  "language_info": {
   "codemirror_mode": {
    "name": "ipython",
    "version": 3
   },
   "file_extension": ".py",
   "mimetype": "text/x-python",
   "name": "python",
   "nbconvert_exporter": "python",
   "pygments_lexer": "ipython3",
   "version": "3.12.4"
  }
 },
 "nbformat": 4,
 "nbformat_minor": 5
}
